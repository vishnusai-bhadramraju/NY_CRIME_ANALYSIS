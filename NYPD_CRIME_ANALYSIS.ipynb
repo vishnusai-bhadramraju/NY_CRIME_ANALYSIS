{
 "cells": [
  {
   "cell_type": "code",
   "execution_count": 134,
   "metadata": {
    "id": "MXGpFkPu6xNN"
   },
   "outputs": [],
   "source": [
    "import pandas as pd\n",
    "import numpy as np\n",
    "import matplotlib.pyplot as plt\n",
    "import seaborn as sns\n",
    "import datetime as dt"
   ]
  },
  {
   "cell_type": "markdown",
   "metadata": {
    "id": "0MAeuMEQZZTr"
   },
   "source": [
    "# NOTE: We are using 'data' as ame for  dataframe for visualization and we are using df_final as a name for dataframe for modeling and predicting"
   ]
  },
  {
   "cell_type": "markdown",
   "metadata": {
    "id": "M3eZzhygYF-3"
   },
   "source": [
    "#DATALOADING"
   ]
  },
  {
   "cell_type": "code",
   "execution_count": 135,
   "metadata": {
    "id": "waLNLPC766Hu"
   },
   "outputs": [],
   "source": [
    "df = pd.read_csv(\"NYPD.csv\")"
   ]
  },
  {
   "cell_type": "code",
   "execution_count": 136,
   "metadata": {
    "colab": {
     "base_uri": "https://localhost:8080/",
     "height": 534
    },
    "id": "vDCPZPWS68zR",
    "outputId": "ea7c0849-293e-4d58-842d-a565b3d38d7c"
   },
   "outputs": [
    {
     "data": {
      "application/vnd.google.colaboratory.intrinsic+json": {
       "type": "dataframe"
      },
      "text/html": [
       "\n",
       "  <div id=\"df-9ade7e08-5be8-4be5-8ada-4f9e7303ca8d\" class=\"colab-df-container\">\n",
       "    <div>\n",
       "<style scoped>\n",
       "    .dataframe tbody tr th:only-of-type {\n",
       "        vertical-align: middle;\n",
       "    }\n",
       "\n",
       "    .dataframe tbody tr th {\n",
       "        vertical-align: top;\n",
       "    }\n",
       "\n",
       "    .dataframe thead th {\n",
       "        text-align: right;\n",
       "    }\n",
       "</style>\n",
       "<table border=\"1\" class=\"dataframe\">\n",
       "  <thead>\n",
       "    <tr style=\"text-align: right;\">\n",
       "      <th></th>\n",
       "      <th>CMPLNT_NUM</th>\n",
       "      <th>ADDR_PCT_CD</th>\n",
       "      <th>BORO_NM</th>\n",
       "      <th>CMPLNT_FR_DT</th>\n",
       "      <th>CMPLNT_FR_TM</th>\n",
       "      <th>CMPLNT_TO_DT</th>\n",
       "      <th>CMPLNT_TO_TM</th>\n",
       "      <th>CRM_ATPT_CPTD_CD</th>\n",
       "      <th>HADEVELOPT</th>\n",
       "      <th>HOUSING_PSA</th>\n",
       "      <th>...</th>\n",
       "      <th>TRANSIT_DISTRICT</th>\n",
       "      <th>VIC_AGE_GROUP</th>\n",
       "      <th>VIC_RACE</th>\n",
       "      <th>VIC_SEX</th>\n",
       "      <th>X_COORD_CD</th>\n",
       "      <th>Y_COORD_CD</th>\n",
       "      <th>Latitude</th>\n",
       "      <th>Longitude</th>\n",
       "      <th>Lat_Lon</th>\n",
       "      <th>New Georeferenced Column</th>\n",
       "    </tr>\n",
       "  </thead>\n",
       "  <tbody>\n",
       "    <tr>\n",
       "      <th>0</th>\n",
       "      <td>269235387</td>\n",
       "      <td>42.0</td>\n",
       "      <td>BRONX</td>\n",
       "      <td>06/03/2023</td>\n",
       "      <td>01:00:00</td>\n",
       "      <td>NaN</td>\n",
       "      <td>(null)</td>\n",
       "      <td>COMPLETED</td>\n",
       "      <td>(null)</td>\n",
       "      <td>NaN</td>\n",
       "      <td>...</td>\n",
       "      <td>NaN</td>\n",
       "      <td>25-44</td>\n",
       "      <td>BLACK HISPANIC</td>\n",
       "      <td>M</td>\n",
       "      <td>1011982.0</td>\n",
       "      <td>239520.0</td>\n",
       "      <td>40.824059</td>\n",
       "      <td>-73.899799</td>\n",
       "      <td>(40.82405906, -73.89979939)</td>\n",
       "      <td>POINT (-73.89979939 40.82405906)</td>\n",
       "    </tr>\n",
       "    <tr>\n",
       "      <th>1</th>\n",
       "      <td>262102261</td>\n",
       "      <td>43.0</td>\n",
       "      <td>BRONX</td>\n",
       "      <td>01/18/2023</td>\n",
       "      <td>14:00:00</td>\n",
       "      <td>NaN</td>\n",
       "      <td>(null)</td>\n",
       "      <td>COMPLETED</td>\n",
       "      <td>(null)</td>\n",
       "      <td>NaN</td>\n",
       "      <td>...</td>\n",
       "      <td>NaN</td>\n",
       "      <td>UNKNOWN</td>\n",
       "      <td>UNKNOWN</td>\n",
       "      <td>E</td>\n",
       "      <td>1019635.0</td>\n",
       "      <td>243829.0</td>\n",
       "      <td>40.835859</td>\n",
       "      <td>-73.872125</td>\n",
       "      <td>(40.83585867, -73.87212505)</td>\n",
       "      <td>POINT (-73.87212505 40.83585867)</td>\n",
       "    </tr>\n",
       "    <tr>\n",
       "      <th>2</th>\n",
       "      <td>267972239</td>\n",
       "      <td>43.0</td>\n",
       "      <td>BRONX</td>\n",
       "      <td>05/07/2023</td>\n",
       "      <td>00:15:00</td>\n",
       "      <td>NaN</td>\n",
       "      <td>(null)</td>\n",
       "      <td>COMPLETED</td>\n",
       "      <td>(null)</td>\n",
       "      <td>NaN</td>\n",
       "      <td>...</td>\n",
       "      <td>NaN</td>\n",
       "      <td>25-44</td>\n",
       "      <td>BLACK</td>\n",
       "      <td>F</td>\n",
       "      <td>1022051.0</td>\n",
       "      <td>242244.0</td>\n",
       "      <td>40.831500</td>\n",
       "      <td>-73.863400</td>\n",
       "      <td>(40.8315, -73.8634)</td>\n",
       "      <td>POINT (-73.8634 40.8315)</td>\n",
       "    </tr>\n",
       "    <tr>\n",
       "      <th>3</th>\n",
       "      <td>263141402H1</td>\n",
       "      <td>NaN</td>\n",
       "      <td>BROOKLYN</td>\n",
       "      <td>02/06/2023</td>\n",
       "      <td>10:16:00</td>\n",
       "      <td>NaN</td>\n",
       "      <td>(null)</td>\n",
       "      <td>COMPLETED</td>\n",
       "      <td>(null)</td>\n",
       "      <td>NaN</td>\n",
       "      <td>...</td>\n",
       "      <td>NaN</td>\n",
       "      <td>18-24</td>\n",
       "      <td>BLACK</td>\n",
       "      <td>M</td>\n",
       "      <td>NaN</td>\n",
       "      <td>NaN</td>\n",
       "      <td>NaN</td>\n",
       "      <td>NaN</td>\n",
       "      <td>NaN</td>\n",
       "      <td>NaN</td>\n",
       "    </tr>\n",
       "    <tr>\n",
       "      <th>4</th>\n",
       "      <td>269307857H1</td>\n",
       "      <td>NaN</td>\n",
       "      <td>BROOKLYN</td>\n",
       "      <td>06/04/2023</td>\n",
       "      <td>00:20:00</td>\n",
       "      <td>NaN</td>\n",
       "      <td>(null)</td>\n",
       "      <td>COMPLETED</td>\n",
       "      <td>(null)</td>\n",
       "      <td>NaN</td>\n",
       "      <td>...</td>\n",
       "      <td>NaN</td>\n",
       "      <td>25-44</td>\n",
       "      <td>BLACK</td>\n",
       "      <td>M</td>\n",
       "      <td>NaN</td>\n",
       "      <td>NaN</td>\n",
       "      <td>NaN</td>\n",
       "      <td>NaN</td>\n",
       "      <td>NaN</td>\n",
       "      <td>NaN</td>\n",
       "    </tr>\n",
       "    <tr>\n",
       "      <th>5</th>\n",
       "      <td>277525074H3</td>\n",
       "      <td>NaN</td>\n",
       "      <td>QUEENS</td>\n",
       "      <td>11/14/2023</td>\n",
       "      <td>07:05:00</td>\n",
       "      <td>NaN</td>\n",
       "      <td>(null)</td>\n",
       "      <td>COMPLETED</td>\n",
       "      <td>(null)</td>\n",
       "      <td>NaN</td>\n",
       "      <td>...</td>\n",
       "      <td>NaN</td>\n",
       "      <td>45-64</td>\n",
       "      <td>BLACK</td>\n",
       "      <td>M</td>\n",
       "      <td>NaN</td>\n",
       "      <td>NaN</td>\n",
       "      <td>NaN</td>\n",
       "      <td>NaN</td>\n",
       "      <td>NaN</td>\n",
       "      <td>NaN</td>\n",
       "    </tr>\n",
       "    <tr>\n",
       "      <th>6</th>\n",
       "      <td>277525074H1</td>\n",
       "      <td>NaN</td>\n",
       "      <td>QUEENS</td>\n",
       "      <td>11/14/2023</td>\n",
       "      <td>07:05:00</td>\n",
       "      <td>NaN</td>\n",
       "      <td>(null)</td>\n",
       "      <td>COMPLETED</td>\n",
       "      <td>(null)</td>\n",
       "      <td>NaN</td>\n",
       "      <td>...</td>\n",
       "      <td>NaN</td>\n",
       "      <td>45-64</td>\n",
       "      <td>BLACK</td>\n",
       "      <td>F</td>\n",
       "      <td>NaN</td>\n",
       "      <td>NaN</td>\n",
       "      <td>NaN</td>\n",
       "      <td>NaN</td>\n",
       "      <td>NaN</td>\n",
       "      <td>NaN</td>\n",
       "    </tr>\n",
       "    <tr>\n",
       "      <th>7</th>\n",
       "      <td>271421229H1</td>\n",
       "      <td>NaN</td>\n",
       "      <td>BROOKLYN</td>\n",
       "      <td>07/05/2020</td>\n",
       "      <td>21:45:00</td>\n",
       "      <td>NaN</td>\n",
       "      <td>(null)</td>\n",
       "      <td>COMPLETED</td>\n",
       "      <td>NOSTRAND</td>\n",
       "      <td>1696.0</td>\n",
       "      <td>...</td>\n",
       "      <td>NaN</td>\n",
       "      <td>25-44</td>\n",
       "      <td>BLACK</td>\n",
       "      <td>M</td>\n",
       "      <td>NaN</td>\n",
       "      <td>NaN</td>\n",
       "      <td>NaN</td>\n",
       "      <td>NaN</td>\n",
       "      <td>NaN</td>\n",
       "      <td>NaN</td>\n",
       "    </tr>\n",
       "    <tr>\n",
       "      <th>8</th>\n",
       "      <td>270206142H1</td>\n",
       "      <td>NaN</td>\n",
       "      <td>MANHATTAN</td>\n",
       "      <td>06/21/2023</td>\n",
       "      <td>16:25:00</td>\n",
       "      <td>NaN</td>\n",
       "      <td>(null)</td>\n",
       "      <td>COMPLETED</td>\n",
       "      <td>(null)</td>\n",
       "      <td>NaN</td>\n",
       "      <td>...</td>\n",
       "      <td>NaN</td>\n",
       "      <td>25-44</td>\n",
       "      <td>BLACK</td>\n",
       "      <td>M</td>\n",
       "      <td>NaN</td>\n",
       "      <td>NaN</td>\n",
       "      <td>NaN</td>\n",
       "      <td>NaN</td>\n",
       "      <td>NaN</td>\n",
       "      <td>NaN</td>\n",
       "    </tr>\n",
       "    <tr>\n",
       "      <th>9</th>\n",
       "      <td>278972931</td>\n",
       "      <td>123.0</td>\n",
       "      <td>STATEN ISLAND</td>\n",
       "      <td>12/14/2023</td>\n",
       "      <td>02:50:00</td>\n",
       "      <td>12/14/2023</td>\n",
       "      <td>02:52:00</td>\n",
       "      <td>COMPLETED</td>\n",
       "      <td>(null)</td>\n",
       "      <td>NaN</td>\n",
       "      <td>...</td>\n",
       "      <td>NaN</td>\n",
       "      <td>UNKNOWN</td>\n",
       "      <td>UNKNOWN</td>\n",
       "      <td>E</td>\n",
       "      <td>934105.0</td>\n",
       "      <td>138444.0</td>\n",
       "      <td>40.546531</td>\n",
       "      <td>-74.180430</td>\n",
       "      <td>(40.54653060020265, -74.18043031626128)</td>\n",
       "      <td>POINT (-74.18043031626128 40.54653060020265)</td>\n",
       "    </tr>\n",
       "  </tbody>\n",
       "</table>\n",
       "<p>10 rows × 36 columns</p>\n",
       "</div>\n",
       "    <div class=\"colab-df-buttons\">\n",
       "\n",
       "  <div class=\"colab-df-container\">\n",
       "    <button class=\"colab-df-convert\" onclick=\"convertToInteractive('df-9ade7e08-5be8-4be5-8ada-4f9e7303ca8d')\"\n",
       "            title=\"Convert this dataframe to an interactive table.\"\n",
       "            style=\"display:none;\">\n",
       "\n",
       "  <svg xmlns=\"http://www.w3.org/2000/svg\" height=\"24px\" viewBox=\"0 -960 960 960\">\n",
       "    <path d=\"M120-120v-720h720v720H120Zm60-500h600v-160H180v160Zm220 220h160v-160H400v160Zm0 220h160v-160H400v160ZM180-400h160v-160H180v160Zm440 0h160v-160H620v160ZM180-180h160v-160H180v160Zm440 0h160v-160H620v160Z\"/>\n",
       "  </svg>\n",
       "    </button>\n",
       "\n",
       "  <style>\n",
       "    .colab-df-container {\n",
       "      display:flex;\n",
       "      gap: 12px;\n",
       "    }\n",
       "\n",
       "    .colab-df-convert {\n",
       "      background-color: #E8F0FE;\n",
       "      border: none;\n",
       "      border-radius: 50%;\n",
       "      cursor: pointer;\n",
       "      display: none;\n",
       "      fill: #1967D2;\n",
       "      height: 32px;\n",
       "      padding: 0 0 0 0;\n",
       "      width: 32px;\n",
       "    }\n",
       "\n",
       "    .colab-df-convert:hover {\n",
       "      background-color: #E2EBFA;\n",
       "      box-shadow: 0px 1px 2px rgba(60, 64, 67, 0.3), 0px 1px 3px 1px rgba(60, 64, 67, 0.15);\n",
       "      fill: #174EA6;\n",
       "    }\n",
       "\n",
       "    .colab-df-buttons div {\n",
       "      margin-bottom: 4px;\n",
       "    }\n",
       "\n",
       "    [theme=dark] .colab-df-convert {\n",
       "      background-color: #3B4455;\n",
       "      fill: #D2E3FC;\n",
       "    }\n",
       "\n",
       "    [theme=dark] .colab-df-convert:hover {\n",
       "      background-color: #434B5C;\n",
       "      box-shadow: 0px 1px 3px 1px rgba(0, 0, 0, 0.15);\n",
       "      filter: drop-shadow(0px 1px 2px rgba(0, 0, 0, 0.3));\n",
       "      fill: #FFFFFF;\n",
       "    }\n",
       "  </style>\n",
       "\n",
       "    <script>\n",
       "      const buttonEl =\n",
       "        document.querySelector('#df-9ade7e08-5be8-4be5-8ada-4f9e7303ca8d button.colab-df-convert');\n",
       "      buttonEl.style.display =\n",
       "        google.colab.kernel.accessAllowed ? 'block' : 'none';\n",
       "\n",
       "      async function convertToInteractive(key) {\n",
       "        const element = document.querySelector('#df-9ade7e08-5be8-4be5-8ada-4f9e7303ca8d');\n",
       "        const dataTable =\n",
       "          await google.colab.kernel.invokeFunction('convertToInteractive',\n",
       "                                                    [key], {});\n",
       "        if (!dataTable) return;\n",
       "\n",
       "        const docLinkHtml = 'Like what you see? Visit the ' +\n",
       "          '<a target=\"_blank\" href=https://colab.research.google.com/notebooks/data_table.ipynb>data table notebook</a>'\n",
       "          + ' to learn more about interactive tables.';\n",
       "        element.innerHTML = '';\n",
       "        dataTable['output_type'] = 'display_data';\n",
       "        await google.colab.output.renderOutput(dataTable, element);\n",
       "        const docLink = document.createElement('div');\n",
       "        docLink.innerHTML = docLinkHtml;\n",
       "        element.appendChild(docLink);\n",
       "      }\n",
       "    </script>\n",
       "  </div>\n",
       "\n",
       "\n",
       "<div id=\"df-5d9c1548-26fd-439c-97ca-1d090112cbfc\">\n",
       "  <button class=\"colab-df-quickchart\" onclick=\"quickchart('df-5d9c1548-26fd-439c-97ca-1d090112cbfc')\"\n",
       "            title=\"Suggest charts\"\n",
       "            style=\"display:none;\">\n",
       "\n",
       "<svg xmlns=\"http://www.w3.org/2000/svg\" height=\"24px\"viewBox=\"0 0 24 24\"\n",
       "     width=\"24px\">\n",
       "    <g>\n",
       "        <path d=\"M19 3H5c-1.1 0-2 .9-2 2v14c0 1.1.9 2 2 2h14c1.1 0 2-.9 2-2V5c0-1.1-.9-2-2-2zM9 17H7v-7h2v7zm4 0h-2V7h2v10zm4 0h-2v-4h2v4z\"/>\n",
       "    </g>\n",
       "</svg>\n",
       "  </button>\n",
       "\n",
       "<style>\n",
       "  .colab-df-quickchart {\n",
       "      --bg-color: #E8F0FE;\n",
       "      --fill-color: #1967D2;\n",
       "      --hover-bg-color: #E2EBFA;\n",
       "      --hover-fill-color: #174EA6;\n",
       "      --disabled-fill-color: #AAA;\n",
       "      --disabled-bg-color: #DDD;\n",
       "  }\n",
       "\n",
       "  [theme=dark] .colab-df-quickchart {\n",
       "      --bg-color: #3B4455;\n",
       "      --fill-color: #D2E3FC;\n",
       "      --hover-bg-color: #434B5C;\n",
       "      --hover-fill-color: #FFFFFF;\n",
       "      --disabled-bg-color: #3B4455;\n",
       "      --disabled-fill-color: #666;\n",
       "  }\n",
       "\n",
       "  .colab-df-quickchart {\n",
       "    background-color: var(--bg-color);\n",
       "    border: none;\n",
       "    border-radius: 50%;\n",
       "    cursor: pointer;\n",
       "    display: none;\n",
       "    fill: var(--fill-color);\n",
       "    height: 32px;\n",
       "    padding: 0;\n",
       "    width: 32px;\n",
       "  }\n",
       "\n",
       "  .colab-df-quickchart:hover {\n",
       "    background-color: var(--hover-bg-color);\n",
       "    box-shadow: 0 1px 2px rgba(60, 64, 67, 0.3), 0 1px 3px 1px rgba(60, 64, 67, 0.15);\n",
       "    fill: var(--button-hover-fill-color);\n",
       "  }\n",
       "\n",
       "  .colab-df-quickchart-complete:disabled,\n",
       "  .colab-df-quickchart-complete:disabled:hover {\n",
       "    background-color: var(--disabled-bg-color);\n",
       "    fill: var(--disabled-fill-color);\n",
       "    box-shadow: none;\n",
       "  }\n",
       "\n",
       "  .colab-df-spinner {\n",
       "    border: 2px solid var(--fill-color);\n",
       "    border-color: transparent;\n",
       "    border-bottom-color: var(--fill-color);\n",
       "    animation:\n",
       "      spin 1s steps(1) infinite;\n",
       "  }\n",
       "\n",
       "  @keyframes spin {\n",
       "    0% {\n",
       "      border-color: transparent;\n",
       "      border-bottom-color: var(--fill-color);\n",
       "      border-left-color: var(--fill-color);\n",
       "    }\n",
       "    20% {\n",
       "      border-color: transparent;\n",
       "      border-left-color: var(--fill-color);\n",
       "      border-top-color: var(--fill-color);\n",
       "    }\n",
       "    30% {\n",
       "      border-color: transparent;\n",
       "      border-left-color: var(--fill-color);\n",
       "      border-top-color: var(--fill-color);\n",
       "      border-right-color: var(--fill-color);\n",
       "    }\n",
       "    40% {\n",
       "      border-color: transparent;\n",
       "      border-right-color: var(--fill-color);\n",
       "      border-top-color: var(--fill-color);\n",
       "    }\n",
       "    60% {\n",
       "      border-color: transparent;\n",
       "      border-right-color: var(--fill-color);\n",
       "    }\n",
       "    80% {\n",
       "      border-color: transparent;\n",
       "      border-right-color: var(--fill-color);\n",
       "      border-bottom-color: var(--fill-color);\n",
       "    }\n",
       "    90% {\n",
       "      border-color: transparent;\n",
       "      border-bottom-color: var(--fill-color);\n",
       "    }\n",
       "  }\n",
       "</style>\n",
       "\n",
       "  <script>\n",
       "    async function quickchart(key) {\n",
       "      const quickchartButtonEl =\n",
       "        document.querySelector('#' + key + ' button');\n",
       "      quickchartButtonEl.disabled = true;  // To prevent multiple clicks.\n",
       "      quickchartButtonEl.classList.add('colab-df-spinner');\n",
       "      try {\n",
       "        const charts = await google.colab.kernel.invokeFunction(\n",
       "            'suggestCharts', [key], {});\n",
       "      } catch (error) {\n",
       "        console.error('Error during call to suggestCharts:', error);\n",
       "      }\n",
       "      quickchartButtonEl.classList.remove('colab-df-spinner');\n",
       "      quickchartButtonEl.classList.add('colab-df-quickchart-complete');\n",
       "    }\n",
       "    (() => {\n",
       "      let quickchartButtonEl =\n",
       "        document.querySelector('#df-5d9c1548-26fd-439c-97ca-1d090112cbfc button');\n",
       "      quickchartButtonEl.style.display =\n",
       "        google.colab.kernel.accessAllowed ? 'block' : 'none';\n",
       "    })();\n",
       "  </script>\n",
       "</div>\n",
       "\n",
       "    </div>\n",
       "  </div>\n"
      ],
      "text/plain": [
       "    CMPLNT_NUM  ADDR_PCT_CD        BORO_NM CMPLNT_FR_DT CMPLNT_FR_TM  \\\n",
       "0    269235387         42.0          BRONX   06/03/2023     01:00:00   \n",
       "1    262102261         43.0          BRONX   01/18/2023     14:00:00   \n",
       "2    267972239         43.0          BRONX   05/07/2023     00:15:00   \n",
       "3  263141402H1          NaN       BROOKLYN   02/06/2023     10:16:00   \n",
       "4  269307857H1          NaN       BROOKLYN   06/04/2023     00:20:00   \n",
       "5  277525074H3          NaN         QUEENS   11/14/2023     07:05:00   \n",
       "6  277525074H1          NaN         QUEENS   11/14/2023     07:05:00   \n",
       "7  271421229H1          NaN       BROOKLYN   07/05/2020     21:45:00   \n",
       "8  270206142H1          NaN      MANHATTAN   06/21/2023     16:25:00   \n",
       "9    278972931        123.0  STATEN ISLAND   12/14/2023     02:50:00   \n",
       "\n",
       "  CMPLNT_TO_DT CMPLNT_TO_TM CRM_ATPT_CPTD_CD HADEVELOPT  HOUSING_PSA  ...  \\\n",
       "0          NaN       (null)        COMPLETED     (null)          NaN  ...   \n",
       "1          NaN       (null)        COMPLETED     (null)          NaN  ...   \n",
       "2          NaN       (null)        COMPLETED     (null)          NaN  ...   \n",
       "3          NaN       (null)        COMPLETED     (null)          NaN  ...   \n",
       "4          NaN       (null)        COMPLETED     (null)          NaN  ...   \n",
       "5          NaN       (null)        COMPLETED     (null)          NaN  ...   \n",
       "6          NaN       (null)        COMPLETED     (null)          NaN  ...   \n",
       "7          NaN       (null)        COMPLETED   NOSTRAND       1696.0  ...   \n",
       "8          NaN       (null)        COMPLETED     (null)          NaN  ...   \n",
       "9   12/14/2023     02:52:00        COMPLETED     (null)          NaN  ...   \n",
       "\n",
       "   TRANSIT_DISTRICT VIC_AGE_GROUP        VIC_RACE VIC_SEX X_COORD_CD  \\\n",
       "0               NaN         25-44  BLACK HISPANIC       M  1011982.0   \n",
       "1               NaN       UNKNOWN         UNKNOWN       E  1019635.0   \n",
       "2               NaN         25-44           BLACK       F  1022051.0   \n",
       "3               NaN         18-24           BLACK       M        NaN   \n",
       "4               NaN         25-44           BLACK       M        NaN   \n",
       "5               NaN         45-64           BLACK       M        NaN   \n",
       "6               NaN         45-64           BLACK       F        NaN   \n",
       "7               NaN         25-44           BLACK       M        NaN   \n",
       "8               NaN         25-44           BLACK       M        NaN   \n",
       "9               NaN       UNKNOWN         UNKNOWN       E   934105.0   \n",
       "\n",
       "  Y_COORD_CD   Latitude  Longitude                                  Lat_Lon  \\\n",
       "0   239520.0  40.824059 -73.899799              (40.82405906, -73.89979939)   \n",
       "1   243829.0  40.835859 -73.872125              (40.83585867, -73.87212505)   \n",
       "2   242244.0  40.831500 -73.863400                      (40.8315, -73.8634)   \n",
       "3        NaN        NaN        NaN                                      NaN   \n",
       "4        NaN        NaN        NaN                                      NaN   \n",
       "5        NaN        NaN        NaN                                      NaN   \n",
       "6        NaN        NaN        NaN                                      NaN   \n",
       "7        NaN        NaN        NaN                                      NaN   \n",
       "8        NaN        NaN        NaN                                      NaN   \n",
       "9   138444.0  40.546531 -74.180430  (40.54653060020265, -74.18043031626128)   \n",
       "\n",
       "                       New Georeferenced Column  \n",
       "0              POINT (-73.89979939 40.82405906)  \n",
       "1              POINT (-73.87212505 40.83585867)  \n",
       "2                      POINT (-73.8634 40.8315)  \n",
       "3                                           NaN  \n",
       "4                                           NaN  \n",
       "5                                           NaN  \n",
       "6                                           NaN  \n",
       "7                                           NaN  \n",
       "8                                           NaN  \n",
       "9  POINT (-74.18043031626128 40.54653060020265)  \n",
       "\n",
       "[10 rows x 36 columns]"
      ]
     },
     "metadata": {},
     "output_type": "display_data"
    }
   ],
   "source": [
    "df.head()\n",
    "display(df.head(10))"
   ]
  },
  {
   "cell_type": "code",
   "execution_count": 137,
   "metadata": {
    "colab": {
     "base_uri": "https://localhost:8080/"
    },
    "id": "zhBbLYg_79qJ",
    "outputId": "7fc13b76-9294-41e8-8f94-0deca503e9d5"
   },
   "outputs": [
    {
     "data": {
      "text/plain": [
       "Index(['CMPLNT_NUM', 'ADDR_PCT_CD', 'BORO_NM', 'CMPLNT_FR_DT', 'CMPLNT_FR_TM',\n",
       "       'CMPLNT_TO_DT', 'CMPLNT_TO_TM', 'CRM_ATPT_CPTD_CD', 'HADEVELOPT',\n",
       "       'HOUSING_PSA', 'JURISDICTION_CODE', 'JURIS_DESC', 'KY_CD', 'LAW_CAT_CD',\n",
       "       'LOC_OF_OCCUR_DESC', 'OFNS_DESC', 'PARKS_NM', 'PATROL_BORO', 'PD_CD',\n",
       "       'PD_DESC', 'PREM_TYP_DESC', 'RPT_DT', 'STATION_NAME', 'SUSP_AGE_GROUP',\n",
       "       'SUSP_RACE', 'SUSP_SEX', 'TRANSIT_DISTRICT', 'VIC_AGE_GROUP',\n",
       "       'VIC_RACE', 'VIC_SEX', 'X_COORD_CD', 'Y_COORD_CD', 'Latitude',\n",
       "       'Longitude', 'Lat_Lon', 'New Georeferenced Column'],\n",
       "      dtype='object')"
      ]
     },
     "execution_count": 137,
     "metadata": {},
     "output_type": "execute_result"
    }
   ],
   "source": [
    "df.columns"
   ]
  },
  {
   "cell_type": "code",
   "execution_count": 138,
   "metadata": {
    "colab": {
     "base_uri": "https://localhost:8080/"
    },
    "id": "54lefoi39Eoo",
    "outputId": "ce54db0e-4e1b-4c51-fa1e-4700d7f6f502"
   },
   "outputs": [
    {
     "data": {
      "text/plain": [
       "CMPLNT_NUM                       0\n",
       "ADDR_PCT_CD                     70\n",
       "BORO_NM                          0\n",
       "CMPLNT_FR_DT                     0\n",
       "CMPLNT_FR_TM                     0\n",
       "CMPLNT_TO_DT                 34738\n",
       "CMPLNT_TO_TM                     0\n",
       "CRM_ATPT_CPTD_CD                 0\n",
       "HADEVELOPT                       0\n",
       "HOUSING_PSA                 519092\n",
       "JURISDICTION_CODE                0\n",
       "JURIS_DESC                       0\n",
       "KY_CD                            0\n",
       "LAW_CAT_CD                       0\n",
       "LOC_OF_OCCUR_DESC                0\n",
       "OFNS_DESC                        0\n",
       "PARKS_NM                         0\n",
       "PATROL_BORO                      0\n",
       "PD_CD                          386\n",
       "PD_DESC                          0\n",
       "PREM_TYP_DESC                    0\n",
       "RPT_DT                           0\n",
       "STATION_NAME                     0\n",
       "SUSP_AGE_GROUP                   0\n",
       "SUSP_RACE                        0\n",
       "SUSP_SEX                         0\n",
       "TRANSIT_DISTRICT            540384\n",
       "VIC_AGE_GROUP                    0\n",
       "VIC_RACE                         0\n",
       "VIC_SEX                          0\n",
       "X_COORD_CD                      12\n",
       "Y_COORD_CD                      12\n",
       "Latitude                        12\n",
       "Longitude                       12\n",
       "Lat_Lon                         12\n",
       "New Georeferenced Column        12\n",
       "dtype: int64"
      ]
     },
     "execution_count": 138,
     "metadata": {},
     "output_type": "execute_result"
    }
   ],
   "source": [
    "df.isnull().sum()"
   ]
  },
  {
   "cell_type": "code",
   "execution_count": 139,
   "metadata": {
    "colab": {
     "base_uri": "https://localhost:8080/"
    },
    "id": "7OQOheTR9Wg3",
    "outputId": "834fb689-495b-4c8c-d580-c4fc67c6ec99"
   },
   "outputs": [
    {
     "name": "stdout",
     "output_type": "stream",
     "text": [
      "<class 'pandas.core.frame.DataFrame'>\n",
      "RangeIndex: 555117 entries, 0 to 555116\n",
      "Data columns (total 36 columns):\n",
      " #   Column                    Non-Null Count   Dtype  \n",
      "---  ------                    --------------   -----  \n",
      " 0   CMPLNT_NUM                555117 non-null  object \n",
      " 1   ADDR_PCT_CD               555047 non-null  float64\n",
      " 2   BORO_NM                   555117 non-null  object \n",
      " 3   CMPLNT_FR_DT              555117 non-null  object \n",
      " 4   CMPLNT_FR_TM              555117 non-null  object \n",
      " 5   CMPLNT_TO_DT              520379 non-null  object \n",
      " 6   CMPLNT_TO_TM              555117 non-null  object \n",
      " 7   CRM_ATPT_CPTD_CD          555117 non-null  object \n",
      " 8   HADEVELOPT                555117 non-null  object \n",
      " 9   HOUSING_PSA               36025 non-null   float64\n",
      " 10  JURISDICTION_CODE         555117 non-null  int64  \n",
      " 11  JURIS_DESC                555117 non-null  object \n",
      " 12  KY_CD                     555117 non-null  int64  \n",
      " 13  LAW_CAT_CD                555117 non-null  object \n",
      " 14  LOC_OF_OCCUR_DESC         555117 non-null  object \n",
      " 15  OFNS_DESC                 555117 non-null  object \n",
      " 16  PARKS_NM                  555117 non-null  object \n",
      " 17  PATROL_BORO               555117 non-null  object \n",
      " 18  PD_CD                     554731 non-null  float64\n",
      " 19  PD_DESC                   555117 non-null  object \n",
      " 20  PREM_TYP_DESC             555117 non-null  object \n",
      " 21  RPT_DT                    555117 non-null  object \n",
      " 22  STATION_NAME              555117 non-null  object \n",
      " 23  SUSP_AGE_GROUP            555117 non-null  object \n",
      " 24  SUSP_RACE                 555117 non-null  object \n",
      " 25  SUSP_SEX                  555117 non-null  object \n",
      " 26  TRANSIT_DISTRICT          14733 non-null   float64\n",
      " 27  VIC_AGE_GROUP             555117 non-null  object \n",
      " 28  VIC_RACE                  555117 non-null  object \n",
      " 29  VIC_SEX                   555117 non-null  object \n",
      " 30  X_COORD_CD                555105 non-null  float64\n",
      " 31  Y_COORD_CD                555105 non-null  float64\n",
      " 32  Latitude                  555105 non-null  float64\n",
      " 33  Longitude                 555105 non-null  float64\n",
      " 34  Lat_Lon                   555105 non-null  object \n",
      " 35  New Georeferenced Column  555105 non-null  object \n",
      "dtypes: float64(8), int64(2), object(26)\n",
      "memory usage: 152.5+ MB\n"
     ]
    }
   ],
   "source": [
    "df.info()"
   ]
  },
  {
   "cell_type": "markdown",
   "metadata": {
    "id": "PRQy6QOOYJiK"
   },
   "source": [
    "# DATA CLEANING"
   ]
  },
  {
   "cell_type": "code",
   "execution_count": 140,
   "metadata": {
    "id": "0RPpAmHm9sHi"
   },
   "outputs": [],
   "source": [
    "df.drop(columns=['HOUSING_PSA','TRANSIT_DISTRICT'],inplace=True)\n",
    "# The below all are internal classification and the columsn vals exist in other columns\n",
    "df.drop(columns=['KY_CD','PD_DESC','PD_CD'],inplace=True)"
   ]
  },
  {
   "cell_type": "code",
   "execution_count": 141,
   "metadata": {
    "id": "5ePAkwin98cm"
   },
   "outputs": [],
   "source": [
    "df['ADDR_PCT_CD']= df['ADDR_PCT_CD'].fillna(df.ADDR_PCT_CD.median())"
   ]
  },
  {
   "cell_type": "code",
   "execution_count": 142,
   "metadata": {
    "id": "Sp-GDE8V-CXX"
   },
   "outputs": [],
   "source": [
    "# We have no use for\n",
    "df.drop(columns=['X_COORD_CD','Y_COORD_CD','Lat_Lon','New Georeferenced Column'],inplace=True)"
   ]
  },
  {
   "cell_type": "code",
   "execution_count": 143,
   "metadata": {
    "id": "N3gOhs5hBsfX"
   },
   "outputs": [],
   "source": [
    "# dropping nulls\n",
    "df.dropna(inplace= True)"
   ]
  },
  {
   "cell_type": "code",
   "execution_count": 144,
   "metadata": {
    "colab": {
     "base_uri": "https://localhost:8080/"
    },
    "id": "f-MysSyMCWCH",
    "outputId": "7a5ae89e-4673-4025-dbfd-4586aa48ffd2"
   },
   "outputs": [
    {
     "data": {
      "text/plain": [
       "(520379, 27)"
      ]
     },
     "execution_count": 144,
     "metadata": {},
     "output_type": "execute_result"
    }
   ],
   "source": [
    "df.shape"
   ]
  },
  {
   "cell_type": "code",
   "execution_count": 145,
   "metadata": {
    "id": "O5LIE29_ChlZ"
   },
   "outputs": [],
   "source": [
    "# we have total nulls below\n",
    "df.drop(columns=['PARKS_NM','HADEVELOPT','STATION_NAME'],inplace=True)"
   ]
  },
  {
   "cell_type": "code",
   "execution_count": 146,
   "metadata": {
    "colab": {
     "base_uri": "https://localhost:8080/"
    },
    "id": "29RH3Nf6C1LS",
    "outputId": "1c6a2cc6-d07d-4098-af19-a2fc9b5b6d3d"
   },
   "outputs": [
    {
     "name": "stdout",
     "output_type": "stream",
     "text": [
      "<class 'pandas.core.frame.DataFrame'>\n",
      "Index: 520379 entries, 9 to 555116\n",
      "Data columns (total 24 columns):\n",
      " #   Column             Non-Null Count   Dtype  \n",
      "---  ------             --------------   -----  \n",
      " 0   CMPLNT_NUM         520379 non-null  object \n",
      " 1   ADDR_PCT_CD        520379 non-null  float64\n",
      " 2   BORO_NM            520379 non-null  object \n",
      " 3   CMPLNT_FR_DT       520379 non-null  object \n",
      " 4   CMPLNT_FR_TM       520379 non-null  object \n",
      " 5   CMPLNT_TO_DT       520379 non-null  object \n",
      " 6   CMPLNT_TO_TM       520379 non-null  object \n",
      " 7   CRM_ATPT_CPTD_CD   520379 non-null  object \n",
      " 8   JURISDICTION_CODE  520379 non-null  int64  \n",
      " 9   JURIS_DESC         520379 non-null  object \n",
      " 10  LAW_CAT_CD         520379 non-null  object \n",
      " 11  LOC_OF_OCCUR_DESC  520379 non-null  object \n",
      " 12  OFNS_DESC          520379 non-null  object \n",
      " 13  PATROL_BORO        520379 non-null  object \n",
      " 14  PREM_TYP_DESC      520379 non-null  object \n",
      " 15  RPT_DT             520379 non-null  object \n",
      " 16  SUSP_AGE_GROUP     520379 non-null  object \n",
      " 17  SUSP_RACE          520379 non-null  object \n",
      " 18  SUSP_SEX           520379 non-null  object \n",
      " 19  VIC_AGE_GROUP      520379 non-null  object \n",
      " 20  VIC_RACE           520379 non-null  object \n",
      " 21  VIC_SEX            520379 non-null  object \n",
      " 22  Latitude           520379 non-null  float64\n",
      " 23  Longitude          520379 non-null  float64\n",
      "dtypes: float64(3), int64(1), object(20)\n",
      "memory usage: 99.3+ MB\n"
     ]
    }
   ],
   "source": [
    "df.info()"
   ]
  },
  {
   "cell_type": "code",
   "execution_count": 147,
   "metadata": {
    "colab": {
     "base_uri": "https://localhost:8080/"
    },
    "id": "5Zo0zN3NC6x7",
    "outputId": "dba558f0-6840-4e54-94e0-1a50664d4774"
   },
   "outputs": [
    {
     "name": "stderr",
     "output_type": "stream",
     "text": [
      "<ipython-input-147-b1ca1df5cea0>:3: UserWarning: Could not infer format, so each element will be parsed individually, falling back to `dateutil`. To ensure parsing is consistent and as-expected, please specify a format.\n",
      "  df['CMPLNT_FR_TM'] = pd.to_datetime(df['CMPLNT_FR_TM'], errors='coerce')\n",
      "<ipython-input-147-b1ca1df5cea0>:5: UserWarning: Could not infer format, so each element will be parsed individually, falling back to `dateutil`. To ensure parsing is consistent and as-expected, please specify a format.\n",
      "  df['CMPLNT_TO_TM'] = pd.to_datetime(df['CMPLNT_TO_TM'], errors='coerce')\n"
     ]
    }
   ],
   "source": [
    "#converting to datetime\n",
    "df['CMPLNT_FR_DT'] = pd.to_datetime(df['CMPLNT_FR_DT'], errors='coerce')\n",
    "df['CMPLNT_FR_TM'] = pd.to_datetime(df['CMPLNT_FR_TM'], errors='coerce')\n",
    "df['CMPLNT_TO_DT'] = pd.to_datetime(df['CMPLNT_TO_DT'], errors='coerce')\n",
    "df['CMPLNT_TO_TM'] = pd.to_datetime(df['CMPLNT_TO_TM'], errors='coerce')"
   ]
  },
  {
   "cell_type": "code",
   "execution_count": 148,
   "metadata": {
    "id": "1bpwxggVDjil"
   },
   "outputs": [],
   "source": [
    "df1 =df.copy()\n",
    "df1['duration'] = df['CMPLNT_TO_DT']-df['CMPLNT_FR_DT']"
   ]
  },
  {
   "cell_type": "code",
   "execution_count": 149,
   "metadata": {
    "colab": {
     "base_uri": "https://localhost:8080/"
    },
    "id": "xtLgp4ULDruo",
    "outputId": "5e4b8de0-01a9-49c7-9c95-ffaa0e1d77cc"
   },
   "outputs": [
    {
     "data": {
      "text/plain": [
       "<TimedeltaArray>\n",
       "[    '0 days',     '1 days',     '2 days',   '305 days',     '9 days',\n",
       "    '19 days',    '10 days',     '4 days',   '160 days',    '25 days',\n",
       " ...\n",
       "  '1983 days', '10081 days',  '1117 days',  '1026 days',  '1896 days',\n",
       "  '3942 days',   '818 days',  '1499 days',   '876 days',  '1158 days']\n",
       "Length: 1256, dtype: timedelta64[ns]"
      ]
     },
     "execution_count": 149,
     "metadata": {},
     "output_type": "execute_result"
    }
   ],
   "source": [
    "df1['duration'].unique()"
   ]
  },
  {
   "cell_type": "code",
   "execution_count": 150,
   "metadata": {
    "colab": {
     "base_uri": "https://localhost:8080/",
     "height": 342
    },
    "id": "HCFCiGMrEHCn",
    "outputId": "2dfad315-5dde-4927-8b47-830b8fe1e237"
   },
   "outputs": [
    {
     "data": {
      "application/vnd.google.colaboratory.intrinsic+json": {
       "type": "dataframe",
       "variable_name": "df"
      },
      "text/html": [
       "\n",
       "  <div id=\"df-f671ab9a-7231-4ab9-a666-94350ac45594\" class=\"colab-df-container\">\n",
       "    <div>\n",
       "<style scoped>\n",
       "    .dataframe tbody tr th:only-of-type {\n",
       "        vertical-align: middle;\n",
       "    }\n",
       "\n",
       "    .dataframe tbody tr th {\n",
       "        vertical-align: top;\n",
       "    }\n",
       "\n",
       "    .dataframe thead th {\n",
       "        text-align: right;\n",
       "    }\n",
       "</style>\n",
       "<table border=\"1\" class=\"dataframe\">\n",
       "  <thead>\n",
       "    <tr style=\"text-align: right;\">\n",
       "      <th></th>\n",
       "      <th>CMPLNT_NUM</th>\n",
       "      <th>ADDR_PCT_CD</th>\n",
       "      <th>BORO_NM</th>\n",
       "      <th>CMPLNT_FR_DT</th>\n",
       "      <th>CMPLNT_FR_TM</th>\n",
       "      <th>CMPLNT_TO_DT</th>\n",
       "      <th>CMPLNT_TO_TM</th>\n",
       "      <th>CRM_ATPT_CPTD_CD</th>\n",
       "      <th>JURISDICTION_CODE</th>\n",
       "      <th>JURIS_DESC</th>\n",
       "      <th>...</th>\n",
       "      <th>PREM_TYP_DESC</th>\n",
       "      <th>RPT_DT</th>\n",
       "      <th>SUSP_AGE_GROUP</th>\n",
       "      <th>SUSP_RACE</th>\n",
       "      <th>SUSP_SEX</th>\n",
       "      <th>VIC_AGE_GROUP</th>\n",
       "      <th>VIC_RACE</th>\n",
       "      <th>VIC_SEX</th>\n",
       "      <th>Latitude</th>\n",
       "      <th>Longitude</th>\n",
       "    </tr>\n",
       "  </thead>\n",
       "  <tbody>\n",
       "    <tr>\n",
       "      <th>9</th>\n",
       "      <td>278972931</td>\n",
       "      <td>123.0</td>\n",
       "      <td>STATEN ISLAND</td>\n",
       "      <td>2023-12-14</td>\n",
       "      <td>2024-05-02 02:50:00</td>\n",
       "      <td>2023-12-14</td>\n",
       "      <td>2024-05-02 02:52:00</td>\n",
       "      <td>COMPLETED</td>\n",
       "      <td>0</td>\n",
       "      <td>N.Y. POLICE DEPT</td>\n",
       "      <td>...</td>\n",
       "      <td>STREET</td>\n",
       "      <td>12/14/2023</td>\n",
       "      <td>25-44</td>\n",
       "      <td>WHITE</td>\n",
       "      <td>M</td>\n",
       "      <td>UNKNOWN</td>\n",
       "      <td>UNKNOWN</td>\n",
       "      <td>E</td>\n",
       "      <td>40.546531</td>\n",
       "      <td>-74.180430</td>\n",
       "    </tr>\n",
       "    <tr>\n",
       "      <th>10</th>\n",
       "      <td>278470767</td>\n",
       "      <td>121.0</td>\n",
       "      <td>STATEN ISLAND</td>\n",
       "      <td>2023-12-04</td>\n",
       "      <td>2024-05-02 15:53:00</td>\n",
       "      <td>2023-12-04</td>\n",
       "      <td>2024-05-02 16:00:00</td>\n",
       "      <td>COMPLETED</td>\n",
       "      <td>0</td>\n",
       "      <td>N.Y. POLICE DEPT</td>\n",
       "      <td>...</td>\n",
       "      <td>STREET</td>\n",
       "      <td>12/04/2023</td>\n",
       "      <td>UNKNOWN</td>\n",
       "      <td>BLACK</td>\n",
       "      <td>M</td>\n",
       "      <td>25-44</td>\n",
       "      <td>BLACK</td>\n",
       "      <td>F</td>\n",
       "      <td>40.626742</td>\n",
       "      <td>-74.139049</td>\n",
       "    </tr>\n",
       "    <tr>\n",
       "      <th>11</th>\n",
       "      <td>262794218</td>\n",
       "      <td>123.0</td>\n",
       "      <td>STATEN ISLAND</td>\n",
       "      <td>2023-02-01</td>\n",
       "      <td>2024-05-02 01:35:00</td>\n",
       "      <td>2023-02-01</td>\n",
       "      <td>2024-05-02 01:40:00</td>\n",
       "      <td>COMPLETED</td>\n",
       "      <td>0</td>\n",
       "      <td>N.Y. POLICE DEPT</td>\n",
       "      <td>...</td>\n",
       "      <td>RESIDENCE-HOUSE</td>\n",
       "      <td>02/01/2023</td>\n",
       "      <td>25-44</td>\n",
       "      <td>BLACK</td>\n",
       "      <td>F</td>\n",
       "      <td>45-64</td>\n",
       "      <td>UNKNOWN</td>\n",
       "      <td>M</td>\n",
       "      <td>40.547045</td>\n",
       "      <td>-74.220517</td>\n",
       "    </tr>\n",
       "    <tr>\n",
       "      <th>13</th>\n",
       "      <td>266228476</td>\n",
       "      <td>123.0</td>\n",
       "      <td>STATEN ISLAND</td>\n",
       "      <td>2023-04-02</td>\n",
       "      <td>2024-05-02 00:20:00</td>\n",
       "      <td>2023-04-02</td>\n",
       "      <td>2024-05-02 00:25:00</td>\n",
       "      <td>COMPLETED</td>\n",
       "      <td>0</td>\n",
       "      <td>N.Y. POLICE DEPT</td>\n",
       "      <td>...</td>\n",
       "      <td>BAR/NIGHT CLUB</td>\n",
       "      <td>04/05/2023</td>\n",
       "      <td>UNKNOWN</td>\n",
       "      <td>WHITE</td>\n",
       "      <td>U</td>\n",
       "      <td>45-64</td>\n",
       "      <td>WHITE</td>\n",
       "      <td>M</td>\n",
       "      <td>40.514779</td>\n",
       "      <td>-74.248458</td>\n",
       "    </tr>\n",
       "    <tr>\n",
       "      <th>14</th>\n",
       "      <td>262909178</td>\n",
       "      <td>121.0</td>\n",
       "      <td>STATEN ISLAND</td>\n",
       "      <td>2023-02-02</td>\n",
       "      <td>2024-05-02 12:05:00</td>\n",
       "      <td>2023-02-02</td>\n",
       "      <td>2024-05-02 12:10:00</td>\n",
       "      <td>COMPLETED</td>\n",
       "      <td>0</td>\n",
       "      <td>N.Y. POLICE DEPT</td>\n",
       "      <td>...</td>\n",
       "      <td>SOCIAL CLUB/POLICY</td>\n",
       "      <td>02/02/2023</td>\n",
       "      <td>25-44</td>\n",
       "      <td>BLACK</td>\n",
       "      <td>M</td>\n",
       "      <td>45-64</td>\n",
       "      <td>WHITE</td>\n",
       "      <td>M</td>\n",
       "      <td>40.634491</td>\n",
       "      <td>-74.131551</td>\n",
       "    </tr>\n",
       "  </tbody>\n",
       "</table>\n",
       "<p>5 rows × 24 columns</p>\n",
       "</div>\n",
       "    <div class=\"colab-df-buttons\">\n",
       "\n",
       "  <div class=\"colab-df-container\">\n",
       "    <button class=\"colab-df-convert\" onclick=\"convertToInteractive('df-f671ab9a-7231-4ab9-a666-94350ac45594')\"\n",
       "            title=\"Convert this dataframe to an interactive table.\"\n",
       "            style=\"display:none;\">\n",
       "\n",
       "  <svg xmlns=\"http://www.w3.org/2000/svg\" height=\"24px\" viewBox=\"0 -960 960 960\">\n",
       "    <path d=\"M120-120v-720h720v720H120Zm60-500h600v-160H180v160Zm220 220h160v-160H400v160Zm0 220h160v-160H400v160ZM180-400h160v-160H180v160Zm440 0h160v-160H620v160ZM180-180h160v-160H180v160Zm440 0h160v-160H620v160Z\"/>\n",
       "  </svg>\n",
       "    </button>\n",
       "\n",
       "  <style>\n",
       "    .colab-df-container {\n",
       "      display:flex;\n",
       "      gap: 12px;\n",
       "    }\n",
       "\n",
       "    .colab-df-convert {\n",
       "      background-color: #E8F0FE;\n",
       "      border: none;\n",
       "      border-radius: 50%;\n",
       "      cursor: pointer;\n",
       "      display: none;\n",
       "      fill: #1967D2;\n",
       "      height: 32px;\n",
       "      padding: 0 0 0 0;\n",
       "      width: 32px;\n",
       "    }\n",
       "\n",
       "    .colab-df-convert:hover {\n",
       "      background-color: #E2EBFA;\n",
       "      box-shadow: 0px 1px 2px rgba(60, 64, 67, 0.3), 0px 1px 3px 1px rgba(60, 64, 67, 0.15);\n",
       "      fill: #174EA6;\n",
       "    }\n",
       "\n",
       "    .colab-df-buttons div {\n",
       "      margin-bottom: 4px;\n",
       "    }\n",
       "\n",
       "    [theme=dark] .colab-df-convert {\n",
       "      background-color: #3B4455;\n",
       "      fill: #D2E3FC;\n",
       "    }\n",
       "\n",
       "    [theme=dark] .colab-df-convert:hover {\n",
       "      background-color: #434B5C;\n",
       "      box-shadow: 0px 1px 3px 1px rgba(0, 0, 0, 0.15);\n",
       "      filter: drop-shadow(0px 1px 2px rgba(0, 0, 0, 0.3));\n",
       "      fill: #FFFFFF;\n",
       "    }\n",
       "  </style>\n",
       "\n",
       "    <script>\n",
       "      const buttonEl =\n",
       "        document.querySelector('#df-f671ab9a-7231-4ab9-a666-94350ac45594 button.colab-df-convert');\n",
       "      buttonEl.style.display =\n",
       "        google.colab.kernel.accessAllowed ? 'block' : 'none';\n",
       "\n",
       "      async function convertToInteractive(key) {\n",
       "        const element = document.querySelector('#df-f671ab9a-7231-4ab9-a666-94350ac45594');\n",
       "        const dataTable =\n",
       "          await google.colab.kernel.invokeFunction('convertToInteractive',\n",
       "                                                    [key], {});\n",
       "        if (!dataTable) return;\n",
       "\n",
       "        const docLinkHtml = 'Like what you see? Visit the ' +\n",
       "          '<a target=\"_blank\" href=https://colab.research.google.com/notebooks/data_table.ipynb>data table notebook</a>'\n",
       "          + ' to learn more about interactive tables.';\n",
       "        element.innerHTML = '';\n",
       "        dataTable['output_type'] = 'display_data';\n",
       "        await google.colab.output.renderOutput(dataTable, element);\n",
       "        const docLink = document.createElement('div');\n",
       "        docLink.innerHTML = docLinkHtml;\n",
       "        element.appendChild(docLink);\n",
       "      }\n",
       "    </script>\n",
       "  </div>\n",
       "\n",
       "\n",
       "<div id=\"df-e5ded37f-bd06-4085-9d9d-08e695af2cea\">\n",
       "  <button class=\"colab-df-quickchart\" onclick=\"quickchart('df-e5ded37f-bd06-4085-9d9d-08e695af2cea')\"\n",
       "            title=\"Suggest charts\"\n",
       "            style=\"display:none;\">\n",
       "\n",
       "<svg xmlns=\"http://www.w3.org/2000/svg\" height=\"24px\"viewBox=\"0 0 24 24\"\n",
       "     width=\"24px\">\n",
       "    <g>\n",
       "        <path d=\"M19 3H5c-1.1 0-2 .9-2 2v14c0 1.1.9 2 2 2h14c1.1 0 2-.9 2-2V5c0-1.1-.9-2-2-2zM9 17H7v-7h2v7zm4 0h-2V7h2v10zm4 0h-2v-4h2v4z\"/>\n",
       "    </g>\n",
       "</svg>\n",
       "  </button>\n",
       "\n",
       "<style>\n",
       "  .colab-df-quickchart {\n",
       "      --bg-color: #E8F0FE;\n",
       "      --fill-color: #1967D2;\n",
       "      --hover-bg-color: #E2EBFA;\n",
       "      --hover-fill-color: #174EA6;\n",
       "      --disabled-fill-color: #AAA;\n",
       "      --disabled-bg-color: #DDD;\n",
       "  }\n",
       "\n",
       "  [theme=dark] .colab-df-quickchart {\n",
       "      --bg-color: #3B4455;\n",
       "      --fill-color: #D2E3FC;\n",
       "      --hover-bg-color: #434B5C;\n",
       "      --hover-fill-color: #FFFFFF;\n",
       "      --disabled-bg-color: #3B4455;\n",
       "      --disabled-fill-color: #666;\n",
       "  }\n",
       "\n",
       "  .colab-df-quickchart {\n",
       "    background-color: var(--bg-color);\n",
       "    border: none;\n",
       "    border-radius: 50%;\n",
       "    cursor: pointer;\n",
       "    display: none;\n",
       "    fill: var(--fill-color);\n",
       "    height: 32px;\n",
       "    padding: 0;\n",
       "    width: 32px;\n",
       "  }\n",
       "\n",
       "  .colab-df-quickchart:hover {\n",
       "    background-color: var(--hover-bg-color);\n",
       "    box-shadow: 0 1px 2px rgba(60, 64, 67, 0.3), 0 1px 3px 1px rgba(60, 64, 67, 0.15);\n",
       "    fill: var(--button-hover-fill-color);\n",
       "  }\n",
       "\n",
       "  .colab-df-quickchart-complete:disabled,\n",
       "  .colab-df-quickchart-complete:disabled:hover {\n",
       "    background-color: var(--disabled-bg-color);\n",
       "    fill: var(--disabled-fill-color);\n",
       "    box-shadow: none;\n",
       "  }\n",
       "\n",
       "  .colab-df-spinner {\n",
       "    border: 2px solid var(--fill-color);\n",
       "    border-color: transparent;\n",
       "    border-bottom-color: var(--fill-color);\n",
       "    animation:\n",
       "      spin 1s steps(1) infinite;\n",
       "  }\n",
       "\n",
       "  @keyframes spin {\n",
       "    0% {\n",
       "      border-color: transparent;\n",
       "      border-bottom-color: var(--fill-color);\n",
       "      border-left-color: var(--fill-color);\n",
       "    }\n",
       "    20% {\n",
       "      border-color: transparent;\n",
       "      border-left-color: var(--fill-color);\n",
       "      border-top-color: var(--fill-color);\n",
       "    }\n",
       "    30% {\n",
       "      border-color: transparent;\n",
       "      border-left-color: var(--fill-color);\n",
       "      border-top-color: var(--fill-color);\n",
       "      border-right-color: var(--fill-color);\n",
       "    }\n",
       "    40% {\n",
       "      border-color: transparent;\n",
       "      border-right-color: var(--fill-color);\n",
       "      border-top-color: var(--fill-color);\n",
       "    }\n",
       "    60% {\n",
       "      border-color: transparent;\n",
       "      border-right-color: var(--fill-color);\n",
       "    }\n",
       "    80% {\n",
       "      border-color: transparent;\n",
       "      border-right-color: var(--fill-color);\n",
       "      border-bottom-color: var(--fill-color);\n",
       "    }\n",
       "    90% {\n",
       "      border-color: transparent;\n",
       "      border-bottom-color: var(--fill-color);\n",
       "    }\n",
       "  }\n",
       "</style>\n",
       "\n",
       "  <script>\n",
       "    async function quickchart(key) {\n",
       "      const quickchartButtonEl =\n",
       "        document.querySelector('#' + key + ' button');\n",
       "      quickchartButtonEl.disabled = true;  // To prevent multiple clicks.\n",
       "      quickchartButtonEl.classList.add('colab-df-spinner');\n",
       "      try {\n",
       "        const charts = await google.colab.kernel.invokeFunction(\n",
       "            'suggestCharts', [key], {});\n",
       "      } catch (error) {\n",
       "        console.error('Error during call to suggestCharts:', error);\n",
       "      }\n",
       "      quickchartButtonEl.classList.remove('colab-df-spinner');\n",
       "      quickchartButtonEl.classList.add('colab-df-quickchart-complete');\n",
       "    }\n",
       "    (() => {\n",
       "      let quickchartButtonEl =\n",
       "        document.querySelector('#df-e5ded37f-bd06-4085-9d9d-08e695af2cea button');\n",
       "      quickchartButtonEl.style.display =\n",
       "        google.colab.kernel.accessAllowed ? 'block' : 'none';\n",
       "    })();\n",
       "  </script>\n",
       "</div>\n",
       "\n",
       "    </div>\n",
       "  </div>\n"
      ],
      "text/plain": [
       "   CMPLNT_NUM  ADDR_PCT_CD        BORO_NM CMPLNT_FR_DT        CMPLNT_FR_TM  \\\n",
       "9   278972931        123.0  STATEN ISLAND   2023-12-14 2024-05-02 02:50:00   \n",
       "10  278470767        121.0  STATEN ISLAND   2023-12-04 2024-05-02 15:53:00   \n",
       "11  262794218        123.0  STATEN ISLAND   2023-02-01 2024-05-02 01:35:00   \n",
       "13  266228476        123.0  STATEN ISLAND   2023-04-02 2024-05-02 00:20:00   \n",
       "14  262909178        121.0  STATEN ISLAND   2023-02-02 2024-05-02 12:05:00   \n",
       "\n",
       "   CMPLNT_TO_DT        CMPLNT_TO_TM CRM_ATPT_CPTD_CD  JURISDICTION_CODE  \\\n",
       "9    2023-12-14 2024-05-02 02:52:00        COMPLETED                  0   \n",
       "10   2023-12-04 2024-05-02 16:00:00        COMPLETED                  0   \n",
       "11   2023-02-01 2024-05-02 01:40:00        COMPLETED                  0   \n",
       "13   2023-04-02 2024-05-02 00:25:00        COMPLETED                  0   \n",
       "14   2023-02-02 2024-05-02 12:10:00        COMPLETED                  0   \n",
       "\n",
       "          JURIS_DESC  ...       PREM_TYP_DESC      RPT_DT SUSP_AGE_GROUP  \\\n",
       "9   N.Y. POLICE DEPT  ...              STREET  12/14/2023          25-44   \n",
       "10  N.Y. POLICE DEPT  ...              STREET  12/04/2023        UNKNOWN   \n",
       "11  N.Y. POLICE DEPT  ...     RESIDENCE-HOUSE  02/01/2023          25-44   \n",
       "13  N.Y. POLICE DEPT  ...      BAR/NIGHT CLUB  04/05/2023        UNKNOWN   \n",
       "14  N.Y. POLICE DEPT  ...  SOCIAL CLUB/POLICY  02/02/2023          25-44   \n",
       "\n",
       "   SUSP_RACE SUSP_SEX VIC_AGE_GROUP VIC_RACE VIC_SEX   Latitude  Longitude  \n",
       "9      WHITE        M       UNKNOWN  UNKNOWN       E  40.546531 -74.180430  \n",
       "10     BLACK        M         25-44    BLACK       F  40.626742 -74.139049  \n",
       "11     BLACK        F         45-64  UNKNOWN       M  40.547045 -74.220517  \n",
       "13     WHITE        U         45-64    WHITE       M  40.514779 -74.248458  \n",
       "14     BLACK        M         45-64    WHITE       M  40.634491 -74.131551  \n",
       "\n",
       "[5 rows x 24 columns]"
      ]
     },
     "execution_count": 150,
     "metadata": {},
     "output_type": "execute_result"
    }
   ],
   "source": [
    "df.head()"
   ]
  },
  {
   "cell_type": "code",
   "execution_count": 151,
   "metadata": {
    "id": "LIcLAZ4eElSs"
   },
   "outputs": [],
   "source": [
    "df['days_duration']= df1['duration']"
   ]
  },
  {
   "cell_type": "code",
   "execution_count": 152,
   "metadata": {
    "colab": {
     "base_uri": "https://localhost:8080/",
     "height": 342
    },
    "id": "RheuFBCdFlhH",
    "outputId": "f2142153-9a92-4680-b44e-15e8b82b3233"
   },
   "outputs": [
    {
     "data": {
      "application/vnd.google.colaboratory.intrinsic+json": {
       "type": "dataframe",
       "variable_name": "df"
      },
      "text/html": [
       "\n",
       "  <div id=\"df-3c8b88aa-6e34-4476-985e-92d29be7d6c9\" class=\"colab-df-container\">\n",
       "    <div>\n",
       "<style scoped>\n",
       "    .dataframe tbody tr th:only-of-type {\n",
       "        vertical-align: middle;\n",
       "    }\n",
       "\n",
       "    .dataframe tbody tr th {\n",
       "        vertical-align: top;\n",
       "    }\n",
       "\n",
       "    .dataframe thead th {\n",
       "        text-align: right;\n",
       "    }\n",
       "</style>\n",
       "<table border=\"1\" class=\"dataframe\">\n",
       "  <thead>\n",
       "    <tr style=\"text-align: right;\">\n",
       "      <th></th>\n",
       "      <th>CMPLNT_NUM</th>\n",
       "      <th>ADDR_PCT_CD</th>\n",
       "      <th>BORO_NM</th>\n",
       "      <th>CMPLNT_FR_DT</th>\n",
       "      <th>CMPLNT_FR_TM</th>\n",
       "      <th>CMPLNT_TO_DT</th>\n",
       "      <th>CMPLNT_TO_TM</th>\n",
       "      <th>CRM_ATPT_CPTD_CD</th>\n",
       "      <th>JURISDICTION_CODE</th>\n",
       "      <th>JURIS_DESC</th>\n",
       "      <th>...</th>\n",
       "      <th>RPT_DT</th>\n",
       "      <th>SUSP_AGE_GROUP</th>\n",
       "      <th>SUSP_RACE</th>\n",
       "      <th>SUSP_SEX</th>\n",
       "      <th>VIC_AGE_GROUP</th>\n",
       "      <th>VIC_RACE</th>\n",
       "      <th>VIC_SEX</th>\n",
       "      <th>Latitude</th>\n",
       "      <th>Longitude</th>\n",
       "      <th>days_duration</th>\n",
       "    </tr>\n",
       "  </thead>\n",
       "  <tbody>\n",
       "    <tr>\n",
       "      <th>9</th>\n",
       "      <td>278972931</td>\n",
       "      <td>123.0</td>\n",
       "      <td>STATEN ISLAND</td>\n",
       "      <td>2023-12-14</td>\n",
       "      <td>2024-05-02 02:50:00</td>\n",
       "      <td>2023-12-14</td>\n",
       "      <td>2024-05-02 02:52:00</td>\n",
       "      <td>COMPLETED</td>\n",
       "      <td>0</td>\n",
       "      <td>N.Y. POLICE DEPT</td>\n",
       "      <td>...</td>\n",
       "      <td>12/14/2023</td>\n",
       "      <td>25-44</td>\n",
       "      <td>WHITE</td>\n",
       "      <td>M</td>\n",
       "      <td>UNKNOWN</td>\n",
       "      <td>UNKNOWN</td>\n",
       "      <td>E</td>\n",
       "      <td>40.546531</td>\n",
       "      <td>-74.180430</td>\n",
       "      <td>0 days</td>\n",
       "    </tr>\n",
       "    <tr>\n",
       "      <th>10</th>\n",
       "      <td>278470767</td>\n",
       "      <td>121.0</td>\n",
       "      <td>STATEN ISLAND</td>\n",
       "      <td>2023-12-04</td>\n",
       "      <td>2024-05-02 15:53:00</td>\n",
       "      <td>2023-12-04</td>\n",
       "      <td>2024-05-02 16:00:00</td>\n",
       "      <td>COMPLETED</td>\n",
       "      <td>0</td>\n",
       "      <td>N.Y. POLICE DEPT</td>\n",
       "      <td>...</td>\n",
       "      <td>12/04/2023</td>\n",
       "      <td>UNKNOWN</td>\n",
       "      <td>BLACK</td>\n",
       "      <td>M</td>\n",
       "      <td>25-44</td>\n",
       "      <td>BLACK</td>\n",
       "      <td>F</td>\n",
       "      <td>40.626742</td>\n",
       "      <td>-74.139049</td>\n",
       "      <td>0 days</td>\n",
       "    </tr>\n",
       "    <tr>\n",
       "      <th>11</th>\n",
       "      <td>262794218</td>\n",
       "      <td>123.0</td>\n",
       "      <td>STATEN ISLAND</td>\n",
       "      <td>2023-02-01</td>\n",
       "      <td>2024-05-02 01:35:00</td>\n",
       "      <td>2023-02-01</td>\n",
       "      <td>2024-05-02 01:40:00</td>\n",
       "      <td>COMPLETED</td>\n",
       "      <td>0</td>\n",
       "      <td>N.Y. POLICE DEPT</td>\n",
       "      <td>...</td>\n",
       "      <td>02/01/2023</td>\n",
       "      <td>25-44</td>\n",
       "      <td>BLACK</td>\n",
       "      <td>F</td>\n",
       "      <td>45-64</td>\n",
       "      <td>UNKNOWN</td>\n",
       "      <td>M</td>\n",
       "      <td>40.547045</td>\n",
       "      <td>-74.220517</td>\n",
       "      <td>0 days</td>\n",
       "    </tr>\n",
       "    <tr>\n",
       "      <th>13</th>\n",
       "      <td>266228476</td>\n",
       "      <td>123.0</td>\n",
       "      <td>STATEN ISLAND</td>\n",
       "      <td>2023-04-02</td>\n",
       "      <td>2024-05-02 00:20:00</td>\n",
       "      <td>2023-04-02</td>\n",
       "      <td>2024-05-02 00:25:00</td>\n",
       "      <td>COMPLETED</td>\n",
       "      <td>0</td>\n",
       "      <td>N.Y. POLICE DEPT</td>\n",
       "      <td>...</td>\n",
       "      <td>04/05/2023</td>\n",
       "      <td>UNKNOWN</td>\n",
       "      <td>WHITE</td>\n",
       "      <td>U</td>\n",
       "      <td>45-64</td>\n",
       "      <td>WHITE</td>\n",
       "      <td>M</td>\n",
       "      <td>40.514779</td>\n",
       "      <td>-74.248458</td>\n",
       "      <td>0 days</td>\n",
       "    </tr>\n",
       "    <tr>\n",
       "      <th>14</th>\n",
       "      <td>262909178</td>\n",
       "      <td>121.0</td>\n",
       "      <td>STATEN ISLAND</td>\n",
       "      <td>2023-02-02</td>\n",
       "      <td>2024-05-02 12:05:00</td>\n",
       "      <td>2023-02-02</td>\n",
       "      <td>2024-05-02 12:10:00</td>\n",
       "      <td>COMPLETED</td>\n",
       "      <td>0</td>\n",
       "      <td>N.Y. POLICE DEPT</td>\n",
       "      <td>...</td>\n",
       "      <td>02/02/2023</td>\n",
       "      <td>25-44</td>\n",
       "      <td>BLACK</td>\n",
       "      <td>M</td>\n",
       "      <td>45-64</td>\n",
       "      <td>WHITE</td>\n",
       "      <td>M</td>\n",
       "      <td>40.634491</td>\n",
       "      <td>-74.131551</td>\n",
       "      <td>0 days</td>\n",
       "    </tr>\n",
       "  </tbody>\n",
       "</table>\n",
       "<p>5 rows × 25 columns</p>\n",
       "</div>\n",
       "    <div class=\"colab-df-buttons\">\n",
       "\n",
       "  <div class=\"colab-df-container\">\n",
       "    <button class=\"colab-df-convert\" onclick=\"convertToInteractive('df-3c8b88aa-6e34-4476-985e-92d29be7d6c9')\"\n",
       "            title=\"Convert this dataframe to an interactive table.\"\n",
       "            style=\"display:none;\">\n",
       "\n",
       "  <svg xmlns=\"http://www.w3.org/2000/svg\" height=\"24px\" viewBox=\"0 -960 960 960\">\n",
       "    <path d=\"M120-120v-720h720v720H120Zm60-500h600v-160H180v160Zm220 220h160v-160H400v160Zm0 220h160v-160H400v160ZM180-400h160v-160H180v160Zm440 0h160v-160H620v160ZM180-180h160v-160H180v160Zm440 0h160v-160H620v160Z\"/>\n",
       "  </svg>\n",
       "    </button>\n",
       "\n",
       "  <style>\n",
       "    .colab-df-container {\n",
       "      display:flex;\n",
       "      gap: 12px;\n",
       "    }\n",
       "\n",
       "    .colab-df-convert {\n",
       "      background-color: #E8F0FE;\n",
       "      border: none;\n",
       "      border-radius: 50%;\n",
       "      cursor: pointer;\n",
       "      display: none;\n",
       "      fill: #1967D2;\n",
       "      height: 32px;\n",
       "      padding: 0 0 0 0;\n",
       "      width: 32px;\n",
       "    }\n",
       "\n",
       "    .colab-df-convert:hover {\n",
       "      background-color: #E2EBFA;\n",
       "      box-shadow: 0px 1px 2px rgba(60, 64, 67, 0.3), 0px 1px 3px 1px rgba(60, 64, 67, 0.15);\n",
       "      fill: #174EA6;\n",
       "    }\n",
       "\n",
       "    .colab-df-buttons div {\n",
       "      margin-bottom: 4px;\n",
       "    }\n",
       "\n",
       "    [theme=dark] .colab-df-convert {\n",
       "      background-color: #3B4455;\n",
       "      fill: #D2E3FC;\n",
       "    }\n",
       "\n",
       "    [theme=dark] .colab-df-convert:hover {\n",
       "      background-color: #434B5C;\n",
       "      box-shadow: 0px 1px 3px 1px rgba(0, 0, 0, 0.15);\n",
       "      filter: drop-shadow(0px 1px 2px rgba(0, 0, 0, 0.3));\n",
       "      fill: #FFFFFF;\n",
       "    }\n",
       "  </style>\n",
       "\n",
       "    <script>\n",
       "      const buttonEl =\n",
       "        document.querySelector('#df-3c8b88aa-6e34-4476-985e-92d29be7d6c9 button.colab-df-convert');\n",
       "      buttonEl.style.display =\n",
       "        google.colab.kernel.accessAllowed ? 'block' : 'none';\n",
       "\n",
       "      async function convertToInteractive(key) {\n",
       "        const element = document.querySelector('#df-3c8b88aa-6e34-4476-985e-92d29be7d6c9');\n",
       "        const dataTable =\n",
       "          await google.colab.kernel.invokeFunction('convertToInteractive',\n",
       "                                                    [key], {});\n",
       "        if (!dataTable) return;\n",
       "\n",
       "        const docLinkHtml = 'Like what you see? Visit the ' +\n",
       "          '<a target=\"_blank\" href=https://colab.research.google.com/notebooks/data_table.ipynb>data table notebook</a>'\n",
       "          + ' to learn more about interactive tables.';\n",
       "        element.innerHTML = '';\n",
       "        dataTable['output_type'] = 'display_data';\n",
       "        await google.colab.output.renderOutput(dataTable, element);\n",
       "        const docLink = document.createElement('div');\n",
       "        docLink.innerHTML = docLinkHtml;\n",
       "        element.appendChild(docLink);\n",
       "      }\n",
       "    </script>\n",
       "  </div>\n",
       "\n",
       "\n",
       "<div id=\"df-4eb1c309-d5c6-458f-b87a-4903db23cb9b\">\n",
       "  <button class=\"colab-df-quickchart\" onclick=\"quickchart('df-4eb1c309-d5c6-458f-b87a-4903db23cb9b')\"\n",
       "            title=\"Suggest charts\"\n",
       "            style=\"display:none;\">\n",
       "\n",
       "<svg xmlns=\"http://www.w3.org/2000/svg\" height=\"24px\"viewBox=\"0 0 24 24\"\n",
       "     width=\"24px\">\n",
       "    <g>\n",
       "        <path d=\"M19 3H5c-1.1 0-2 .9-2 2v14c0 1.1.9 2 2 2h14c1.1 0 2-.9 2-2V5c0-1.1-.9-2-2-2zM9 17H7v-7h2v7zm4 0h-2V7h2v10zm4 0h-2v-4h2v4z\"/>\n",
       "    </g>\n",
       "</svg>\n",
       "  </button>\n",
       "\n",
       "<style>\n",
       "  .colab-df-quickchart {\n",
       "      --bg-color: #E8F0FE;\n",
       "      --fill-color: #1967D2;\n",
       "      --hover-bg-color: #E2EBFA;\n",
       "      --hover-fill-color: #174EA6;\n",
       "      --disabled-fill-color: #AAA;\n",
       "      --disabled-bg-color: #DDD;\n",
       "  }\n",
       "\n",
       "  [theme=dark] .colab-df-quickchart {\n",
       "      --bg-color: #3B4455;\n",
       "      --fill-color: #D2E3FC;\n",
       "      --hover-bg-color: #434B5C;\n",
       "      --hover-fill-color: #FFFFFF;\n",
       "      --disabled-bg-color: #3B4455;\n",
       "      --disabled-fill-color: #666;\n",
       "  }\n",
       "\n",
       "  .colab-df-quickchart {\n",
       "    background-color: var(--bg-color);\n",
       "    border: none;\n",
       "    border-radius: 50%;\n",
       "    cursor: pointer;\n",
       "    display: none;\n",
       "    fill: var(--fill-color);\n",
       "    height: 32px;\n",
       "    padding: 0;\n",
       "    width: 32px;\n",
       "  }\n",
       "\n",
       "  .colab-df-quickchart:hover {\n",
       "    background-color: var(--hover-bg-color);\n",
       "    box-shadow: 0 1px 2px rgba(60, 64, 67, 0.3), 0 1px 3px 1px rgba(60, 64, 67, 0.15);\n",
       "    fill: var(--button-hover-fill-color);\n",
       "  }\n",
       "\n",
       "  .colab-df-quickchart-complete:disabled,\n",
       "  .colab-df-quickchart-complete:disabled:hover {\n",
       "    background-color: var(--disabled-bg-color);\n",
       "    fill: var(--disabled-fill-color);\n",
       "    box-shadow: none;\n",
       "  }\n",
       "\n",
       "  .colab-df-spinner {\n",
       "    border: 2px solid var(--fill-color);\n",
       "    border-color: transparent;\n",
       "    border-bottom-color: var(--fill-color);\n",
       "    animation:\n",
       "      spin 1s steps(1) infinite;\n",
       "  }\n",
       "\n",
       "  @keyframes spin {\n",
       "    0% {\n",
       "      border-color: transparent;\n",
       "      border-bottom-color: var(--fill-color);\n",
       "      border-left-color: var(--fill-color);\n",
       "    }\n",
       "    20% {\n",
       "      border-color: transparent;\n",
       "      border-left-color: var(--fill-color);\n",
       "      border-top-color: var(--fill-color);\n",
       "    }\n",
       "    30% {\n",
       "      border-color: transparent;\n",
       "      border-left-color: var(--fill-color);\n",
       "      border-top-color: var(--fill-color);\n",
       "      border-right-color: var(--fill-color);\n",
       "    }\n",
       "    40% {\n",
       "      border-color: transparent;\n",
       "      border-right-color: var(--fill-color);\n",
       "      border-top-color: var(--fill-color);\n",
       "    }\n",
       "    60% {\n",
       "      border-color: transparent;\n",
       "      border-right-color: var(--fill-color);\n",
       "    }\n",
       "    80% {\n",
       "      border-color: transparent;\n",
       "      border-right-color: var(--fill-color);\n",
       "      border-bottom-color: var(--fill-color);\n",
       "    }\n",
       "    90% {\n",
       "      border-color: transparent;\n",
       "      border-bottom-color: var(--fill-color);\n",
       "    }\n",
       "  }\n",
       "</style>\n",
       "\n",
       "  <script>\n",
       "    async function quickchart(key) {\n",
       "      const quickchartButtonEl =\n",
       "        document.querySelector('#' + key + ' button');\n",
       "      quickchartButtonEl.disabled = true;  // To prevent multiple clicks.\n",
       "      quickchartButtonEl.classList.add('colab-df-spinner');\n",
       "      try {\n",
       "        const charts = await google.colab.kernel.invokeFunction(\n",
       "            'suggestCharts', [key], {});\n",
       "      } catch (error) {\n",
       "        console.error('Error during call to suggestCharts:', error);\n",
       "      }\n",
       "      quickchartButtonEl.classList.remove('colab-df-spinner');\n",
       "      quickchartButtonEl.classList.add('colab-df-quickchart-complete');\n",
       "    }\n",
       "    (() => {\n",
       "      let quickchartButtonEl =\n",
       "        document.querySelector('#df-4eb1c309-d5c6-458f-b87a-4903db23cb9b button');\n",
       "      quickchartButtonEl.style.display =\n",
       "        google.colab.kernel.accessAllowed ? 'block' : 'none';\n",
       "    })();\n",
       "  </script>\n",
       "</div>\n",
       "\n",
       "    </div>\n",
       "  </div>\n"
      ],
      "text/plain": [
       "   CMPLNT_NUM  ADDR_PCT_CD        BORO_NM CMPLNT_FR_DT        CMPLNT_FR_TM  \\\n",
       "9   278972931        123.0  STATEN ISLAND   2023-12-14 2024-05-02 02:50:00   \n",
       "10  278470767        121.0  STATEN ISLAND   2023-12-04 2024-05-02 15:53:00   \n",
       "11  262794218        123.0  STATEN ISLAND   2023-02-01 2024-05-02 01:35:00   \n",
       "13  266228476        123.0  STATEN ISLAND   2023-04-02 2024-05-02 00:20:00   \n",
       "14  262909178        121.0  STATEN ISLAND   2023-02-02 2024-05-02 12:05:00   \n",
       "\n",
       "   CMPLNT_TO_DT        CMPLNT_TO_TM CRM_ATPT_CPTD_CD  JURISDICTION_CODE  \\\n",
       "9    2023-12-14 2024-05-02 02:52:00        COMPLETED                  0   \n",
       "10   2023-12-04 2024-05-02 16:00:00        COMPLETED                  0   \n",
       "11   2023-02-01 2024-05-02 01:40:00        COMPLETED                  0   \n",
       "13   2023-04-02 2024-05-02 00:25:00        COMPLETED                  0   \n",
       "14   2023-02-02 2024-05-02 12:10:00        COMPLETED                  0   \n",
       "\n",
       "          JURIS_DESC  ...      RPT_DT SUSP_AGE_GROUP SUSP_RACE SUSP_SEX  \\\n",
       "9   N.Y. POLICE DEPT  ...  12/14/2023          25-44     WHITE        M   \n",
       "10  N.Y. POLICE DEPT  ...  12/04/2023        UNKNOWN     BLACK        M   \n",
       "11  N.Y. POLICE DEPT  ...  02/01/2023          25-44     BLACK        F   \n",
       "13  N.Y. POLICE DEPT  ...  04/05/2023        UNKNOWN     WHITE        U   \n",
       "14  N.Y. POLICE DEPT  ...  02/02/2023          25-44     BLACK        M   \n",
       "\n",
       "   VIC_AGE_GROUP VIC_RACE VIC_SEX   Latitude  Longitude days_duration  \n",
       "9        UNKNOWN  UNKNOWN       E  40.546531 -74.180430        0 days  \n",
       "10         25-44    BLACK       F  40.626742 -74.139049        0 days  \n",
       "11         45-64  UNKNOWN       M  40.547045 -74.220517        0 days  \n",
       "13         45-64    WHITE       M  40.514779 -74.248458        0 days  \n",
       "14         45-64    WHITE       M  40.634491 -74.131551        0 days  \n",
       "\n",
       "[5 rows x 25 columns]"
      ]
     },
     "execution_count": 152,
     "metadata": {},
     "output_type": "execute_result"
    }
   ],
   "source": [
    "df.head()"
   ]
  },
  {
   "cell_type": "code",
   "execution_count": 153,
   "metadata": {
    "id": "MALndwkbF1Xd"
   },
   "outputs": [],
   "source": [
    "df['month'] = df['CMPLNT_FR_DT'].dt.month\n",
    "df['day'] = df['CMPLNT_FR_DT'].dt.day\n",
    "df['hour'] = df['CMPLNT_FR_TM'].dt.hour\n",
    "# add week day column\n",
    "df['weekday'] = pd.to_datetime(df['CMPLNT_FR_DT']).dt.day_name()"
   ]
  },
  {
   "cell_type": "code",
   "execution_count": 154,
   "metadata": {
    "colab": {
     "base_uri": "https://localhost:8080/"
    },
    "id": "N5_Er1ewIJwR",
    "outputId": "8b3df853-566c-46e6-9c42-421f1eaa1da3"
   },
   "outputs": [
    {
     "data": {
      "text/plain": [
       "Index(['CMPLNT_NUM', 'ADDR_PCT_CD', 'BORO_NM', 'CMPLNT_FR_DT', 'CMPLNT_FR_TM',\n",
       "       'CMPLNT_TO_DT', 'CMPLNT_TO_TM', 'CRM_ATPT_CPTD_CD', 'JURISDICTION_CODE',\n",
       "       'JURIS_DESC', 'LAW_CAT_CD', 'LOC_OF_OCCUR_DESC', 'OFNS_DESC',\n",
       "       'PATROL_BORO', 'PREM_TYP_DESC', 'RPT_DT', 'SUSP_AGE_GROUP', 'SUSP_RACE',\n",
       "       'SUSP_SEX', 'VIC_AGE_GROUP', 'VIC_RACE', 'VIC_SEX', 'Latitude',\n",
       "       'Longitude', 'days_duration', 'month', 'day', 'hour', 'weekday'],\n",
       "      dtype='object')"
      ]
     },
     "execution_count": 154,
     "metadata": {},
     "output_type": "execute_result"
    }
   ],
   "source": [
    "df.columns"
   ]
  },
  {
   "cell_type": "code",
   "execution_count": 155,
   "metadata": {
    "colab": {
     "base_uri": "https://localhost:8080/"
    },
    "id": "LXuWGBHGIhpZ",
    "outputId": "ad60bcac-26ba-47f9-c4a2-7a35dfdcfa16"
   },
   "outputs": [
    {
     "data": {
      "text/plain": [
       "BORO_NM\n",
       "BROOKLYN         149036\n",
       "MANHATTAN        128305\n",
       "QUEENS           117964\n",
       "BRONX            101423\n",
       "STATEN ISLAND     23327\n",
       "(null)              324\n",
       "Name: count, dtype: int64"
      ]
     },
     "execution_count": 155,
     "metadata": {},
     "output_type": "execute_result"
    }
   ],
   "source": [
    "\n",
    "df.BORO_NM.value_counts()"
   ]
  },
  {
   "cell_type": "code",
   "execution_count": 156,
   "metadata": {
    "colab": {
     "base_uri": "https://localhost:8080/"
    },
    "id": "_6-1vUjYKb8k",
    "outputId": "d341cdbd-8696-435e-c86d-1314c6127478"
   },
   "outputs": [
    {
     "data": {
      "text/plain": [
       "(520379, 29)"
      ]
     },
     "execution_count": 156,
     "metadata": {},
     "output_type": "execute_result"
    }
   ],
   "source": [
    "df.shape"
   ]
  },
  {
   "cell_type": "code",
   "execution_count": 157,
   "metadata": {
    "id": "Nz1d5CzTKsKB"
   },
   "outputs": [],
   "source": [
    "df.dropna(inplace=True)"
   ]
  },
  {
   "cell_type": "code",
   "execution_count": 158,
   "metadata": {
    "colab": {
     "base_uri": "https://localhost:8080/"
    },
    "id": "hQeXk3UjKvnh",
    "outputId": "f30d8b97-9deb-4425-dfb4-c3015f1c4f1f"
   },
   "outputs": [
    {
     "data": {
      "text/plain": [
       "(520147, 29)"
      ]
     },
     "execution_count": 158,
     "metadata": {},
     "output_type": "execute_result"
    }
   ],
   "source": [
    "df.shape"
   ]
  },
  {
   "cell_type": "code",
   "execution_count": 159,
   "metadata": {
    "colab": {
     "base_uri": "https://localhost:8080/"
    },
    "id": "PJPixngqLEjs",
    "outputId": "3415c1a1-e05e-4730-988e-023f153e85dc"
   },
   "outputs": [
    {
     "data": {
      "text/plain": [
       "0    BROOKLYN\n",
       "Name: BORO_NM, dtype: object"
      ]
     },
     "execution_count": 159,
     "metadata": {},
     "output_type": "execute_result"
    }
   ],
   "source": [
    "df.BORO_NM.mode()"
   ]
  },
  {
   "cell_type": "code",
   "execution_count": 160,
   "metadata": {
    "id": "SgSyKoRWInl5"
   },
   "outputs": [],
   "source": [
    "df.loc[df['BORO_NM']=='(null)','BORO_NM']='BROOKLYN'"
   ]
  },
  {
   "cell_type": "code",
   "execution_count": 161,
   "metadata": {
    "colab": {
     "base_uri": "https://localhost:8080/"
    },
    "id": "GASEZe8gJKkb",
    "outputId": "d91aee66-0ecc-4cab-908c-9f3b6cef84cf"
   },
   "outputs": [
    {
     "data": {
      "text/plain": [
       "BORO_NM\n",
       "BROOKLYN         149301\n",
       "MANHATTAN        128247\n",
       "QUEENS           117911\n",
       "BRONX            101366\n",
       "STATEN ISLAND     23322\n",
       "Name: count, dtype: int64"
      ]
     },
     "execution_count": 161,
     "metadata": {},
     "output_type": "execute_result"
    }
   ],
   "source": [
    "df.BORO_NM.value_counts()"
   ]
  },
  {
   "cell_type": "code",
   "execution_count": 162,
   "metadata": {
    "colab": {
     "base_uri": "https://localhost:8080/"
    },
    "id": "p9Ukt6bmJ0tx",
    "outputId": "5a29299d-9796-4f26-e0ab-4917454564be"
   },
   "outputs": [
    {
     "data": {
      "text/plain": [
       "Index(['CMPLNT_NUM', 'ADDR_PCT_CD', 'BORO_NM', 'CMPLNT_FR_DT', 'CMPLNT_FR_TM',\n",
       "       'CMPLNT_TO_DT', 'CMPLNT_TO_TM', 'CRM_ATPT_CPTD_CD', 'JURISDICTION_CODE',\n",
       "       'JURIS_DESC', 'LAW_CAT_CD', 'LOC_OF_OCCUR_DESC', 'OFNS_DESC',\n",
       "       'PATROL_BORO', 'PREM_TYP_DESC', 'RPT_DT', 'SUSP_AGE_GROUP', 'SUSP_RACE',\n",
       "       'SUSP_SEX', 'VIC_AGE_GROUP', 'VIC_RACE', 'VIC_SEX', 'Latitude',\n",
       "       'Longitude', 'days_duration', 'month', 'day', 'hour', 'weekday'],\n",
       "      dtype='object')"
      ]
     },
     "execution_count": 162,
     "metadata": {},
     "output_type": "execute_result"
    }
   ],
   "source": [
    "df.columns"
   ]
  },
  {
   "cell_type": "code",
   "execution_count": 163,
   "metadata": {
    "colab": {
     "base_uri": "https://localhost:8080/"
    },
    "id": "g43_gELHLmGb",
    "outputId": "9f093d60-c6ba-48a4-8a0c-3d9ab76fcc07"
   },
   "outputs": [
    {
     "data": {
      "text/plain": [
       "CRM_ATPT_CPTD_CD\n",
       "COMPLETED    512628\n",
       "ATTEMPTED      7519\n",
       "Name: count, dtype: int64"
      ]
     },
     "execution_count": 163,
     "metadata": {},
     "output_type": "execute_result"
    }
   ],
   "source": [
    "df['CRM_ATPT_CPTD_CD'].value_counts()"
   ]
  },
  {
   "cell_type": "code",
   "execution_count": 164,
   "metadata": {
    "colab": {
     "base_uri": "https://localhost:8080/"
    },
    "id": "joJRYnpPOLsB",
    "outputId": "5cc8ff7f-b41a-44cc-ef1d-0528019c4d85"
   },
   "outputs": [
    {
     "data": {
      "text/plain": [
       "CMPLNT_NUM           0\n",
       "ADDR_PCT_CD          0\n",
       "BORO_NM              0\n",
       "CMPLNT_FR_DT         0\n",
       "CMPLNT_FR_TM         0\n",
       "CMPLNT_TO_DT         0\n",
       "CMPLNT_TO_TM         0\n",
       "CRM_ATPT_CPTD_CD     0\n",
       "JURISDICTION_CODE    0\n",
       "JURIS_DESC           0\n",
       "LAW_CAT_CD           0\n",
       "LOC_OF_OCCUR_DESC    0\n",
       "OFNS_DESC            0\n",
       "PATROL_BORO          0\n",
       "PREM_TYP_DESC        0\n",
       "RPT_DT               0\n",
       "SUSP_AGE_GROUP       0\n",
       "SUSP_RACE            0\n",
       "SUSP_SEX             0\n",
       "VIC_AGE_GROUP        0\n",
       "VIC_RACE             0\n",
       "VIC_SEX              0\n",
       "Latitude             0\n",
       "Longitude            0\n",
       "days_duration        0\n",
       "month                0\n",
       "day                  0\n",
       "hour                 0\n",
       "weekday              0\n",
       "dtype: int64"
      ]
     },
     "execution_count": 164,
     "metadata": {},
     "output_type": "execute_result"
    }
   ],
   "source": [
    "df.isnull().sum()"
   ]
  },
  {
   "cell_type": "code",
   "execution_count": 165,
   "metadata": {
    "colab": {
     "base_uri": "https://localhost:8080/",
     "height": 35
    },
    "id": "cr40EOQ1O0E9",
    "outputId": "24415f7b-9b3f-4900-9268-129d1bcfd7d2"
   },
   "outputs": [
    {
     "data": {
      "application/vnd.google.colaboratory.intrinsic+json": {
       "type": "string"
      },
      "text/plain": [
       "'PETIT LARCENY'"
      ]
     },
     "execution_count": 165,
     "metadata": {},
     "output_type": "execute_result"
    }
   ],
   "source": [
    "df.OFNS_DESC.mode()[0]"
   ]
  },
  {
   "cell_type": "code",
   "execution_count": 166,
   "metadata": {
    "id": "oAdErUqENCSP"
   },
   "outputs": [],
   "source": [
    "\n",
    "df.loc[df['OFNS_DESC']=='(null)','OFNS_DESC']=df.OFNS_DESC.mode()[0]"
   ]
  },
  {
   "cell_type": "code",
   "execution_count": 167,
   "metadata": {
    "colab": {
     "base_uri": "https://localhost:8080/"
    },
    "id": "-yF-0YD7OpMq",
    "outputId": "815332ee-e72c-4e12-a45e-a505da32a763"
   },
   "outputs": [
    {
     "data": {
      "text/plain": [
       "(520147, 29)"
      ]
     },
     "execution_count": 167,
     "metadata": {},
     "output_type": "execute_result"
    }
   ],
   "source": [
    "df.shape"
   ]
  },
  {
   "cell_type": "code",
   "execution_count": 168,
   "metadata": {
    "colab": {
     "base_uri": "https://localhost:8080/"
    },
    "id": "sBU1xnJOPLPm",
    "outputId": "83a5df58-bfa4-48ba-efcb-3df2ae2f0e51"
   },
   "outputs": [
    {
     "data": {
      "text/plain": [
       "20098"
      ]
     },
     "execution_count": 168,
     "metadata": {},
     "output_type": "execute_result"
    }
   ],
   "source": [
    "df['PREM_TYP_DESC'].value_counts()['(null)']"
   ]
  },
  {
   "cell_type": "code",
   "execution_count": 169,
   "metadata": {
    "id": "1ZLtz1UhPXrF"
   },
   "outputs": [],
   "source": [
    "df.loc[df['PREM_TYP_DESC']=='(null)','PREM_TYP_DESC']=np.nan"
   ]
  },
  {
   "cell_type": "code",
   "execution_count": 170,
   "metadata": {
    "colab": {
     "base_uri": "https://localhost:8080/"
    },
    "id": "or6hOscKQkOf",
    "outputId": "725cb738-81ee-4b7a-bf64-d08902e73d6e"
   },
   "outputs": [
    {
     "data": {
      "text/plain": [
       "(520147, 29)"
      ]
     },
     "execution_count": 170,
     "metadata": {},
     "output_type": "execute_result"
    }
   ],
   "source": [
    "df.shape"
   ]
  },
  {
   "cell_type": "code",
   "execution_count": 171,
   "metadata": {
    "id": "2wu5y7uHQt6B"
   },
   "outputs": [],
   "source": [
    "df.dropna(inplace= True)"
   ]
  },
  {
   "cell_type": "code",
   "execution_count": 172,
   "metadata": {
    "colab": {
     "base_uri": "https://localhost:8080/"
    },
    "id": "YpF-GyiCRTAd",
    "outputId": "ddaf7f40-1152-44a1-b93f-0eeb9acfcfa1"
   },
   "outputs": [
    {
     "data": {
      "text/plain": [
       "LOC_OF_OCCUR_DESC\n",
       "INSIDE         261343\n",
       "FRONT OF       124286\n",
       "(null)          96963\n",
       "OPPOSITE OF      9810\n",
       "REAR OF          7647\n",
       "Name: count, dtype: int64"
      ]
     },
     "execution_count": 172,
     "metadata": {},
     "output_type": "execute_result"
    }
   ],
   "source": [
    "df['LOC_OF_OCCUR_DESC'].value_counts()"
   ]
  },
  {
   "cell_type": "code",
   "execution_count": 173,
   "metadata": {
    "colab": {
     "base_uri": "https://localhost:8080/"
    },
    "id": "8bROsyAmSwsB",
    "outputId": "6748f185-f4cd-4400-90b4-ea033848d321"
   },
   "outputs": [
    {
     "data": {
      "text/plain": [
       "(500049, 29)"
      ]
     },
     "execution_count": 173,
     "metadata": {},
     "output_type": "execute_result"
    }
   ],
   "source": [
    "df.shape"
   ]
  },
  {
   "cell_type": "code",
   "execution_count": 174,
   "metadata": {
    "id": "qYW0BXktRf0g"
   },
   "outputs": [],
   "source": [
    "df.loc[df['LOC_OF_OCCUR_DESC']=='(null)','LOC_OF_OCCUR_DESC']=np.nan"
   ]
  },
  {
   "cell_type": "code",
   "execution_count": 175,
   "metadata": {
    "id": "46vflWRERkx0"
   },
   "outputs": [],
   "source": [
    "df.dropna(inplace= True)\n"
   ]
  },
  {
   "cell_type": "code",
   "execution_count": 176,
   "metadata": {
    "colab": {
     "base_uri": "https://localhost:8080/"
    },
    "id": "Q-Yjc2_uRuMA",
    "outputId": "1b90c5d6-3331-452b-e88d-44de582d8074"
   },
   "outputs": [
    {
     "data": {
      "text/plain": [
       "(403086, 29)"
      ]
     },
     "execution_count": 176,
     "metadata": {},
     "output_type": "execute_result"
    }
   ],
   "source": [
    "df.shape"
   ]
  },
  {
   "cell_type": "code",
   "execution_count": 177,
   "metadata": {
    "colab": {
     "base_uri": "https://localhost:8080/"
    },
    "id": "0G3WQH4ASfVM",
    "outputId": "e842e840-a123-4147-f870-99667c6577e7"
   },
   "outputs": [
    {
     "data": {
      "text/plain": [
       "Index(['CMPLNT_NUM', 'ADDR_PCT_CD', 'BORO_NM', 'CMPLNT_FR_DT', 'CMPLNT_FR_TM',\n",
       "       'CMPLNT_TO_DT', 'CMPLNT_TO_TM', 'CRM_ATPT_CPTD_CD', 'JURISDICTION_CODE',\n",
       "       'JURIS_DESC', 'LAW_CAT_CD', 'LOC_OF_OCCUR_DESC', 'OFNS_DESC',\n",
       "       'PATROL_BORO', 'PREM_TYP_DESC', 'RPT_DT', 'SUSP_AGE_GROUP', 'SUSP_RACE',\n",
       "       'SUSP_SEX', 'VIC_AGE_GROUP', 'VIC_RACE', 'VIC_SEX', 'Latitude',\n",
       "       'Longitude', 'days_duration', 'month', 'day', 'hour', 'weekday'],\n",
       "      dtype='object')"
      ]
     },
     "execution_count": 177,
     "metadata": {},
     "output_type": "execute_result"
    }
   ],
   "source": [
    "df.columns"
   ]
  },
  {
   "cell_type": "code",
   "execution_count": 178,
   "metadata": {
    "colab": {
     "base_uri": "https://localhost:8080/"
    },
    "id": "_8Ol0ujETFAu",
    "outputId": "9d397a01-f212-411b-ada7-4366836518b4"
   },
   "outputs": [
    {
     "data": {
      "text/plain": [
       "SUSP_AGE_GROUP\n",
       "UNKNOWN    167246\n",
       "25-44      108481\n",
       "(null)      49390\n",
       "45-64       38625\n",
       "18-24       26262\n",
       "<18          8300\n",
       "65+          4727\n",
       "1022           21\n",
       "1023           12\n",
       "2023            8\n",
       "-956            1\n",
       "-953            1\n",
       "953             1\n",
       "-62             1\n",
       "-951            1\n",
       "-963            1\n",
       "938             1\n",
       "-2              1\n",
       "964             1\n",
       "942             1\n",
       "-47             1\n",
       "-976            1\n",
       "-1              1\n",
       "933             1\n",
       "Name: count, dtype: int64"
      ]
     },
     "execution_count": 178,
     "metadata": {},
     "output_type": "execute_result"
    }
   ],
   "source": [
    "df['SUSP_AGE_GROUP'].value_counts()"
   ]
  },
  {
   "cell_type": "code",
   "execution_count": 179,
   "metadata": {
    "colab": {
     "base_uri": "https://localhost:8080/"
    },
    "id": "yOccZyNtTTwy",
    "outputId": "05ca399f-0cb3-40fa-f6fc-fc61d021212f"
   },
   "outputs": [
    {
     "data": {
      "text/plain": [
       "SUSP_RACE\n",
       "BLACK                             120449\n",
       "UNKNOWN                           113524\n",
       "WHITE HISPANIC                     57082\n",
       "(null)                             49390\n",
       "WHITE                              31197\n",
       "BLACK HISPANIC                     17645\n",
       "ASIAN / PACIFIC ISLANDER           12922\n",
       "AMERICAN INDIAN/ALASKAN NATIVE       877\n",
       "Name: count, dtype: int64"
      ]
     },
     "execution_count": 179,
     "metadata": {},
     "output_type": "execute_result"
    }
   ],
   "source": [
    "df['SUSP_RACE'].value_counts()"
   ]
  },
  {
   "cell_type": "code",
   "execution_count": 180,
   "metadata": {
    "colab": {
     "base_uri": "https://localhost:8080/"
    },
    "id": "Cguo88bDTkR4",
    "outputId": "d29fa91f-f0b7-454c-cf50-a0a0ac27db8e"
   },
   "outputs": [
    {
     "data": {
      "text/plain": [
       "SUSP_SEX\n",
       "M         198561\n",
       "U          93839\n",
       "F          61296\n",
       "(null)     49390\n",
       "Name: count, dtype: int64"
      ]
     },
     "execution_count": 180,
     "metadata": {},
     "output_type": "execute_result"
    }
   ],
   "source": [
    "df['SUSP_SEX'].value_counts()"
   ]
  },
  {
   "cell_type": "code",
   "execution_count": 180,
   "metadata": {
    "id": "_Bh2THrNVcGS"
   },
   "outputs": [],
   "source": []
  },
  {
   "cell_type": "code",
   "execution_count": 181,
   "metadata": {
    "colab": {
     "base_uri": "https://localhost:8080/"
    },
    "id": "FJU7431EVyB1",
    "outputId": "1de2b9c9-d086-4fee-80ef-cebd997f02fb"
   },
   "outputs": [
    {
     "data": {
      "text/plain": [
       "VIC_RACE\n",
       "UNKNOWN                           112638\n",
       "BLACK                             102929\n",
       "WHITE HISPANIC                     74424\n",
       "WHITE                              60158\n",
       "ASIAN / PACIFIC ISLANDER           33189\n",
       "BLACK HISPANIC                     17899\n",
       "AMERICAN INDIAN/ALASKAN NATIVE      1849\n",
       "Name: count, dtype: int64"
      ]
     },
     "execution_count": 181,
     "metadata": {},
     "output_type": "execute_result"
    }
   ],
   "source": [
    "df['VIC_RACE'].value_counts()"
   ]
  },
  {
   "cell_type": "code",
   "execution_count": 182,
   "metadata": {
    "colab": {
     "base_uri": "https://localhost:8080/"
    },
    "id": "SoDXKApYV-x0",
    "outputId": "8d53ec44-fa1c-4033-9e7e-e5c1e266cf94"
   },
   "outputs": [
    {
     "data": {
      "text/plain": [
       "VIC_SEX\n",
       "F    166467\n",
       "M    139616\n",
       "D     77049\n",
       "E     18036\n",
       "L      1918\n",
       "Name: count, dtype: int64"
      ]
     },
     "execution_count": 182,
     "metadata": {},
     "output_type": "execute_result"
    }
   ],
   "source": [
    "df['VIC_SEX'].value_counts()"
   ]
  },
  {
   "cell_type": "code",
   "execution_count": 183,
   "metadata": {
    "id": "8-kjpTd4WIAo"
   },
   "outputs": [],
   "source": [
    "# CONVERTING THE NULLS INTO UNKNOWN\n",
    "\n",
    "df.loc[df['SUSP_AGE_GROUP']=='(null)','SUSP_AGE_GROUP']='UNKNOWN'"
   ]
  },
  {
   "cell_type": "code",
   "execution_count": 184,
   "metadata": {
    "id": "5NfbJcARWi8u"
   },
   "outputs": [],
   "source": [
    "df.loc[df['SUSP_RACE']=='(null)','SUSP_RACE']='UNKNOWN'"
   ]
  },
  {
   "cell_type": "code",
   "execution_count": 185,
   "metadata": {
    "id": "g6PIUQ4YWzKC"
   },
   "outputs": [],
   "source": [
    "\n",
    "df.loc[df['SUSP_SEX']=='(null)','SUSP_SEX']='UNKNOWN'"
   ]
  },
  {
   "cell_type": "code",
   "execution_count": 186,
   "metadata": {
    "id": "7xKPakYBXQSe"
   },
   "outputs": [],
   "source": [
    "# Assign the new group\n",
    "#df_pca = df[['SUSP_AGE_GROUP','SUSP_RACE','SUSP_SEX', 'VIC_AGE_GROUP','VIC_RACE','VIC_SEX']]\n",
    "#df_pca.head()"
   ]
  },
  {
   "cell_type": "code",
   "execution_count": 187,
   "metadata": {
    "colab": {
     "base_uri": "https://localhost:8080/"
    },
    "id": "gNYWjGRbX2ti",
    "outputId": "cc63493e-e7ff-40a1-a4fd-46cfbefe518e"
   },
   "outputs": [
    {
     "data": {
      "text/plain": [
       "Index(['CMPLNT_NUM', 'ADDR_PCT_CD', 'BORO_NM', 'CMPLNT_FR_DT', 'CMPLNT_FR_TM',\n",
       "       'CMPLNT_TO_DT', 'CMPLNT_TO_TM', 'CRM_ATPT_CPTD_CD', 'JURISDICTION_CODE',\n",
       "       'JURIS_DESC', 'LAW_CAT_CD', 'LOC_OF_OCCUR_DESC', 'OFNS_DESC',\n",
       "       'PATROL_BORO', 'PREM_TYP_DESC', 'RPT_DT', 'SUSP_AGE_GROUP', 'SUSP_RACE',\n",
       "       'SUSP_SEX', 'VIC_AGE_GROUP', 'VIC_RACE', 'VIC_SEX', 'Latitude',\n",
       "       'Longitude', 'days_duration', 'month', 'day', 'hour', 'weekday'],\n",
       "      dtype='object')"
      ]
     },
     "execution_count": 187,
     "metadata": {},
     "output_type": "execute_result"
    }
   ],
   "source": [
    "df.columns"
   ]
  },
  {
   "cell_type": "code",
   "execution_count": 187,
   "metadata": {
    "id": "O9EVW-QjYxh3"
   },
   "outputs": [],
   "source": []
  },
  {
   "cell_type": "code",
   "execution_count": 187,
   "metadata": {
    "id": "_yYs8lyeYxeN"
   },
   "outputs": [],
   "source": []
  },
  {
   "cell_type": "code",
   "execution_count": 187,
   "metadata": {
    "id": "m8ZuCTdeYxay"
   },
   "outputs": [],
   "source": []
  },
  {
   "cell_type": "code",
   "execution_count": 187,
   "metadata": {
    "id": "eSftU325YxUV"
   },
   "outputs": [],
   "source": []
  },
  {
   "cell_type": "code",
   "execution_count": 187,
   "metadata": {
    "id": "w-t6fc4OYxPV"
   },
   "outputs": [],
   "source": []
  },
  {
   "cell_type": "code",
   "execution_count": 187,
   "metadata": {
    "id": "Lay_NWhqYxLx"
   },
   "outputs": [],
   "source": []
  },
  {
   "cell_type": "markdown",
   "metadata": {
    "id": "Q-7UBNygX_70"
   },
   "source": [
    "# EXPLORING AND VISUALIZATION"
   ]
  },
  {
   "cell_type": "code",
   "execution_count": 188,
   "metadata": {
    "id": "udZyheU_YSK6"
   },
   "outputs": [],
   "source": [
    "#Exploring  Data analysis"
   ]
  },
  {
   "cell_type": "code",
   "execution_count": 189,
   "metadata": {
    "id": "_ZBjKGHiYlNw"
   },
   "outputs": [],
   "source": [
    "data = df.copy()"
   ]
  },
  {
   "cell_type": "code",
   "execution_count": 190,
   "metadata": {
    "colab": {
     "base_uri": "https://localhost:8080/"
    },
    "id": "3qVuswQeY11-",
    "outputId": "6d78c809-0437-4ed3-bbba-8d220bef63d1"
   },
   "outputs": [
    {
     "data": {
      "text/plain": [
       "OFNS_DESC\n",
       "PETIT LARCENY                     91196\n",
       "HARRASSMENT 2                     67319\n",
       "ASSAULT 3 & RELATED OFFENSES      42978\n",
       "GRAND LARCENY                     41057\n",
       "CRIMINAL MISCHIEF & RELATED OF    30850\n",
       "FELONY ASSAULT                    20907\n",
       "OFF. AGNST PUB ORD SENSBLTY &     14922\n",
       "MISCELLANEOUS PENAL LAW           12861\n",
       "BURGLARY                          12727\n",
       "GRAND LARCENY OF MOTOR VEHICLE    12541\n",
       "ROBBERY                           11667\n",
       "SEX CRIMES                         6885\n",
       "Name: count, dtype: int64"
      ]
     },
     "execution_count": 190,
     "metadata": {},
     "output_type": "execute_result"
    }
   ],
   "source": [
    "data.OFNS_DESC.value_counts().iloc[:12]"
   ]
  },
  {
   "cell_type": "code",
   "execution_count": 191,
   "metadata": {
    "colab": {
     "base_uri": "https://localhost:8080/",
     "height": 470
    },
    "id": "z8ZaYd5RY_4O",
    "outputId": "7ad5fdb5-11c2-4921-e488-1cf9075d42f2"
   },
   "outputs": [
    {
     "data": {
      "text/plain": [
       "<Axes: title={'center': 'Top 12 Crimes'}, ylabel='OFNS_DESC'>"
      ]
     },
     "execution_count": 191,
     "metadata": {},
     "output_type": "execute_result"
    },
    {
     "data": {
      "image/png": "[encoded data removed]",
      "text/plain": [
       "<Figure size 640x480 with 1 Axes>"
      ]
     },
     "metadata": {},
     "output_type": "display_data"
    }
   ],
   "source": [
    "data.OFNS_DESC.value_counts().iloc[:12].sort_values().plot(kind=\"barh\", title = \"Top 12 Crimes\")"
   ]
  },
  {
   "cell_type": "code",
   "execution_count": 192,
   "metadata": {
    "colab": {
     "base_uri": "https://localhost:8080/"
    },
    "id": "3K9UKvgkZdAH",
    "outputId": "686b342d-fb6d-43ab-b888-72bc74169284"
   },
   "outputs": [
    {
     "data": {
      "text/plain": [
       "Index(['CMPLNT_NUM', 'ADDR_PCT_CD', 'BORO_NM', 'CMPLNT_FR_DT', 'CMPLNT_FR_TM',\n",
       "       'CMPLNT_TO_DT', 'CMPLNT_TO_TM', 'CRM_ATPT_CPTD_CD', 'JURISDICTION_CODE',\n",
       "       'JURIS_DESC', 'LAW_CAT_CD', 'LOC_OF_OCCUR_DESC', 'OFNS_DESC',\n",
       "       'PATROL_BORO', 'PREM_TYP_DESC', 'RPT_DT', 'SUSP_AGE_GROUP', 'SUSP_RACE',\n",
       "       'SUSP_SEX', 'VIC_AGE_GROUP', 'VIC_RACE', 'VIC_SEX', 'Latitude',\n",
       "       'Longitude', 'days_duration', 'month', 'day', 'hour', 'weekday'],\n",
       "      dtype='object')"
      ]
     },
     "execution_count": 192,
     "metadata": {},
     "output_type": "execute_result"
    }
   ],
   "source": [
    "data.columns"
   ]
  },
  {
   "cell_type": "code",
   "execution_count": 193,
   "metadata": {
    "colab": {
     "base_uri": "https://localhost:8080/",
     "height": 470
    },
    "id": "XtdkNacHaM1x",
    "outputId": "63c30a11-1a3b-4565-a197-638791a27df1"
   },
   "outputs": [
    {
     "data": {
      "text/plain": [
       "<Axes: title={'center': 'Numbers of crimes W.R.F Boroughs'}, ylabel='BORO_NM'>"
      ]
     },
     "execution_count": 193,
     "metadata": {},
     "output_type": "execute_result"
    },
    {
     "data": {
      "image/png": "[encoded data removed]",
      "text/plain": [
       "<Figure size 640x480 with 1 Axes>"
      ]
     },
     "metadata": {},
     "output_type": "display_data"
    }
   ],
   "source": [
    "data['BORO_NM'].value_counts().sort_values().plot(kind=\"barh\", title = \"Numbers of crimes W.R.F Boroughs\")"
   ]
  },
  {
   "cell_type": "code",
   "execution_count": 194,
   "metadata": {
    "colab": {
     "base_uri": "https://localhost:8080/",
     "height": 490
    },
    "id": "hCC4tEC0aln2",
    "outputId": "25f1c3f4-d598-44a1-af5b-e1bfd00fd2a5"
   },
   "outputs": [
    {
     "data": {
      "text/plain": [
       "array([<Axes: ylabel='count'>], dtype=object)"
      ]
     },
     "execution_count": 194,
     "metadata": {},
     "output_type": "execute_result"
    },
    {
     "data": {
      "image/png": "[encoded data removed]",
      "text/plain": [
       "<Figure size 1000x500 with 1 Axes>"
      ]
     },
     "metadata": {},
     "output_type": "display_data"
    }
   ],
   "source": [
    "data['LAW_CAT_CD'].value_counts().sort_values().plot(kind='pie', subplots=True, shadow = True,startangle=40,\n",
    "figsize=(10,5), autopct='%1.1f%%', title = 'Level of Offense')"
   ]
  },
  {
   "cell_type": "code",
   "execution_count": 195,
   "metadata": {
    "colab": {
     "base_uri": "https://localhost:8080/",
     "height": 470
    },
    "id": "GrVpQRJ0bZm4",
    "outputId": "a09d7ab6-0b16-4903-d3e4-1630d2f79d09"
   },
   "outputs": [
    {
     "data": {
      "text/plain": [
       "<Axes: title={'center': 'Days in which most crimes happened'}, ylabel='day'>"
      ]
     },
     "execution_count": 195,
     "metadata": {},
     "output_type": "execute_result"
    },
    {
     "data": {
      "image/png": "[encoded data removed]",
      "text/plain": [
       "<Figure size 640x480 with 1 Axes>"
      ]
     },
     "metadata": {},
     "output_type": "display_data"
    }
   ],
   "source": [
    "data['day'].value_counts().sort_values().plot(kind=\"barh\", title = \"Days in which most crimes happened\")"
   ]
  },
  {
   "cell_type": "code",
   "execution_count": 196,
   "metadata": {
    "colab": {
     "base_uri": "https://localhost:8080/",
     "height": 470
    },
    "id": "S895fsvycOsE",
    "outputId": "faecf361-339a-41c3-fc05-fbb065d636de"
   },
   "outputs": [
    {
     "data": {
      "text/plain": [
       "<Axes: title={'center': 'Days in which most crimes happened'}, ylabel='month'>"
      ]
     },
     "execution_count": 196,
     "metadata": {},
     "output_type": "execute_result"
    },
    {
     "data": {
      "image/png": "[encoded data removed]",
      "text/plain": [
       "<Figure size 640x480 with 1 Axes>"
      ]
     },
     "metadata": {},
     "output_type": "display_data"
    }
   ],
   "source": [
    "data['month'].value_counts().sort_values().plot(kind=\"barh\", title = \"Days in which most crimes happened\")"
   ]
  },
  {
   "cell_type": "code",
   "execution_count": 196,
   "metadata": {
    "id": "IDJUPeg0cYrt"
   },
   "outputs": [],
   "source": []
  },
  {
   "cell_type": "markdown",
   "metadata": {
    "id": "HPMzrTyyeksl"
   },
   "source": [
    "# ENCODING, PREPARING DATA AND STANDARDIZATION"
   ]
  },
  {
   "cell_type": "code",
   "execution_count": 197,
   "metadata": {
    "colab": {
     "base_uri": "https://localhost:8080/"
    },
    "id": "Swd2FBzpeK6Q",
    "outputId": "5d28083d-7aab-4c0c-949c-42ef4681a749"
   },
   "outputs": [
    {
     "data": {
      "text/plain": [
       "Index(['CMPLNT_NUM', 'ADDR_PCT_CD', 'BORO_NM', 'CMPLNT_FR_DT', 'CMPLNT_FR_TM',\n",
       "       'CMPLNT_TO_DT', 'CMPLNT_TO_TM', 'CRM_ATPT_CPTD_CD', 'JURISDICTION_CODE',\n",
       "       'JURIS_DESC', 'LAW_CAT_CD', 'LOC_OF_OCCUR_DESC', 'OFNS_DESC',\n",
       "       'PATROL_BORO', 'PREM_TYP_DESC', 'RPT_DT', 'SUSP_AGE_GROUP', 'SUSP_RACE',\n",
       "       'SUSP_SEX', 'VIC_AGE_GROUP', 'VIC_RACE', 'VIC_SEX', 'Latitude',\n",
       "       'Longitude', 'days_duration', 'month', 'day', 'hour', 'weekday'],\n",
       "      dtype='object')"
      ]
     },
     "execution_count": 197,
     "metadata": {},
     "output_type": "execute_result"
    }
   ],
   "source": [
    "# features\n",
    "df.columns"
   ]
  },
  {
   "cell_type": "code",
   "execution_count": 198,
   "metadata": {
    "colab": {
     "base_uri": "https://localhost:8080/"
    },
    "id": "dIuSPhcWejj8",
    "outputId": "33b8205d-dee9-46a4-e1ec-97fff15a9f6b"
   },
   "outputs": [
    {
     "data": {
      "text/plain": [
       "CMPLNT_NUM                    object\n",
       "ADDR_PCT_CD                  float64\n",
       "BORO_NM                       object\n",
       "CMPLNT_FR_DT          datetime64[ns]\n",
       "CMPLNT_FR_TM          datetime64[ns]\n",
       "CMPLNT_TO_DT          datetime64[ns]\n",
       "CMPLNT_TO_TM          datetime64[ns]\n",
       "CRM_ATPT_CPTD_CD              object\n",
       "JURISDICTION_CODE              int64\n",
       "JURIS_DESC                    object\n",
       "LAW_CAT_CD                    object\n",
       "LOC_OF_OCCUR_DESC             object\n",
       "OFNS_DESC                     object\n",
       "PATROL_BORO                   object\n",
       "PREM_TYP_DESC                 object\n",
       "RPT_DT                        object\n",
       "SUSP_AGE_GROUP                object\n",
       "SUSP_RACE                     object\n",
       "SUSP_SEX                      object\n",
       "VIC_AGE_GROUP                 object\n",
       "VIC_RACE                      object\n",
       "VIC_SEX                       object\n",
       "Latitude                     float64\n",
       "Longitude                    float64\n",
       "days_duration        timedelta64[ns]\n",
       "month                        float64\n",
       "day                          float64\n",
       "hour                           int32\n",
       "weekday                       object\n",
       "dtype: object"
      ]
     },
     "execution_count": 198,
     "metadata": {},
     "output_type": "execute_result"
    }
   ],
   "source": [
    "df.dtypes\n"
   ]
  },
  {
   "cell_type": "code",
   "execution_count": 199,
   "metadata": {
    "id": "wQoalwqAfCzM"
   },
   "outputs": [],
   "source": [
    "df1 = df.copy()"
   ]
  },
  {
   "cell_type": "markdown",
   "metadata": {
    "id": "VIVjtGhEi8w-"
   },
   "source": [
    "# Here Age group has noise converting NUll and dropping the noise"
   ]
  },
  {
   "cell_type": "code",
   "execution_count": 200,
   "metadata": {
    "id": "b2dlK1V1ih5T"
   },
   "outputs": [],
   "source": [
    "# take care of unvalid age data\n",
    "valid_age = ['UNKNOWN', '25-44', '<18', '45-64', '65+', '18-24']\n",
    "df1.loc[~df1['SUSP_AGE_GROUP'].isin(valid_age),'SUSP_AGE_GROUP'] = np.nan\n",
    "df1.loc[~df1['VIC_AGE_GROUP'].isin(valid_age),'VIC_AGE_GROUP'] = np.nan"
   ]
  },
  {
   "cell_type": "code",
   "execution_count": 201,
   "metadata": {
    "colab": {
     "base_uri": "https://localhost:8080/"
    },
    "id": "gBeoOuW-jOS6",
    "outputId": "7b2bff9f-0468-4572-c203-9fc00c48c3d1"
   },
   "outputs": [
    {
     "data": {
      "text/plain": [
       "SUSP_AGE_GROUP\n",
       "UNKNOWN    216636\n",
       "25-44      108481\n",
       "45-64       38625\n",
       "18-24       26262\n",
       "<18          8300\n",
       "65+          4727\n",
       "Name: count, dtype: int64"
      ]
     },
     "execution_count": 201,
     "metadata": {},
     "output_type": "execute_result"
    }
   ],
   "source": [
    "df1.SUSP_AGE_GROUP.value_counts()"
   ]
  },
  {
   "cell_type": "code",
   "execution_count": 202,
   "metadata": {
    "colab": {
     "base_uri": "https://localhost:8080/"
    },
    "id": "ZfT8ryRAjOPk",
    "outputId": "5cc6276d-3998-4ebc-eb36-33c8673ddcc1"
   },
   "outputs": [
    {
     "data": {
      "text/plain": [
       "VIC_AGE_GROUP\n",
       "25-44      148498\n",
       "UNKNOWN    103045\n",
       "45-64       79130\n",
       "18-24       33919\n",
       "65+         23030\n",
       "<18         15432\n",
       "Name: count, dtype: int64"
      ]
     },
     "execution_count": 202,
     "metadata": {},
     "output_type": "execute_result"
    }
   ],
   "source": [
    "df1.VIC_AGE_GROUP.value_counts()"
   ]
  },
  {
   "cell_type": "code",
   "execution_count": 203,
   "metadata": {
    "colab": {
     "base_uri": "https://localhost:8080/"
    },
    "id": "cr2uvLQ4jOMX",
    "outputId": "9310702f-e8ef-4880-df45-982e1bc5d504"
   },
   "outputs": [
    {
     "data": {
      "text/plain": [
       "CMPLNT_NUM            0\n",
       "ADDR_PCT_CD           0\n",
       "BORO_NM               0\n",
       "CMPLNT_FR_DT          0\n",
       "CMPLNT_FR_TM          0\n",
       "CMPLNT_TO_DT          0\n",
       "CMPLNT_TO_TM          0\n",
       "CRM_ATPT_CPTD_CD      0\n",
       "JURISDICTION_CODE     0\n",
       "JURIS_DESC            0\n",
       "LAW_CAT_CD            0\n",
       "LOC_OF_OCCUR_DESC     0\n",
       "OFNS_DESC             0\n",
       "PATROL_BORO           0\n",
       "PREM_TYP_DESC         0\n",
       "RPT_DT                0\n",
       "SUSP_AGE_GROUP       55\n",
       "SUSP_RACE             0\n",
       "SUSP_SEX              0\n",
       "VIC_AGE_GROUP        32\n",
       "VIC_RACE              0\n",
       "VIC_SEX               0\n",
       "Latitude              0\n",
       "Longitude             0\n",
       "days_duration         0\n",
       "month                 0\n",
       "day                   0\n",
       "hour                  0\n",
       "weekday               0\n",
       "dtype: int64"
      ]
     },
     "execution_count": 203,
     "metadata": {},
     "output_type": "execute_result"
    }
   ],
   "source": [
    "df1.isnull().sum()"
   ]
  },
  {
   "cell_type": "code",
   "execution_count": 204,
   "metadata": {
    "colab": {
     "base_uri": "https://localhost:8080/"
    },
    "id": "AXlWiEYIjOI-",
    "outputId": "44062a09-d49e-430b-ba2e-cfa93f114eda"
   },
   "outputs": [
    {
     "data": {
      "text/plain": [
       "(403086, 29)"
      ]
     },
     "execution_count": 204,
     "metadata": {},
     "output_type": "execute_result"
    }
   ],
   "source": [
    "# Dropping above null\n",
    "df1.shape"
   ]
  },
  {
   "cell_type": "code",
   "execution_count": 205,
   "metadata": {
    "id": "G9UxE8fXjOAN"
   },
   "outputs": [],
   "source": [
    "df1.dropna(inplace=True)"
   ]
  },
  {
   "cell_type": "code",
   "execution_count": 206,
   "metadata": {
    "colab": {
     "base_uri": "https://localhost:8080/"
    },
    "id": "g0WeaJU8K-GB",
    "outputId": "d7360d3e-81a4-463f-a051-ae7825964a61"
   },
   "outputs": [
    {
     "data": {
      "text/plain": [
       "(403000, 29)"
      ]
     },
     "execution_count": 206,
     "metadata": {},
     "output_type": "execute_result"
    }
   ],
   "source": [
    "df1.shape"
   ]
  },
  {
   "cell_type": "code",
   "execution_count": 207,
   "metadata": {
    "colab": {
     "base_uri": "https://localhost:8080/"
    },
    "id": "VbwVKxQrK-DQ",
    "outputId": "5e8803b4-7e63-4f31-8d79-0888fb9bc435"
   },
   "outputs": [
    {
     "data": {
      "text/plain": [
       "Index(['CMPLNT_NUM', 'ADDR_PCT_CD', 'BORO_NM', 'CMPLNT_FR_DT', 'CMPLNT_FR_TM',\n",
       "       'CMPLNT_TO_DT', 'CMPLNT_TO_TM', 'CRM_ATPT_CPTD_CD', 'JURISDICTION_CODE',\n",
       "       'JURIS_DESC', 'LAW_CAT_CD', 'LOC_OF_OCCUR_DESC', 'OFNS_DESC',\n",
       "       'PATROL_BORO', 'PREM_TYP_DESC', 'RPT_DT', 'SUSP_AGE_GROUP', 'SUSP_RACE',\n",
       "       'SUSP_SEX', 'VIC_AGE_GROUP', 'VIC_RACE', 'VIC_SEX', 'Latitude',\n",
       "       'Longitude', 'days_duration', 'month', 'day', 'hour', 'weekday'],\n",
       "      dtype='object')"
      ]
     },
     "execution_count": 207,
     "metadata": {},
     "output_type": "execute_result"
    }
   ],
   "source": [
    "df1.columns"
   ]
  },
  {
   "cell_type": "code",
   "execution_count": 207,
   "metadata": {
    "id": "TO6ECNrmK-A2"
   },
   "outputs": [],
   "source": []
  },
  {
   "cell_type": "code",
   "execution_count": 207,
   "metadata": {
    "id": "nDq1mH-KK9-J"
   },
   "outputs": [],
   "source": []
  },
  {
   "cell_type": "markdown",
   "metadata": {
    "id": "onEyYnLoYn10"
   },
   "source": [
    "# Here are converting categorical into label using label encode"
   ]
  },
  {
   "cell_type": "code",
   "execution_count": 207,
   "metadata": {
    "id": "RdWcXp7TK97U"
   },
   "outputs": [],
   "source": []
  },
  {
   "cell_type": "code",
   "execution_count": 208,
   "metadata": {
    "colab": {
     "base_uri": "https://localhost:8080/"
    },
    "id": "si6T99d0ejb3",
    "outputId": "d34bf37b-44ef-4544-ce1d-69935bd0b314"
   },
   "outputs": [
    {
     "data": {
      "text/plain": [
       "11    8\n",
       "13    8\n",
       "14    8\n",
       "16    8\n",
       "17    8\n",
       "18    8\n",
       "19    8\n",
       "20    8\n",
       "21    8\n",
       "22    8\n",
       "Name: JURIS_DESC, dtype: int64"
      ]
     },
     "execution_count": 208,
     "metadata": {},
     "output_type": "execute_result"
    }
   ],
   "source": [
    "from sklearn.preprocessing import LabelEncoder\n",
    "\n",
    "le = LabelEncoder()\n",
    "\n",
    "# apply le on categorical feature columns\n",
    "df1['JURIS_DESC'] = le.fit_transform(df1['JURIS_DESC'])\n",
    "df1['JURIS_DESC'].head(10)"
   ]
  },
  {
   "cell_type": "code",
   "execution_count": 209,
   "metadata": {
    "colab": {
     "base_uri": "https://localhost:8080/"
    },
    "id": "rE4GS3dRejZS",
    "outputId": "6c957676-e906-49ab-cb62-973216e9446d"
   },
   "outputs": [
    {
     "data": {
      "text/plain": [
       "(403000, 29)"
      ]
     },
     "execution_count": 209,
     "metadata": {},
     "output_type": "execute_result"
    }
   ],
   "source": [
    "df1.shape"
   ]
  },
  {
   "cell_type": "code",
   "execution_count": 210,
   "metadata": {
    "colab": {
     "base_uri": "https://localhost:8080/"
    },
    "id": "m3sTWc5ffaIY",
    "outputId": "aa69aad2-5897-4c93-c61c-f253c75dab60"
   },
   "outputs": [
    {
     "data": {
      "text/plain": [
       "OFNS_DESC\n",
       "PETIT LARCENY                     91183\n",
       "HARRASSMENT 2                     67290\n",
       "ASSAULT 3 & RELATED OFFENSES      42966\n",
       "GRAND LARCENY                     41050\n",
       "CRIMINAL MISCHIEF & RELATED OF    30846\n",
       "FELONY ASSAULT                    20903\n",
       "OFF. AGNST PUB ORD SENSBLTY &     14916\n",
       "MISCELLANEOUS PENAL LAW           12858\n",
       "BURGLARY                          12725\n",
       "GRAND LARCENY OF MOTOR VEHICLE    12539\n",
       "ROBBERY                           11666\n",
       "SEX CRIMES                         6883\n",
       "DANGEROUS DRUGS                    5772\n",
       "OFFENSES AGAINST PUBLIC ADMINI     4312\n",
       "VEHICLE AND TRAFFIC LAWS           4077\n",
       "THEFT-FRAUD                        3619\n",
       "DANGEROUS WEAPONS                  3459\n",
       "FRAUDS                             2116\n",
       "CRIMINAL TRESPASS                  2018\n",
       "FORGERY                            1653\n",
       "UNAUTHORIZED USE OF A VEHICLE      1330\n",
       "RAPE                               1231\n",
       "POSSESSION OF STOLEN PROPERTY       927\n",
       "INTOXICATED & IMPAIRED DRIVING      814\n",
       "OFFENSES INVOLVING FRAUD            802\n",
       "OTHER OFFENSES RELATED TO THEF      708\n",
       "ADMINISTRATIVE CODE                 655\n",
       "OFFENSES AGAINST THE PERSON         632\n",
       "ARSON                               507\n",
       "OTHER STATE LAWS (NON PENAL LA      473\n",
       "Name: count, dtype: int64"
      ]
     },
     "execution_count": 210,
     "metadata": {},
     "output_type": "execute_result"
    }
   ],
   "source": [
    "df1[\"OFNS_DESC\"].value_counts()[:30]"
   ]
  },
  {
   "cell_type": "code",
   "execution_count": 211,
   "metadata": {
    "id": "EKXQD_NqgYMD"
   },
   "outputs": [],
   "source": [
    "counts_ofns = df1.groupby(\"OFNS_DESC\")[\"OFNS_DESC\"].transform(len)\n",
    "df1['ofns_count'] = counts_ofns\n",
    "df1 = df1.loc[df1['ofns_count']>1000]\n",
    "df1 = df1.drop(columns = ['ofns_count'])\n"
   ]
  },
  {
   "cell_type": "code",
   "execution_count": 212,
   "metadata": {
    "colab": {
     "base_uri": "https://localhost:8080/"
    },
    "id": "HKK1RtBTgjYr",
    "outputId": "1627eb7c-e2fe-4e1d-a20b-6ef0389e9044"
   },
   "outputs": [
    {
     "data": {
      "text/plain": [
       "(395412, 29)"
      ]
     },
     "execution_count": 212,
     "metadata": {},
     "output_type": "execute_result"
    }
   ],
   "source": [
    "df1.shape"
   ]
  },
  {
   "cell_type": "code",
   "execution_count": 213,
   "metadata": {
    "colab": {
     "base_uri": "https://localhost:8080/",
     "height": 342
    },
    "id": "itVpx1FZgoay",
    "outputId": "ec724cc9-f2e1-426a-c645-7536514528d5"
   },
   "outputs": [
    {
     "data": {
      "application/vnd.google.colaboratory.intrinsic+json": {
       "type": "dataframe",
       "variable_name": "df1"
      },
      "text/html": [
       "\n",
       "  <div id=\"df-b58cc1f5-700e-4db5-90c3-a15395a7f28f\" class=\"colab-df-container\">\n",
       "    <div>\n",
       "<style scoped>\n",
       "    .dataframe tbody tr th:only-of-type {\n",
       "        vertical-align: middle;\n",
       "    }\n",
       "\n",
       "    .dataframe tbody tr th {\n",
       "        vertical-align: top;\n",
       "    }\n",
       "\n",
       "    .dataframe thead th {\n",
       "        text-align: right;\n",
       "    }\n",
       "</style>\n",
       "<table border=\"1\" class=\"dataframe\">\n",
       "  <thead>\n",
       "    <tr style=\"text-align: right;\">\n",
       "      <th></th>\n",
       "      <th>CMPLNT_NUM</th>\n",
       "      <th>ADDR_PCT_CD</th>\n",
       "      <th>BORO_NM</th>\n",
       "      <th>CMPLNT_FR_DT</th>\n",
       "      <th>CMPLNT_FR_TM</th>\n",
       "      <th>CMPLNT_TO_DT</th>\n",
       "      <th>CMPLNT_TO_TM</th>\n",
       "      <th>CRM_ATPT_CPTD_CD</th>\n",
       "      <th>JURISDICTION_CODE</th>\n",
       "      <th>JURIS_DESC</th>\n",
       "      <th>...</th>\n",
       "      <th>VIC_AGE_GROUP</th>\n",
       "      <th>VIC_RACE</th>\n",
       "      <th>VIC_SEX</th>\n",
       "      <th>Latitude</th>\n",
       "      <th>Longitude</th>\n",
       "      <th>days_duration</th>\n",
       "      <th>month</th>\n",
       "      <th>day</th>\n",
       "      <th>hour</th>\n",
       "      <th>weekday</th>\n",
       "    </tr>\n",
       "  </thead>\n",
       "  <tbody>\n",
       "    <tr>\n",
       "      <th>11</th>\n",
       "      <td>262794218</td>\n",
       "      <td>123.0</td>\n",
       "      <td>STATEN ISLAND</td>\n",
       "      <td>2023-02-01</td>\n",
       "      <td>2024-05-02 01:35:00</td>\n",
       "      <td>2023-02-01</td>\n",
       "      <td>2024-05-02 01:40:00</td>\n",
       "      <td>COMPLETED</td>\n",
       "      <td>0</td>\n",
       "      <td>8</td>\n",
       "      <td>...</td>\n",
       "      <td>45-64</td>\n",
       "      <td>UNKNOWN</td>\n",
       "      <td>M</td>\n",
       "      <td>40.547045</td>\n",
       "      <td>-74.220517</td>\n",
       "      <td>0 days</td>\n",
       "      <td>2.0</td>\n",
       "      <td>1.0</td>\n",
       "      <td>1</td>\n",
       "      <td>Wednesday</td>\n",
       "    </tr>\n",
       "    <tr>\n",
       "      <th>13</th>\n",
       "      <td>266228476</td>\n",
       "      <td>123.0</td>\n",
       "      <td>STATEN ISLAND</td>\n",
       "      <td>2023-04-02</td>\n",
       "      <td>2024-05-02 00:20:00</td>\n",
       "      <td>2023-04-02</td>\n",
       "      <td>2024-05-02 00:25:00</td>\n",
       "      <td>COMPLETED</td>\n",
       "      <td>0</td>\n",
       "      <td>8</td>\n",
       "      <td>...</td>\n",
       "      <td>45-64</td>\n",
       "      <td>WHITE</td>\n",
       "      <td>M</td>\n",
       "      <td>40.514779</td>\n",
       "      <td>-74.248458</td>\n",
       "      <td>0 days</td>\n",
       "      <td>4.0</td>\n",
       "      <td>2.0</td>\n",
       "      <td>0</td>\n",
       "      <td>Sunday</td>\n",
       "    </tr>\n",
       "    <tr>\n",
       "      <th>14</th>\n",
       "      <td>262909178</td>\n",
       "      <td>121.0</td>\n",
       "      <td>STATEN ISLAND</td>\n",
       "      <td>2023-02-02</td>\n",
       "      <td>2024-05-02 12:05:00</td>\n",
       "      <td>2023-02-02</td>\n",
       "      <td>2024-05-02 12:10:00</td>\n",
       "      <td>COMPLETED</td>\n",
       "      <td>0</td>\n",
       "      <td>8</td>\n",
       "      <td>...</td>\n",
       "      <td>45-64</td>\n",
       "      <td>WHITE</td>\n",
       "      <td>M</td>\n",
       "      <td>40.634491</td>\n",
       "      <td>-74.131551</td>\n",
       "      <td>0 days</td>\n",
       "      <td>2.0</td>\n",
       "      <td>2.0</td>\n",
       "      <td>12</td>\n",
       "      <td>Thursday</td>\n",
       "    </tr>\n",
       "    <tr>\n",
       "      <th>16</th>\n",
       "      <td>270654701</td>\n",
       "      <td>121.0</td>\n",
       "      <td>STATEN ISLAND</td>\n",
       "      <td>2023-07-01</td>\n",
       "      <td>2024-05-02 05:25:00</td>\n",
       "      <td>2023-07-01</td>\n",
       "      <td>2024-05-02 05:32:00</td>\n",
       "      <td>ATTEMPTED</td>\n",
       "      <td>0</td>\n",
       "      <td>8</td>\n",
       "      <td>...</td>\n",
       "      <td>25-44</td>\n",
       "      <td>BLACK</td>\n",
       "      <td>F</td>\n",
       "      <td>40.631010</td>\n",
       "      <td>-74.160384</td>\n",
       "      <td>0 days</td>\n",
       "      <td>7.0</td>\n",
       "      <td>1.0</td>\n",
       "      <td>5</td>\n",
       "      <td>Saturday</td>\n",
       "    </tr>\n",
       "    <tr>\n",
       "      <th>17</th>\n",
       "      <td>264963813</td>\n",
       "      <td>121.0</td>\n",
       "      <td>STATEN ISLAND</td>\n",
       "      <td>2023-03-10</td>\n",
       "      <td>2024-05-02 17:00:00</td>\n",
       "      <td>2023-03-11</td>\n",
       "      <td>2024-05-02 11:45:00</td>\n",
       "      <td>COMPLETED</td>\n",
       "      <td>0</td>\n",
       "      <td>8</td>\n",
       "      <td>...</td>\n",
       "      <td>25-44</td>\n",
       "      <td>WHITE HISPANIC</td>\n",
       "      <td>F</td>\n",
       "      <td>40.623188</td>\n",
       "      <td>-74.149238</td>\n",
       "      <td>1 days</td>\n",
       "      <td>3.0</td>\n",
       "      <td>10.0</td>\n",
       "      <td>17</td>\n",
       "      <td>Friday</td>\n",
       "    </tr>\n",
       "  </tbody>\n",
       "</table>\n",
       "<p>5 rows × 29 columns</p>\n",
       "</div>\n",
       "    <div class=\"colab-df-buttons\">\n",
       "\n",
       "  <div class=\"colab-df-container\">\n",
       "    <button class=\"colab-df-convert\" onclick=\"convertToInteractive('df-b58cc1f5-700e-4db5-90c3-a15395a7f28f')\"\n",
       "            title=\"Convert this dataframe to an interactive table.\"\n",
       "            style=\"display:none;\">\n",
       "\n",
       "  <svg xmlns=\"http://www.w3.org/2000/svg\" height=\"24px\" viewBox=\"0 -960 960 960\">\n",
       "    <path d=\"M120-120v-720h720v720H120Zm60-500h600v-160H180v160Zm220 220h160v-160H400v160Zm0 220h160v-160H400v160ZM180-400h160v-160H180v160Zm440 0h160v-160H620v160ZM180-180h160v-160H180v160Zm440 0h160v-160H620v160Z\"/>\n",
       "  </svg>\n",
       "    </button>\n",
       "\n",
       "  <style>\n",
       "    .colab-df-container {\n",
       "      display:flex;\n",
       "      gap: 12px;\n",
       "    }\n",
       "\n",
       "    .colab-df-convert {\n",
       "      background-color: #E8F0FE;\n",
       "      border: none;\n",
       "      border-radius: 50%;\n",
       "      cursor: pointer;\n",
       "      display: none;\n",
       "      fill: #1967D2;\n",
       "      height: 32px;\n",
       "      padding: 0 0 0 0;\n",
       "      width: 32px;\n",
       "    }\n",
       "\n",
       "    .colab-df-convert:hover {\n",
       "      background-color: #E2EBFA;\n",
       "      box-shadow: 0px 1px 2px rgba(60, 64, 67, 0.3), 0px 1px 3px 1px rgba(60, 64, 67, 0.15);\n",
       "      fill: #174EA6;\n",
       "    }\n",
       "\n",
       "    .colab-df-buttons div {\n",
       "      margin-bottom: 4px;\n",
       "    }\n",
       "\n",
       "    [theme=dark] .colab-df-convert {\n",
       "      background-color: #3B4455;\n",
       "      fill: #D2E3FC;\n",
       "    }\n",
       "\n",
       "    [theme=dark] .colab-df-convert:hover {\n",
       "      background-color: #434B5C;\n",
       "      box-shadow: 0px 1px 3px 1px rgba(0, 0, 0, 0.15);\n",
       "      filter: drop-shadow(0px 1px 2px rgba(0, 0, 0, 0.3));\n",
       "      fill: #FFFFFF;\n",
       "    }\n",
       "  </style>\n",
       "\n",
       "    <script>\n",
       "      const buttonEl =\n",
       "        document.querySelector('#df-b58cc1f5-700e-4db5-90c3-a15395a7f28f button.colab-df-convert');\n",
       "      buttonEl.style.display =\n",
       "        google.colab.kernel.accessAllowed ? 'block' : 'none';\n",
       "\n",
       "      async function convertToInteractive(key) {\n",
       "        const element = document.querySelector('#df-b58cc1f5-700e-4db5-90c3-a15395a7f28f');\n",
       "        const dataTable =\n",
       "          await google.colab.kernel.invokeFunction('convertToInteractive',\n",
       "                                                    [key], {});\n",
       "        if (!dataTable) return;\n",
       "\n",
       "        const docLinkHtml = 'Like what you see? Visit the ' +\n",
       "          '<a target=\"_blank\" href=https://colab.research.google.com/notebooks/data_table.ipynb>data table notebook</a>'\n",
       "          + ' to learn more about interactive tables.';\n",
       "        element.innerHTML = '';\n",
       "        dataTable['output_type'] = 'display_data';\n",
       "        await google.colab.output.renderOutput(dataTable, element);\n",
       "        const docLink = document.createElement('div');\n",
       "        docLink.innerHTML = docLinkHtml;\n",
       "        element.appendChild(docLink);\n",
       "      }\n",
       "    </script>\n",
       "  </div>\n",
       "\n",
       "\n",
       "<div id=\"df-5a3ee2b5-c523-48e8-a5a9-e45cf6337271\">\n",
       "  <button class=\"colab-df-quickchart\" onclick=\"quickchart('df-5a3ee2b5-c523-48e8-a5a9-e45cf6337271')\"\n",
       "            title=\"Suggest charts\"\n",
       "            style=\"display:none;\">\n",
       "\n",
       "<svg xmlns=\"http://www.w3.org/2000/svg\" height=\"24px\"viewBox=\"0 0 24 24\"\n",
       "     width=\"24px\">\n",
       "    <g>\n",
       "        <path d=\"M19 3H5c-1.1 0-2 .9-2 2v14c0 1.1.9 2 2 2h14c1.1 0 2-.9 2-2V5c0-1.1-.9-2-2-2zM9 17H7v-7h2v7zm4 0h-2V7h2v10zm4 0h-2v-4h2v4z\"/>\n",
       "    </g>\n",
       "</svg>\n",
       "  </button>\n",
       "\n",
       "<style>\n",
       "  .colab-df-quickchart {\n",
       "      --bg-color: #E8F0FE;\n",
       "      --fill-color: #1967D2;\n",
       "      --hover-bg-color: #E2EBFA;\n",
       "      --hover-fill-color: #174EA6;\n",
       "      --disabled-fill-color: #AAA;\n",
       "      --disabled-bg-color: #DDD;\n",
       "  }\n",
       "\n",
       "  [theme=dark] .colab-df-quickchart {\n",
       "      --bg-color: #3B4455;\n",
       "      --fill-color: #D2E3FC;\n",
       "      --hover-bg-color: #434B5C;\n",
       "      --hover-fill-color: #FFFFFF;\n",
       "      --disabled-bg-color: #3B4455;\n",
       "      --disabled-fill-color: #666;\n",
       "  }\n",
       "\n",
       "  .colab-df-quickchart {\n",
       "    background-color: var(--bg-color);\n",
       "    border: none;\n",
       "    border-radius: 50%;\n",
       "    cursor: pointer;\n",
       "    display: none;\n",
       "    fill: var(--fill-color);\n",
       "    height: 32px;\n",
       "    padding: 0;\n",
       "    width: 32px;\n",
       "  }\n",
       "\n",
       "  .colab-df-quickchart:hover {\n",
       "    background-color: var(--hover-bg-color);\n",
       "    box-shadow: 0 1px 2px rgba(60, 64, 67, 0.3), 0 1px 3px 1px rgba(60, 64, 67, 0.15);\n",
       "    fill: var(--button-hover-fill-color);\n",
       "  }\n",
       "\n",
       "  .colab-df-quickchart-complete:disabled,\n",
       "  .colab-df-quickchart-complete:disabled:hover {\n",
       "    background-color: var(--disabled-bg-color);\n",
       "    fill: var(--disabled-fill-color);\n",
       "    box-shadow: none;\n",
       "  }\n",
       "\n",
       "  .colab-df-spinner {\n",
       "    border: 2px solid var(--fill-color);\n",
       "    border-color: transparent;\n",
       "    border-bottom-color: var(--fill-color);\n",
       "    animation:\n",
       "      spin 1s steps(1) infinite;\n",
       "  }\n",
       "\n",
       "  @keyframes spin {\n",
       "    0% {\n",
       "      border-color: transparent;\n",
       "      border-bottom-color: var(--fill-color);\n",
       "      border-left-color: var(--fill-color);\n",
       "    }\n",
       "    20% {\n",
       "      border-color: transparent;\n",
       "      border-left-color: var(--fill-color);\n",
       "      border-top-color: var(--fill-color);\n",
       "    }\n",
       "    30% {\n",
       "      border-color: transparent;\n",
       "      border-left-color: var(--fill-color);\n",
       "      border-top-color: var(--fill-color);\n",
       "      border-right-color: var(--fill-color);\n",
       "    }\n",
       "    40% {\n",
       "      border-color: transparent;\n",
       "      border-right-color: var(--fill-color);\n",
       "      border-top-color: var(--fill-color);\n",
       "    }\n",
       "    60% {\n",
       "      border-color: transparent;\n",
       "      border-right-color: var(--fill-color);\n",
       "    }\n",
       "    80% {\n",
       "      border-color: transparent;\n",
       "      border-right-color: var(--fill-color);\n",
       "      border-bottom-color: var(--fill-color);\n",
       "    }\n",
       "    90% {\n",
       "      border-color: transparent;\n",
       "      border-bottom-color: var(--fill-color);\n",
       "    }\n",
       "  }\n",
       "</style>\n",
       "\n",
       "  <script>\n",
       "    async function quickchart(key) {\n",
       "      const quickchartButtonEl =\n",
       "        document.querySelector('#' + key + ' button');\n",
       "      quickchartButtonEl.disabled = true;  // To prevent multiple clicks.\n",
       "      quickchartButtonEl.classList.add('colab-df-spinner');\n",
       "      try {\n",
       "        const charts = await google.colab.kernel.invokeFunction(\n",
       "            'suggestCharts', [key], {});\n",
       "      } catch (error) {\n",
       "        console.error('Error during call to suggestCharts:', error);\n",
       "      }\n",
       "      quickchartButtonEl.classList.remove('colab-df-spinner');\n",
       "      quickchartButtonEl.classList.add('colab-df-quickchart-complete');\n",
       "    }\n",
       "    (() => {\n",
       "      let quickchartButtonEl =\n",
       "        document.querySelector('#df-5a3ee2b5-c523-48e8-a5a9-e45cf6337271 button');\n",
       "      quickchartButtonEl.style.display =\n",
       "        google.colab.kernel.accessAllowed ? 'block' : 'none';\n",
       "    })();\n",
       "  </script>\n",
       "</div>\n",
       "\n",
       "    </div>\n",
       "  </div>\n"
      ],
      "text/plain": [
       "   CMPLNT_NUM  ADDR_PCT_CD        BORO_NM CMPLNT_FR_DT        CMPLNT_FR_TM  \\\n",
       "11  262794218        123.0  STATEN ISLAND   2023-02-01 2024-05-02 01:35:00   \n",
       "13  266228476        123.0  STATEN ISLAND   2023-04-02 2024-05-02 00:20:00   \n",
       "14  262909178        121.0  STATEN ISLAND   2023-02-02 2024-05-02 12:05:00   \n",
       "16  270654701        121.0  STATEN ISLAND   2023-07-01 2024-05-02 05:25:00   \n",
       "17  264963813        121.0  STATEN ISLAND   2023-03-10 2024-05-02 17:00:00   \n",
       "\n",
       "   CMPLNT_TO_DT        CMPLNT_TO_TM CRM_ATPT_CPTD_CD  JURISDICTION_CODE  \\\n",
       "11   2023-02-01 2024-05-02 01:40:00        COMPLETED                  0   \n",
       "13   2023-04-02 2024-05-02 00:25:00        COMPLETED                  0   \n",
       "14   2023-02-02 2024-05-02 12:10:00        COMPLETED                  0   \n",
       "16   2023-07-01 2024-05-02 05:32:00        ATTEMPTED                  0   \n",
       "17   2023-03-11 2024-05-02 11:45:00        COMPLETED                  0   \n",
       "\n",
       "    JURIS_DESC  ... VIC_AGE_GROUP        VIC_RACE  VIC_SEX   Latitude  \\\n",
       "11           8  ...         45-64         UNKNOWN        M  40.547045   \n",
       "13           8  ...         45-64           WHITE        M  40.514779   \n",
       "14           8  ...         45-64           WHITE        M  40.634491   \n",
       "16           8  ...         25-44           BLACK        F  40.631010   \n",
       "17           8  ...         25-44  WHITE HISPANIC        F  40.623188   \n",
       "\n",
       "    Longitude days_duration month   day hour    weekday  \n",
       "11 -74.220517        0 days   2.0   1.0    1  Wednesday  \n",
       "13 -74.248458        0 days   4.0   2.0    0     Sunday  \n",
       "14 -74.131551        0 days   2.0   2.0   12   Thursday  \n",
       "16 -74.160384        0 days   7.0   1.0    5   Saturday  \n",
       "17 -74.149238        1 days   3.0  10.0   17     Friday  \n",
       "\n",
       "[5 rows x 29 columns]"
      ]
     },
     "execution_count": 213,
     "metadata": {},
     "output_type": "execute_result"
    }
   ],
   "source": [
    "# apply le on categorical feature columns\n",
    "df1['OFNS_DESC'] = le.fit_transform(df1['OFNS_DESC'])\n",
    "df1.head()"
   ]
  },
  {
   "cell_type": "code",
   "execution_count": 214,
   "metadata": {
    "colab": {
     "base_uri": "https://localhost:8080/",
     "height": 206
    },
    "id": "LcOYwxt7hYVo",
    "outputId": "333813f5-8b90-499c-8c03-66c1504728af"
   },
   "outputs": [
    {
     "data": {
      "application/vnd.google.colaboratory.intrinsic+json": {
       "type": "dataframe",
       "variable_name": "dummy3"
      },
      "text/html": [
       "\n",
       "  <div id=\"df-90e62b4e-2f42-4fab-b61b-2e729a916318\" class=\"colab-df-container\">\n",
       "    <div>\n",
       "<style scoped>\n",
       "    .dataframe tbody tr th:only-of-type {\n",
       "        vertical-align: middle;\n",
       "    }\n",
       "\n",
       "    .dataframe tbody tr th {\n",
       "        vertical-align: top;\n",
       "    }\n",
       "\n",
       "    .dataframe thead th {\n",
       "        text-align: right;\n",
       "    }\n",
       "</style>\n",
       "<table border=\"1\" class=\"dataframe\">\n",
       "  <thead>\n",
       "    <tr style=\"text-align: right;\">\n",
       "      <th></th>\n",
       "      <th>FRONT OF</th>\n",
       "      <th>INSIDE</th>\n",
       "      <th>OPPOSITE OF</th>\n",
       "      <th>REAR OF</th>\n",
       "    </tr>\n",
       "  </thead>\n",
       "  <tbody>\n",
       "    <tr>\n",
       "      <th>11</th>\n",
       "      <td>0</td>\n",
       "      <td>1</td>\n",
       "      <td>0</td>\n",
       "      <td>0</td>\n",
       "    </tr>\n",
       "    <tr>\n",
       "      <th>13</th>\n",
       "      <td>1</td>\n",
       "      <td>0</td>\n",
       "      <td>0</td>\n",
       "      <td>0</td>\n",
       "    </tr>\n",
       "    <tr>\n",
       "      <th>14</th>\n",
       "      <td>0</td>\n",
       "      <td>1</td>\n",
       "      <td>0</td>\n",
       "      <td>0</td>\n",
       "    </tr>\n",
       "    <tr>\n",
       "      <th>16</th>\n",
       "      <td>1</td>\n",
       "      <td>0</td>\n",
       "      <td>0</td>\n",
       "      <td>0</td>\n",
       "    </tr>\n",
       "    <tr>\n",
       "      <th>17</th>\n",
       "      <td>0</td>\n",
       "      <td>1</td>\n",
       "      <td>0</td>\n",
       "      <td>0</td>\n",
       "    </tr>\n",
       "  </tbody>\n",
       "</table>\n",
       "</div>\n",
       "    <div class=\"colab-df-buttons\">\n",
       "\n",
       "  <div class=\"colab-df-container\">\n",
       "    <button class=\"colab-df-convert\" onclick=\"convertToInteractive('df-90e62b4e-2f42-4fab-b61b-2e729a916318')\"\n",
       "            title=\"Convert this dataframe to an interactive table.\"\n",
       "            style=\"display:none;\">\n",
       "\n",
       "  <svg xmlns=\"http://www.w3.org/2000/svg\" height=\"24px\" viewBox=\"0 -960 960 960\">\n",
       "    <path d=\"M120-120v-720h720v720H120Zm60-500h600v-160H180v160Zm220 220h160v-160H400v160Zm0 220h160v-160H400v160ZM180-400h160v-160H180v160Zm440 0h160v-160H620v160ZM180-180h160v-160H180v160Zm440 0h160v-160H620v160Z\"/>\n",
       "  </svg>\n",
       "    </button>\n",
       "\n",
       "  <style>\n",
       "    .colab-df-container {\n",
       "      display:flex;\n",
       "      gap: 12px;\n",
       "    }\n",
       "\n",
       "    .colab-df-convert {\n",
       "      background-color: #E8F0FE;\n",
       "      border: none;\n",
       "      border-radius: 50%;\n",
       "      cursor: pointer;\n",
       "      display: none;\n",
       "      fill: #1967D2;\n",
       "      height: 32px;\n",
       "      padding: 0 0 0 0;\n",
       "      width: 32px;\n",
       "    }\n",
       "\n",
       "    .colab-df-convert:hover {\n",
       "      background-color: #E2EBFA;\n",
       "      box-shadow: 0px 1px 2px rgba(60, 64, 67, 0.3), 0px 1px 3px 1px rgba(60, 64, 67, 0.15);\n",
       "      fill: #174EA6;\n",
       "    }\n",
       "\n",
       "    .colab-df-buttons div {\n",
       "      margin-bottom: 4px;\n",
       "    }\n",
       "\n",
       "    [theme=dark] .colab-df-convert {\n",
       "      background-color: #3B4455;\n",
       "      fill: #D2E3FC;\n",
       "    }\n",
       "\n",
       "    [theme=dark] .colab-df-convert:hover {\n",
       "      background-color: #434B5C;\n",
       "      box-shadow: 0px 1px 3px 1px rgba(0, 0, 0, 0.15);\n",
       "      filter: drop-shadow(0px 1px 2px rgba(0, 0, 0, 0.3));\n",
       "      fill: #FFFFFF;\n",
       "    }\n",
       "  </style>\n",
       "\n",
       "    <script>\n",
       "      const buttonEl =\n",
       "        document.querySelector('#df-90e62b4e-2f42-4fab-b61b-2e729a916318 button.colab-df-convert');\n",
       "      buttonEl.style.display =\n",
       "        google.colab.kernel.accessAllowed ? 'block' : 'none';\n",
       "\n",
       "      async function convertToInteractive(key) {\n",
       "        const element = document.querySelector('#df-90e62b4e-2f42-4fab-b61b-2e729a916318');\n",
       "        const dataTable =\n",
       "          await google.colab.kernel.invokeFunction('convertToInteractive',\n",
       "                                                    [key], {});\n",
       "        if (!dataTable) return;\n",
       "\n",
       "        const docLinkHtml = 'Like what you see? Visit the ' +\n",
       "          '<a target=\"_blank\" href=https://colab.research.google.com/notebooks/data_table.ipynb>data table notebook</a>'\n",
       "          + ' to learn more about interactive tables.';\n",
       "        element.innerHTML = '';\n",
       "        dataTable['output_type'] = 'display_data';\n",
       "        await google.colab.output.renderOutput(dataTable, element);\n",
       "        const docLink = document.createElement('div');\n",
       "        docLink.innerHTML = docLinkHtml;\n",
       "        element.appendChild(docLink);\n",
       "      }\n",
       "    </script>\n",
       "  </div>\n",
       "\n",
       "\n",
       "<div id=\"df-7d34a92b-04ae-4d2b-8223-542832f08c19\">\n",
       "  <button class=\"colab-df-quickchart\" onclick=\"quickchart('df-7d34a92b-04ae-4d2b-8223-542832f08c19')\"\n",
       "            title=\"Suggest charts\"\n",
       "            style=\"display:none;\">\n",
       "\n",
       "<svg xmlns=\"http://www.w3.org/2000/svg\" height=\"24px\"viewBox=\"0 0 24 24\"\n",
       "     width=\"24px\">\n",
       "    <g>\n",
       "        <path d=\"M19 3H5c-1.1 0-2 .9-2 2v14c0 1.1.9 2 2 2h14c1.1 0 2-.9 2-2V5c0-1.1-.9-2-2-2zM9 17H7v-7h2v7zm4 0h-2V7h2v10zm4 0h-2v-4h2v4z\"/>\n",
       "    </g>\n",
       "</svg>\n",
       "  </button>\n",
       "\n",
       "<style>\n",
       "  .colab-df-quickchart {\n",
       "      --bg-color: #E8F0FE;\n",
       "      --fill-color: #1967D2;\n",
       "      --hover-bg-color: #E2EBFA;\n",
       "      --hover-fill-color: #174EA6;\n",
       "      --disabled-fill-color: #AAA;\n",
       "      --disabled-bg-color: #DDD;\n",
       "  }\n",
       "\n",
       "  [theme=dark] .colab-df-quickchart {\n",
       "      --bg-color: #3B4455;\n",
       "      --fill-color: #D2E3FC;\n",
       "      --hover-bg-color: #434B5C;\n",
       "      --hover-fill-color: #FFFFFF;\n",
       "      --disabled-bg-color: #3B4455;\n",
       "      --disabled-fill-color: #666;\n",
       "  }\n",
       "\n",
       "  .colab-df-quickchart {\n",
       "    background-color: var(--bg-color);\n",
       "    border: none;\n",
       "    border-radius: 50%;\n",
       "    cursor: pointer;\n",
       "    display: none;\n",
       "    fill: var(--fill-color);\n",
       "    height: 32px;\n",
       "    padding: 0;\n",
       "    width: 32px;\n",
       "  }\n",
       "\n",
       "  .colab-df-quickchart:hover {\n",
       "    background-color: var(--hover-bg-color);\n",
       "    box-shadow: 0 1px 2px rgba(60, 64, 67, 0.3), 0 1px 3px 1px rgba(60, 64, 67, 0.15);\n",
       "    fill: var(--button-hover-fill-color);\n",
       "  }\n",
       "\n",
       "  .colab-df-quickchart-complete:disabled,\n",
       "  .colab-df-quickchart-complete:disabled:hover {\n",
       "    background-color: var(--disabled-bg-color);\n",
       "    fill: var(--disabled-fill-color);\n",
       "    box-shadow: none;\n",
       "  }\n",
       "\n",
       "  .colab-df-spinner {\n",
       "    border: 2px solid var(--fill-color);\n",
       "    border-color: transparent;\n",
       "    border-bottom-color: var(--fill-color);\n",
       "    animation:\n",
       "      spin 1s steps(1) infinite;\n",
       "  }\n",
       "\n",
       "  @keyframes spin {\n",
       "    0% {\n",
       "      border-color: transparent;\n",
       "      border-bottom-color: var(--fill-color);\n",
       "      border-left-color: var(--fill-color);\n",
       "    }\n",
       "    20% {\n",
       "      border-color: transparent;\n",
       "      border-left-color: var(--fill-color);\n",
       "      border-top-color: var(--fill-color);\n",
       "    }\n",
       "    30% {\n",
       "      border-color: transparent;\n",
       "      border-left-color: var(--fill-color);\n",
       "      border-top-color: var(--fill-color);\n",
       "      border-right-color: var(--fill-color);\n",
       "    }\n",
       "    40% {\n",
       "      border-color: transparent;\n",
       "      border-right-color: var(--fill-color);\n",
       "      border-top-color: var(--fill-color);\n",
       "    }\n",
       "    60% {\n",
       "      border-color: transparent;\n",
       "      border-right-color: var(--fill-color);\n",
       "    }\n",
       "    80% {\n",
       "      border-color: transparent;\n",
       "      border-right-color: var(--fill-color);\n",
       "      border-bottom-color: var(--fill-color);\n",
       "    }\n",
       "    90% {\n",
       "      border-color: transparent;\n",
       "      border-bottom-color: var(--fill-color);\n",
       "    }\n",
       "  }\n",
       "</style>\n",
       "\n",
       "  <script>\n",
       "    async function quickchart(key) {\n",
       "      const quickchartButtonEl =\n",
       "        document.querySelector('#' + key + ' button');\n",
       "      quickchartButtonEl.disabled = true;  // To prevent multiple clicks.\n",
       "      quickchartButtonEl.classList.add('colab-df-spinner');\n",
       "      try {\n",
       "        const charts = await google.colab.kernel.invokeFunction(\n",
       "            'suggestCharts', [key], {});\n",
       "      } catch (error) {\n",
       "        console.error('Error during call to suggestCharts:', error);\n",
       "      }\n",
       "      quickchartButtonEl.classList.remove('colab-df-spinner');\n",
       "      quickchartButtonEl.classList.add('colab-df-quickchart-complete');\n",
       "    }\n",
       "    (() => {\n",
       "      let quickchartButtonEl =\n",
       "        document.querySelector('#df-7d34a92b-04ae-4d2b-8223-542832f08c19 button');\n",
       "      quickchartButtonEl.style.display =\n",
       "        google.colab.kernel.accessAllowed ? 'block' : 'none';\n",
       "    })();\n",
       "  </script>\n",
       "</div>\n",
       "\n",
       "    </div>\n",
       "  </div>\n"
      ],
      "text/plain": [
       "    FRONT OF  INSIDE  OPPOSITE OF  REAR OF\n",
       "11         0       1            0        0\n",
       "13         1       0            0        0\n",
       "14         0       1            0        0\n",
       "16         1       0            0        0\n",
       "17         0       1            0        0"
      ]
     },
     "execution_count": 214,
     "metadata": {},
     "output_type": "execute_result"
    }
   ],
   "source": [
    "# Use dummy variables to represent the crime descriptions\n",
    "dummy3 = pd.get_dummies(df1['LOC_OF_OCCUR_DESC'],dtype='int')\n",
    "# Take a look\n",
    "dummy3.head()"
   ]
  },
  {
   "cell_type": "code",
   "execution_count": 215,
   "metadata": {
    "colab": {
     "base_uri": "https://localhost:8080/",
     "height": 360
    },
    "id": "nXyueUSFhm4g",
    "outputId": "c393ba5a-c08d-4d9e-c4fa-de3085ac056e"
   },
   "outputs": [
    {
     "data": {
      "application/vnd.google.colaboratory.intrinsic+json": {
       "type": "dataframe",
       "variable_name": "df1"
      },
      "text/html": [
       "\n",
       "  <div id=\"df-43499909-fd12-4fda-81eb-6a2f675f6065\" class=\"colab-df-container\">\n",
       "    <div>\n",
       "<style scoped>\n",
       "    .dataframe tbody tr th:only-of-type {\n",
       "        vertical-align: middle;\n",
       "    }\n",
       "\n",
       "    .dataframe tbody tr th {\n",
       "        vertical-align: top;\n",
       "    }\n",
       "\n",
       "    .dataframe thead th {\n",
       "        text-align: right;\n",
       "    }\n",
       "</style>\n",
       "<table border=\"1\" class=\"dataframe\">\n",
       "  <thead>\n",
       "    <tr style=\"text-align: right;\">\n",
       "      <th></th>\n",
       "      <th>CMPLNT_NUM</th>\n",
       "      <th>ADDR_PCT_CD</th>\n",
       "      <th>BORO_NM</th>\n",
       "      <th>CMPLNT_FR_DT</th>\n",
       "      <th>CMPLNT_FR_TM</th>\n",
       "      <th>CMPLNT_TO_DT</th>\n",
       "      <th>CMPLNT_TO_TM</th>\n",
       "      <th>CRM_ATPT_CPTD_CD</th>\n",
       "      <th>JURISDICTION_CODE</th>\n",
       "      <th>JURIS_DESC</th>\n",
       "      <th>...</th>\n",
       "      <th>Longitude</th>\n",
       "      <th>days_duration</th>\n",
       "      <th>month</th>\n",
       "      <th>day</th>\n",
       "      <th>hour</th>\n",
       "      <th>weekday</th>\n",
       "      <th>FRONT OF</th>\n",
       "      <th>INSIDE</th>\n",
       "      <th>OPPOSITE OF</th>\n",
       "      <th>REAR OF</th>\n",
       "    </tr>\n",
       "  </thead>\n",
       "  <tbody>\n",
       "    <tr>\n",
       "      <th>11</th>\n",
       "      <td>262794218</td>\n",
       "      <td>123.0</td>\n",
       "      <td>STATEN ISLAND</td>\n",
       "      <td>2023-02-01</td>\n",
       "      <td>2024-05-02 01:35:00</td>\n",
       "      <td>2023-02-01</td>\n",
       "      <td>2024-05-02 01:40:00</td>\n",
       "      <td>COMPLETED</td>\n",
       "      <td>0</td>\n",
       "      <td>8</td>\n",
       "      <td>...</td>\n",
       "      <td>-74.220517</td>\n",
       "      <td>0 days</td>\n",
       "      <td>2.0</td>\n",
       "      <td>1.0</td>\n",
       "      <td>1</td>\n",
       "      <td>Wednesday</td>\n",
       "      <td>0</td>\n",
       "      <td>1</td>\n",
       "      <td>0</td>\n",
       "      <td>0</td>\n",
       "    </tr>\n",
       "    <tr>\n",
       "      <th>13</th>\n",
       "      <td>266228476</td>\n",
       "      <td>123.0</td>\n",
       "      <td>STATEN ISLAND</td>\n",
       "      <td>2023-04-02</td>\n",
       "      <td>2024-05-02 00:20:00</td>\n",
       "      <td>2023-04-02</td>\n",
       "      <td>2024-05-02 00:25:00</td>\n",
       "      <td>COMPLETED</td>\n",
       "      <td>0</td>\n",
       "      <td>8</td>\n",
       "      <td>...</td>\n",
       "      <td>-74.248458</td>\n",
       "      <td>0 days</td>\n",
       "      <td>4.0</td>\n",
       "      <td>2.0</td>\n",
       "      <td>0</td>\n",
       "      <td>Sunday</td>\n",
       "      <td>1</td>\n",
       "      <td>0</td>\n",
       "      <td>0</td>\n",
       "      <td>0</td>\n",
       "    </tr>\n",
       "    <tr>\n",
       "      <th>14</th>\n",
       "      <td>262909178</td>\n",
       "      <td>121.0</td>\n",
       "      <td>STATEN ISLAND</td>\n",
       "      <td>2023-02-02</td>\n",
       "      <td>2024-05-02 12:05:00</td>\n",
       "      <td>2023-02-02</td>\n",
       "      <td>2024-05-02 12:10:00</td>\n",
       "      <td>COMPLETED</td>\n",
       "      <td>0</td>\n",
       "      <td>8</td>\n",
       "      <td>...</td>\n",
       "      <td>-74.131551</td>\n",
       "      <td>0 days</td>\n",
       "      <td>2.0</td>\n",
       "      <td>2.0</td>\n",
       "      <td>12</td>\n",
       "      <td>Thursday</td>\n",
       "      <td>0</td>\n",
       "      <td>1</td>\n",
       "      <td>0</td>\n",
       "      <td>0</td>\n",
       "    </tr>\n",
       "    <tr>\n",
       "      <th>16</th>\n",
       "      <td>270654701</td>\n",
       "      <td>121.0</td>\n",
       "      <td>STATEN ISLAND</td>\n",
       "      <td>2023-07-01</td>\n",
       "      <td>2024-05-02 05:25:00</td>\n",
       "      <td>2023-07-01</td>\n",
       "      <td>2024-05-02 05:32:00</td>\n",
       "      <td>ATTEMPTED</td>\n",
       "      <td>0</td>\n",
       "      <td>8</td>\n",
       "      <td>...</td>\n",
       "      <td>-74.160384</td>\n",
       "      <td>0 days</td>\n",
       "      <td>7.0</td>\n",
       "      <td>1.0</td>\n",
       "      <td>5</td>\n",
       "      <td>Saturday</td>\n",
       "      <td>1</td>\n",
       "      <td>0</td>\n",
       "      <td>0</td>\n",
       "      <td>0</td>\n",
       "    </tr>\n",
       "    <tr>\n",
       "      <th>17</th>\n",
       "      <td>264963813</td>\n",
       "      <td>121.0</td>\n",
       "      <td>STATEN ISLAND</td>\n",
       "      <td>2023-03-10</td>\n",
       "      <td>2024-05-02 17:00:00</td>\n",
       "      <td>2023-03-11</td>\n",
       "      <td>2024-05-02 11:45:00</td>\n",
       "      <td>COMPLETED</td>\n",
       "      <td>0</td>\n",
       "      <td>8</td>\n",
       "      <td>...</td>\n",
       "      <td>-74.149238</td>\n",
       "      <td>1 days</td>\n",
       "      <td>3.0</td>\n",
       "      <td>10.0</td>\n",
       "      <td>17</td>\n",
       "      <td>Friday</td>\n",
       "      <td>0</td>\n",
       "      <td>1</td>\n",
       "      <td>0</td>\n",
       "      <td>0</td>\n",
       "    </tr>\n",
       "  </tbody>\n",
       "</table>\n",
       "<p>5 rows × 32 columns</p>\n",
       "</div>\n",
       "    <div class=\"colab-df-buttons\">\n",
       "\n",
       "  <div class=\"colab-df-container\">\n",
       "    <button class=\"colab-df-convert\" onclick=\"convertToInteractive('df-43499909-fd12-4fda-81eb-6a2f675f6065')\"\n",
       "            title=\"Convert this dataframe to an interactive table.\"\n",
       "            style=\"display:none;\">\n",
       "\n",
       "  <svg xmlns=\"http://www.w3.org/2000/svg\" height=\"24px\" viewBox=\"0 -960 960 960\">\n",
       "    <path d=\"M120-120v-720h720v720H120Zm60-500h600v-160H180v160Zm220 220h160v-160H400v160Zm0 220h160v-160H400v160ZM180-400h160v-160H180v160Zm440 0h160v-160H620v160ZM180-180h160v-160H180v160Zm440 0h160v-160H620v160Z\"/>\n",
       "  </svg>\n",
       "    </button>\n",
       "\n",
       "  <style>\n",
       "    .colab-df-container {\n",
       "      display:flex;\n",
       "      gap: 12px;\n",
       "    }\n",
       "\n",
       "    .colab-df-convert {\n",
       "      background-color: #E8F0FE;\n",
       "      border: none;\n",
       "      border-radius: 50%;\n",
       "      cursor: pointer;\n",
       "      display: none;\n",
       "      fill: #1967D2;\n",
       "      height: 32px;\n",
       "      padding: 0 0 0 0;\n",
       "      width: 32px;\n",
       "    }\n",
       "\n",
       "    .colab-df-convert:hover {\n",
       "      background-color: #E2EBFA;\n",
       "      box-shadow: 0px 1px 2px rgba(60, 64, 67, 0.3), 0px 1px 3px 1px rgba(60, 64, 67, 0.15);\n",
       "      fill: #174EA6;\n",
       "    }\n",
       "\n",
       "    .colab-df-buttons div {\n",
       "      margin-bottom: 4px;\n",
       "    }\n",
       "\n",
       "    [theme=dark] .colab-df-convert {\n",
       "      background-color: #3B4455;\n",
       "      fill: #D2E3FC;\n",
       "    }\n",
       "\n",
       "    [theme=dark] .colab-df-convert:hover {\n",
       "      background-color: #434B5C;\n",
       "      box-shadow: 0px 1px 3px 1px rgba(0, 0, 0, 0.15);\n",
       "      filter: drop-shadow(0px 1px 2px rgba(0, 0, 0, 0.3));\n",
       "      fill: #FFFFFF;\n",
       "    }\n",
       "  </style>\n",
       "\n",
       "    <script>\n",
       "      const buttonEl =\n",
       "        document.querySelector('#df-43499909-fd12-4fda-81eb-6a2f675f6065 button.colab-df-convert');\n",
       "      buttonEl.style.display =\n",
       "        google.colab.kernel.accessAllowed ? 'block' : 'none';\n",
       "\n",
       "      async function convertToInteractive(key) {\n",
       "        const element = document.querySelector('#df-43499909-fd12-4fda-81eb-6a2f675f6065');\n",
       "        const dataTable =\n",
       "          await google.colab.kernel.invokeFunction('convertToInteractive',\n",
       "                                                    [key], {});\n",
       "        if (!dataTable) return;\n",
       "\n",
       "        const docLinkHtml = 'Like what you see? Visit the ' +\n",
       "          '<a target=\"_blank\" href=https://colab.research.google.com/notebooks/data_table.ipynb>data table notebook</a>'\n",
       "          + ' to learn more about interactive tables.';\n",
       "        element.innerHTML = '';\n",
       "        dataTable['output_type'] = 'display_data';\n",
       "        await google.colab.output.renderOutput(dataTable, element);\n",
       "        const docLink = document.createElement('div');\n",
       "        docLink.innerHTML = docLinkHtml;\n",
       "        element.appendChild(docLink);\n",
       "      }\n",
       "    </script>\n",
       "  </div>\n",
       "\n",
       "\n",
       "<div id=\"df-a41283fc-f635-4a02-a483-af06ce18cdc6\">\n",
       "  <button class=\"colab-df-quickchart\" onclick=\"quickchart('df-a41283fc-f635-4a02-a483-af06ce18cdc6')\"\n",
       "            title=\"Suggest charts\"\n",
       "            style=\"display:none;\">\n",
       "\n",
       "<svg xmlns=\"http://www.w3.org/2000/svg\" height=\"24px\"viewBox=\"0 0 24 24\"\n",
       "     width=\"24px\">\n",
       "    <g>\n",
       "        <path d=\"M19 3H5c-1.1 0-2 .9-2 2v14c0 1.1.9 2 2 2h14c1.1 0 2-.9 2-2V5c0-1.1-.9-2-2-2zM9 17H7v-7h2v7zm4 0h-2V7h2v10zm4 0h-2v-4h2v4z\"/>\n",
       "    </g>\n",
       "</svg>\n",
       "  </button>\n",
       "\n",
       "<style>\n",
       "  .colab-df-quickchart {\n",
       "      --bg-color: #E8F0FE;\n",
       "      --fill-color: #1967D2;\n",
       "      --hover-bg-color: #E2EBFA;\n",
       "      --hover-fill-color: #174EA6;\n",
       "      --disabled-fill-color: #AAA;\n",
       "      --disabled-bg-color: #DDD;\n",
       "  }\n",
       "\n",
       "  [theme=dark] .colab-df-quickchart {\n",
       "      --bg-color: #3B4455;\n",
       "      --fill-color: #D2E3FC;\n",
       "      --hover-bg-color: #434B5C;\n",
       "      --hover-fill-color: #FFFFFF;\n",
       "      --disabled-bg-color: #3B4455;\n",
       "      --disabled-fill-color: #666;\n",
       "  }\n",
       "\n",
       "  .colab-df-quickchart {\n",
       "    background-color: var(--bg-color);\n",
       "    border: none;\n",
       "    border-radius: 50%;\n",
       "    cursor: pointer;\n",
       "    display: none;\n",
       "    fill: var(--fill-color);\n",
       "    height: 32px;\n",
       "    padding: 0;\n",
       "    width: 32px;\n",
       "  }\n",
       "\n",
       "  .colab-df-quickchart:hover {\n",
       "    background-color: var(--hover-bg-color);\n",
       "    box-shadow: 0 1px 2px rgba(60, 64, 67, 0.3), 0 1px 3px 1px rgba(60, 64, 67, 0.15);\n",
       "    fill: var(--button-hover-fill-color);\n",
       "  }\n",
       "\n",
       "  .colab-df-quickchart-complete:disabled,\n",
       "  .colab-df-quickchart-complete:disabled:hover {\n",
       "    background-color: var(--disabled-bg-color);\n",
       "    fill: var(--disabled-fill-color);\n",
       "    box-shadow: none;\n",
       "  }\n",
       "\n",
       "  .colab-df-spinner {\n",
       "    border: 2px solid var(--fill-color);\n",
       "    border-color: transparent;\n",
       "    border-bottom-color: var(--fill-color);\n",
       "    animation:\n",
       "      spin 1s steps(1) infinite;\n",
       "  }\n",
       "\n",
       "  @keyframes spin {\n",
       "    0% {\n",
       "      border-color: transparent;\n",
       "      border-bottom-color: var(--fill-color);\n",
       "      border-left-color: var(--fill-color);\n",
       "    }\n",
       "    20% {\n",
       "      border-color: transparent;\n",
       "      border-left-color: var(--fill-color);\n",
       "      border-top-color: var(--fill-color);\n",
       "    }\n",
       "    30% {\n",
       "      border-color: transparent;\n",
       "      border-left-color: var(--fill-color);\n",
       "      border-top-color: var(--fill-color);\n",
       "      border-right-color: var(--fill-color);\n",
       "    }\n",
       "    40% {\n",
       "      border-color: transparent;\n",
       "      border-right-color: var(--fill-color);\n",
       "      border-top-color: var(--fill-color);\n",
       "    }\n",
       "    60% {\n",
       "      border-color: transparent;\n",
       "      border-right-color: var(--fill-color);\n",
       "    }\n",
       "    80% {\n",
       "      border-color: transparent;\n",
       "      border-right-color: var(--fill-color);\n",
       "      border-bottom-color: var(--fill-color);\n",
       "    }\n",
       "    90% {\n",
       "      border-color: transparent;\n",
       "      border-bottom-color: var(--fill-color);\n",
       "    }\n",
       "  }\n",
       "</style>\n",
       "\n",
       "  <script>\n",
       "    async function quickchart(key) {\n",
       "      const quickchartButtonEl =\n",
       "        document.querySelector('#' + key + ' button');\n",
       "      quickchartButtonEl.disabled = true;  // To prevent multiple clicks.\n",
       "      quickchartButtonEl.classList.add('colab-df-spinner');\n",
       "      try {\n",
       "        const charts = await google.colab.kernel.invokeFunction(\n",
       "            'suggestCharts', [key], {});\n",
       "      } catch (error) {\n",
       "        console.error('Error during call to suggestCharts:', error);\n",
       "      }\n",
       "      quickchartButtonEl.classList.remove('colab-df-spinner');\n",
       "      quickchartButtonEl.classList.add('colab-df-quickchart-complete');\n",
       "    }\n",
       "    (() => {\n",
       "      let quickchartButtonEl =\n",
       "        document.querySelector('#df-a41283fc-f635-4a02-a483-af06ce18cdc6 button');\n",
       "      quickchartButtonEl.style.display =\n",
       "        google.colab.kernel.accessAllowed ? 'block' : 'none';\n",
       "    })();\n",
       "  </script>\n",
       "</div>\n",
       "\n",
       "    </div>\n",
       "  </div>\n"
      ],
      "text/plain": [
       "   CMPLNT_NUM  ADDR_PCT_CD        BORO_NM CMPLNT_FR_DT        CMPLNT_FR_TM  \\\n",
       "11  262794218        123.0  STATEN ISLAND   2023-02-01 2024-05-02 01:35:00   \n",
       "13  266228476        123.0  STATEN ISLAND   2023-04-02 2024-05-02 00:20:00   \n",
       "14  262909178        121.0  STATEN ISLAND   2023-02-02 2024-05-02 12:05:00   \n",
       "16  270654701        121.0  STATEN ISLAND   2023-07-01 2024-05-02 05:25:00   \n",
       "17  264963813        121.0  STATEN ISLAND   2023-03-10 2024-05-02 17:00:00   \n",
       "\n",
       "   CMPLNT_TO_DT        CMPLNT_TO_TM CRM_ATPT_CPTD_CD  JURISDICTION_CODE  \\\n",
       "11   2023-02-01 2024-05-02 01:40:00        COMPLETED                  0   \n",
       "13   2023-04-02 2024-05-02 00:25:00        COMPLETED                  0   \n",
       "14   2023-02-02 2024-05-02 12:10:00        COMPLETED                  0   \n",
       "16   2023-07-01 2024-05-02 05:32:00        ATTEMPTED                  0   \n",
       "17   2023-03-11 2024-05-02 11:45:00        COMPLETED                  0   \n",
       "\n",
       "    JURIS_DESC  ...  Longitude  days_duration month   day hour    weekday  \\\n",
       "11           8  ... -74.220517         0 days   2.0   1.0    1  Wednesday   \n",
       "13           8  ... -74.248458         0 days   4.0   2.0    0     Sunday   \n",
       "14           8  ... -74.131551         0 days   2.0   2.0   12   Thursday   \n",
       "16           8  ... -74.160384         0 days   7.0   1.0    5   Saturday   \n",
       "17           8  ... -74.149238         1 days   3.0  10.0   17     Friday   \n",
       "\n",
       "   FRONT OF INSIDE OPPOSITE OF REAR OF  \n",
       "11        0      1           0       0  \n",
       "13        1      0           0       0  \n",
       "14        0      1           0       0  \n",
       "16        1      0           0       0  \n",
       "17        0      1           0       0  \n",
       "\n",
       "[5 rows x 32 columns]"
      ]
     },
     "execution_count": 215,
     "metadata": {},
     "output_type": "execute_result"
    }
   ],
   "source": [
    "df1 = pd.concat([df1, dummy3], axis=1).drop('LOC_OF_OCCUR_DESC', axis=1)\n",
    "df1.head()\n"
   ]
  },
  {
   "cell_type": "code",
   "execution_count": 216,
   "metadata": {
    "colab": {
     "base_uri": "https://localhost:8080/"
    },
    "id": "LIKZz4LOM-DL",
    "outputId": "08d9a3e3-7a0b-46b7-e0ac-7b3d6f10767b"
   },
   "outputs": [
    {
     "data": {
      "text/plain": [
       "PREM_TYP_DESC\n",
       "RESIDENCE - APT. HOUSE        104789\n",
       "STREET                         85605\n",
       "RESIDENCE-HOUSE                42356\n",
       "RESIDENCE - PUBLIC HOUSING     33820\n",
       "CHAIN STORE                    26724\n",
       "                               ...  \n",
       "VIDEO STORE                       31\n",
       "CEMETERY                          28\n",
       "LOAN COMPANY                      21\n",
       "TAXI/LIVERY (UNLICENSED)          21\n",
       "AIRPORT TERMINAL                  18\n",
       "Name: count, Length: 76, dtype: int64"
      ]
     },
     "execution_count": 216,
     "metadata": {},
     "output_type": "execute_result"
    }
   ],
   "source": [
    "df[\"PREM_TYP_DESC\"].value_counts()"
   ]
  },
  {
   "cell_type": "code",
   "execution_count": 217,
   "metadata": {
    "colab": {
     "base_uri": "https://localhost:8080/",
     "height": 360
    },
    "id": "HoL92frMNOdQ",
    "outputId": "6cc96b73-dea9-4d47-eeff-882160cfc915"
   },
   "outputs": [
    {
     "data": {
      "application/vnd.google.colaboratory.intrinsic+json": {
       "type": "dataframe",
       "variable_name": "df1"
      },
      "text/html": [
       "\n",
       "  <div id=\"df-daae91db-805e-40a6-a354-22c05817c1be\" class=\"colab-df-container\">\n",
       "    <div>\n",
       "<style scoped>\n",
       "    .dataframe tbody tr th:only-of-type {\n",
       "        vertical-align: middle;\n",
       "    }\n",
       "\n",
       "    .dataframe tbody tr th {\n",
       "        vertical-align: top;\n",
       "    }\n",
       "\n",
       "    .dataframe thead th {\n",
       "        text-align: right;\n",
       "    }\n",
       "</style>\n",
       "<table border=\"1\" class=\"dataframe\">\n",
       "  <thead>\n",
       "    <tr style=\"text-align: right;\">\n",
       "      <th></th>\n",
       "      <th>CMPLNT_NUM</th>\n",
       "      <th>ADDR_PCT_CD</th>\n",
       "      <th>BORO_NM</th>\n",
       "      <th>CMPLNT_FR_DT</th>\n",
       "      <th>CMPLNT_FR_TM</th>\n",
       "      <th>CMPLNT_TO_DT</th>\n",
       "      <th>CMPLNT_TO_TM</th>\n",
       "      <th>CRM_ATPT_CPTD_CD</th>\n",
       "      <th>JURISDICTION_CODE</th>\n",
       "      <th>JURIS_DESC</th>\n",
       "      <th>...</th>\n",
       "      <th>Longitude</th>\n",
       "      <th>days_duration</th>\n",
       "      <th>month</th>\n",
       "      <th>day</th>\n",
       "      <th>hour</th>\n",
       "      <th>weekday</th>\n",
       "      <th>FRONT OF</th>\n",
       "      <th>INSIDE</th>\n",
       "      <th>OPPOSITE OF</th>\n",
       "      <th>REAR OF</th>\n",
       "    </tr>\n",
       "  </thead>\n",
       "  <tbody>\n",
       "    <tr>\n",
       "      <th>11</th>\n",
       "      <td>262794218</td>\n",
       "      <td>123.0</td>\n",
       "      <td>STATEN ISLAND</td>\n",
       "      <td>2023-02-01</td>\n",
       "      <td>2024-05-02 01:35:00</td>\n",
       "      <td>2023-02-01</td>\n",
       "      <td>2024-05-02 01:40:00</td>\n",
       "      <td>COMPLETED</td>\n",
       "      <td>0</td>\n",
       "      <td>8</td>\n",
       "      <td>...</td>\n",
       "      <td>-74.220517</td>\n",
       "      <td>0 days</td>\n",
       "      <td>2.0</td>\n",
       "      <td>1.0</td>\n",
       "      <td>1</td>\n",
       "      <td>Wednesday</td>\n",
       "      <td>0</td>\n",
       "      <td>1</td>\n",
       "      <td>0</td>\n",
       "      <td>0</td>\n",
       "    </tr>\n",
       "    <tr>\n",
       "      <th>13</th>\n",
       "      <td>266228476</td>\n",
       "      <td>123.0</td>\n",
       "      <td>STATEN ISLAND</td>\n",
       "      <td>2023-04-02</td>\n",
       "      <td>2024-05-02 00:20:00</td>\n",
       "      <td>2023-04-02</td>\n",
       "      <td>2024-05-02 00:25:00</td>\n",
       "      <td>COMPLETED</td>\n",
       "      <td>0</td>\n",
       "      <td>8</td>\n",
       "      <td>...</td>\n",
       "      <td>-74.248458</td>\n",
       "      <td>0 days</td>\n",
       "      <td>4.0</td>\n",
       "      <td>2.0</td>\n",
       "      <td>0</td>\n",
       "      <td>Sunday</td>\n",
       "      <td>1</td>\n",
       "      <td>0</td>\n",
       "      <td>0</td>\n",
       "      <td>0</td>\n",
       "    </tr>\n",
       "    <tr>\n",
       "      <th>14</th>\n",
       "      <td>262909178</td>\n",
       "      <td>121.0</td>\n",
       "      <td>STATEN ISLAND</td>\n",
       "      <td>2023-02-02</td>\n",
       "      <td>2024-05-02 12:05:00</td>\n",
       "      <td>2023-02-02</td>\n",
       "      <td>2024-05-02 12:10:00</td>\n",
       "      <td>COMPLETED</td>\n",
       "      <td>0</td>\n",
       "      <td>8</td>\n",
       "      <td>...</td>\n",
       "      <td>-74.131551</td>\n",
       "      <td>0 days</td>\n",
       "      <td>2.0</td>\n",
       "      <td>2.0</td>\n",
       "      <td>12</td>\n",
       "      <td>Thursday</td>\n",
       "      <td>0</td>\n",
       "      <td>1</td>\n",
       "      <td>0</td>\n",
       "      <td>0</td>\n",
       "    </tr>\n",
       "    <tr>\n",
       "      <th>16</th>\n",
       "      <td>270654701</td>\n",
       "      <td>121.0</td>\n",
       "      <td>STATEN ISLAND</td>\n",
       "      <td>2023-07-01</td>\n",
       "      <td>2024-05-02 05:25:00</td>\n",
       "      <td>2023-07-01</td>\n",
       "      <td>2024-05-02 05:32:00</td>\n",
       "      <td>ATTEMPTED</td>\n",
       "      <td>0</td>\n",
       "      <td>8</td>\n",
       "      <td>...</td>\n",
       "      <td>-74.160384</td>\n",
       "      <td>0 days</td>\n",
       "      <td>7.0</td>\n",
       "      <td>1.0</td>\n",
       "      <td>5</td>\n",
       "      <td>Saturday</td>\n",
       "      <td>1</td>\n",
       "      <td>0</td>\n",
       "      <td>0</td>\n",
       "      <td>0</td>\n",
       "    </tr>\n",
       "    <tr>\n",
       "      <th>17</th>\n",
       "      <td>264963813</td>\n",
       "      <td>121.0</td>\n",
       "      <td>STATEN ISLAND</td>\n",
       "      <td>2023-03-10</td>\n",
       "      <td>2024-05-02 17:00:00</td>\n",
       "      <td>2023-03-11</td>\n",
       "      <td>2024-05-02 11:45:00</td>\n",
       "      <td>COMPLETED</td>\n",
       "      <td>0</td>\n",
       "      <td>8</td>\n",
       "      <td>...</td>\n",
       "      <td>-74.149238</td>\n",
       "      <td>1 days</td>\n",
       "      <td>3.0</td>\n",
       "      <td>10.0</td>\n",
       "      <td>17</td>\n",
       "      <td>Friday</td>\n",
       "      <td>0</td>\n",
       "      <td>1</td>\n",
       "      <td>0</td>\n",
       "      <td>0</td>\n",
       "    </tr>\n",
       "  </tbody>\n",
       "</table>\n",
       "<p>5 rows × 32 columns</p>\n",
       "</div>\n",
       "    <div class=\"colab-df-buttons\">\n",
       "\n",
       "  <div class=\"colab-df-container\">\n",
       "    <button class=\"colab-df-convert\" onclick=\"convertToInteractive('df-daae91db-805e-40a6-a354-22c05817c1be')\"\n",
       "            title=\"Convert this dataframe to an interactive table.\"\n",
       "            style=\"display:none;\">\n",
       "\n",
       "  <svg xmlns=\"http://www.w3.org/2000/svg\" height=\"24px\" viewBox=\"0 -960 960 960\">\n",
       "    <path d=\"M120-120v-720h720v720H120Zm60-500h600v-160H180v160Zm220 220h160v-160H400v160Zm0 220h160v-160H400v160ZM180-400h160v-160H180v160Zm440 0h160v-160H620v160ZM180-180h160v-160H180v160Zm440 0h160v-160H620v160Z\"/>\n",
       "  </svg>\n",
       "    </button>\n",
       "\n",
       "  <style>\n",
       "    .colab-df-container {\n",
       "      display:flex;\n",
       "      gap: 12px;\n",
       "    }\n",
       "\n",
       "    .colab-df-convert {\n",
       "      background-color: #E8F0FE;\n",
       "      border: none;\n",
       "      border-radius: 50%;\n",
       "      cursor: pointer;\n",
       "      display: none;\n",
       "      fill: #1967D2;\n",
       "      height: 32px;\n",
       "      padding: 0 0 0 0;\n",
       "      width: 32px;\n",
       "    }\n",
       "\n",
       "    .colab-df-convert:hover {\n",
       "      background-color: #E2EBFA;\n",
       "      box-shadow: 0px 1px 2px rgba(60, 64, 67, 0.3), 0px 1px 3px 1px rgba(60, 64, 67, 0.15);\n",
       "      fill: #174EA6;\n",
       "    }\n",
       "\n",
       "    .colab-df-buttons div {\n",
       "      margin-bottom: 4px;\n",
       "    }\n",
       "\n",
       "    [theme=dark] .colab-df-convert {\n",
       "      background-color: #3B4455;\n",
       "      fill: #D2E3FC;\n",
       "    }\n",
       "\n",
       "    [theme=dark] .colab-df-convert:hover {\n",
       "      background-color: #434B5C;\n",
       "      box-shadow: 0px 1px 3px 1px rgba(0, 0, 0, 0.15);\n",
       "      filter: drop-shadow(0px 1px 2px rgba(0, 0, 0, 0.3));\n",
       "      fill: #FFFFFF;\n",
       "    }\n",
       "  </style>\n",
       "\n",
       "    <script>\n",
       "      const buttonEl =\n",
       "        document.querySelector('#df-daae91db-805e-40a6-a354-22c05817c1be button.colab-df-convert');\n",
       "      buttonEl.style.display =\n",
       "        google.colab.kernel.accessAllowed ? 'block' : 'none';\n",
       "\n",
       "      async function convertToInteractive(key) {\n",
       "        const element = document.querySelector('#df-daae91db-805e-40a6-a354-22c05817c1be');\n",
       "        const dataTable =\n",
       "          await google.colab.kernel.invokeFunction('convertToInteractive',\n",
       "                                                    [key], {});\n",
       "        if (!dataTable) return;\n",
       "\n",
       "        const docLinkHtml = 'Like what you see? Visit the ' +\n",
       "          '<a target=\"_blank\" href=https://colab.research.google.com/notebooks/data_table.ipynb>data table notebook</a>'\n",
       "          + ' to learn more about interactive tables.';\n",
       "        element.innerHTML = '';\n",
       "        dataTable['output_type'] = 'display_data';\n",
       "        await google.colab.output.renderOutput(dataTable, element);\n",
       "        const docLink = document.createElement('div');\n",
       "        docLink.innerHTML = docLinkHtml;\n",
       "        element.appendChild(docLink);\n",
       "      }\n",
       "    </script>\n",
       "  </div>\n",
       "\n",
       "\n",
       "<div id=\"df-c3f7d6bb-61b8-4e73-acb4-d204dbb7b8de\">\n",
       "  <button class=\"colab-df-quickchart\" onclick=\"quickchart('df-c3f7d6bb-61b8-4e73-acb4-d204dbb7b8de')\"\n",
       "            title=\"Suggest charts\"\n",
       "            style=\"display:none;\">\n",
       "\n",
       "<svg xmlns=\"http://www.w3.org/2000/svg\" height=\"24px\"viewBox=\"0 0 24 24\"\n",
       "     width=\"24px\">\n",
       "    <g>\n",
       "        <path d=\"M19 3H5c-1.1 0-2 .9-2 2v14c0 1.1.9 2 2 2h14c1.1 0 2-.9 2-2V5c0-1.1-.9-2-2-2zM9 17H7v-7h2v7zm4 0h-2V7h2v10zm4 0h-2v-4h2v4z\"/>\n",
       "    </g>\n",
       "</svg>\n",
       "  </button>\n",
       "\n",
       "<style>\n",
       "  .colab-df-quickchart {\n",
       "      --bg-color: #E8F0FE;\n",
       "      --fill-color: #1967D2;\n",
       "      --hover-bg-color: #E2EBFA;\n",
       "      --hover-fill-color: #174EA6;\n",
       "      --disabled-fill-color: #AAA;\n",
       "      --disabled-bg-color: #DDD;\n",
       "  }\n",
       "\n",
       "  [theme=dark] .colab-df-quickchart {\n",
       "      --bg-color: #3B4455;\n",
       "      --fill-color: #D2E3FC;\n",
       "      --hover-bg-color: #434B5C;\n",
       "      --hover-fill-color: #FFFFFF;\n",
       "      --disabled-bg-color: #3B4455;\n",
       "      --disabled-fill-color: #666;\n",
       "  }\n",
       "\n",
       "  .colab-df-quickchart {\n",
       "    background-color: var(--bg-color);\n",
       "    border: none;\n",
       "    border-radius: 50%;\n",
       "    cursor: pointer;\n",
       "    display: none;\n",
       "    fill: var(--fill-color);\n",
       "    height: 32px;\n",
       "    padding: 0;\n",
       "    width: 32px;\n",
       "  }\n",
       "\n",
       "  .colab-df-quickchart:hover {\n",
       "    background-color: var(--hover-bg-color);\n",
       "    box-shadow: 0 1px 2px rgba(60, 64, 67, 0.3), 0 1px 3px 1px rgba(60, 64, 67, 0.15);\n",
       "    fill: var(--button-hover-fill-color);\n",
       "  }\n",
       "\n",
       "  .colab-df-quickchart-complete:disabled,\n",
       "  .colab-df-quickchart-complete:disabled:hover {\n",
       "    background-color: var(--disabled-bg-color);\n",
       "    fill: var(--disabled-fill-color);\n",
       "    box-shadow: none;\n",
       "  }\n",
       "\n",
       "  .colab-df-spinner {\n",
       "    border: 2px solid var(--fill-color);\n",
       "    border-color: transparent;\n",
       "    border-bottom-color: var(--fill-color);\n",
       "    animation:\n",
       "      spin 1s steps(1) infinite;\n",
       "  }\n",
       "\n",
       "  @keyframes spin {\n",
       "    0% {\n",
       "      border-color: transparent;\n",
       "      border-bottom-color: var(--fill-color);\n",
       "      border-left-color: var(--fill-color);\n",
       "    }\n",
       "    20% {\n",
       "      border-color: transparent;\n",
       "      border-left-color: var(--fill-color);\n",
       "      border-top-color: var(--fill-color);\n",
       "    }\n",
       "    30% {\n",
       "      border-color: transparent;\n",
       "      border-left-color: var(--fill-color);\n",
       "      border-top-color: var(--fill-color);\n",
       "      border-right-color: var(--fill-color);\n",
       "    }\n",
       "    40% {\n",
       "      border-color: transparent;\n",
       "      border-right-color: var(--fill-color);\n",
       "      border-top-color: var(--fill-color);\n",
       "    }\n",
       "    60% {\n",
       "      border-color: transparent;\n",
       "      border-right-color: var(--fill-color);\n",
       "    }\n",
       "    80% {\n",
       "      border-color: transparent;\n",
       "      border-right-color: var(--fill-color);\n",
       "      border-bottom-color: var(--fill-color);\n",
       "    }\n",
       "    90% {\n",
       "      border-color: transparent;\n",
       "      border-bottom-color: var(--fill-color);\n",
       "    }\n",
       "  }\n",
       "</style>\n",
       "\n",
       "  <script>\n",
       "    async function quickchart(key) {\n",
       "      const quickchartButtonEl =\n",
       "        document.querySelector('#' + key + ' button');\n",
       "      quickchartButtonEl.disabled = true;  // To prevent multiple clicks.\n",
       "      quickchartButtonEl.classList.add('colab-df-spinner');\n",
       "      try {\n",
       "        const charts = await google.colab.kernel.invokeFunction(\n",
       "            'suggestCharts', [key], {});\n",
       "      } catch (error) {\n",
       "        console.error('Error during call to suggestCharts:', error);\n",
       "      }\n",
       "      quickchartButtonEl.classList.remove('colab-df-spinner');\n",
       "      quickchartButtonEl.classList.add('colab-df-quickchart-complete');\n",
       "    }\n",
       "    (() => {\n",
       "      let quickchartButtonEl =\n",
       "        document.querySelector('#df-c3f7d6bb-61b8-4e73-acb4-d204dbb7b8de button');\n",
       "      quickchartButtonEl.style.display =\n",
       "        google.colab.kernel.accessAllowed ? 'block' : 'none';\n",
       "    })();\n",
       "  </script>\n",
       "</div>\n",
       "\n",
       "    </div>\n",
       "  </div>\n"
      ],
      "text/plain": [
       "   CMPLNT_NUM  ADDR_PCT_CD        BORO_NM CMPLNT_FR_DT        CMPLNT_FR_TM  \\\n",
       "11  262794218        123.0  STATEN ISLAND   2023-02-01 2024-05-02 01:35:00   \n",
       "13  266228476        123.0  STATEN ISLAND   2023-04-02 2024-05-02 00:20:00   \n",
       "14  262909178        121.0  STATEN ISLAND   2023-02-02 2024-05-02 12:05:00   \n",
       "16  270654701        121.0  STATEN ISLAND   2023-07-01 2024-05-02 05:25:00   \n",
       "17  264963813        121.0  STATEN ISLAND   2023-03-10 2024-05-02 17:00:00   \n",
       "\n",
       "   CMPLNT_TO_DT        CMPLNT_TO_TM CRM_ATPT_CPTD_CD  JURISDICTION_CODE  \\\n",
       "11   2023-02-01 2024-05-02 01:40:00        COMPLETED                  0   \n",
       "13   2023-04-02 2024-05-02 00:25:00        COMPLETED                  0   \n",
       "14   2023-02-02 2024-05-02 12:10:00        COMPLETED                  0   \n",
       "16   2023-07-01 2024-05-02 05:32:00        ATTEMPTED                  0   \n",
       "17   2023-03-11 2024-05-02 11:45:00        COMPLETED                  0   \n",
       "\n",
       "    JURIS_DESC  ...  Longitude  days_duration month   day hour    weekday  \\\n",
       "11           8  ... -74.220517         0 days   2.0   1.0    1  Wednesday   \n",
       "13           8  ... -74.248458         0 days   4.0   2.0    0     Sunday   \n",
       "14           8  ... -74.131551         0 days   2.0   2.0   12   Thursday   \n",
       "16           8  ... -74.160384         0 days   7.0   1.0    5   Saturday   \n",
       "17           8  ... -74.149238         1 days   3.0  10.0   17     Friday   \n",
       "\n",
       "   FRONT OF INSIDE OPPOSITE OF REAR OF  \n",
       "11        0      1           0       0  \n",
       "13        1      0           0       0  \n",
       "14        0      1           0       0  \n",
       "16        1      0           0       0  \n",
       "17        0      1           0       0  \n",
       "\n",
       "[5 rows x 32 columns]"
      ]
     },
     "execution_count": 217,
     "metadata": {},
     "output_type": "execute_result"
    }
   ],
   "source": [
    "df1['PREM_TYP_DESC'] = le.fit_transform(df1['PREM_TYP_DESC'])\n",
    "df1.head()"
   ]
  },
  {
   "cell_type": "code",
   "execution_count": 218,
   "metadata": {
    "id": "BcAtUN-JNUDu"
   },
   "outputs": [],
   "source": [
    "#Suspect and Victim demographic info"
   ]
  },
  {
   "cell_type": "code",
   "execution_count": 219,
   "metadata": {
    "colab": {
     "base_uri": "https://localhost:8080/",
     "height": 206
    },
    "id": "y8TNYuHsNcwA",
    "outputId": "b6450150-310f-4cb4-b678-cbc53dbb08ec"
   },
   "outputs": [
    {
     "data": {
      "application/vnd.google.colaboratory.intrinsic+json": {
       "type": "dataframe",
       "variable_name": "df_pca"
      },
      "text/html": [
       "\n",
       "  <div id=\"df-2b1d661a-d76d-4c61-8b7f-794e4c1917e7\" class=\"colab-df-container\">\n",
       "    <div>\n",
       "<style scoped>\n",
       "    .dataframe tbody tr th:only-of-type {\n",
       "        vertical-align: middle;\n",
       "    }\n",
       "\n",
       "    .dataframe tbody tr th {\n",
       "        vertical-align: top;\n",
       "    }\n",
       "\n",
       "    .dataframe thead th {\n",
       "        text-align: right;\n",
       "    }\n",
       "</style>\n",
       "<table border=\"1\" class=\"dataframe\">\n",
       "  <thead>\n",
       "    <tr style=\"text-align: right;\">\n",
       "      <th></th>\n",
       "      <th>SUSP_AGE_GROUP</th>\n",
       "      <th>SUSP_RACE</th>\n",
       "      <th>SUSP_SEX</th>\n",
       "      <th>VIC_AGE_GROUP</th>\n",
       "      <th>VIC_RACE</th>\n",
       "      <th>VIC_SEX</th>\n",
       "    </tr>\n",
       "  </thead>\n",
       "  <tbody>\n",
       "    <tr>\n",
       "      <th>11</th>\n",
       "      <td>25-44</td>\n",
       "      <td>BLACK</td>\n",
       "      <td>F</td>\n",
       "      <td>45-64</td>\n",
       "      <td>UNKNOWN</td>\n",
       "      <td>M</td>\n",
       "    </tr>\n",
       "    <tr>\n",
       "      <th>13</th>\n",
       "      <td>UNKNOWN</td>\n",
       "      <td>WHITE</td>\n",
       "      <td>U</td>\n",
       "      <td>45-64</td>\n",
       "      <td>WHITE</td>\n",
       "      <td>M</td>\n",
       "    </tr>\n",
       "    <tr>\n",
       "      <th>14</th>\n",
       "      <td>25-44</td>\n",
       "      <td>BLACK</td>\n",
       "      <td>M</td>\n",
       "      <td>45-64</td>\n",
       "      <td>WHITE</td>\n",
       "      <td>M</td>\n",
       "    </tr>\n",
       "    <tr>\n",
       "      <th>16</th>\n",
       "      <td>45-64</td>\n",
       "      <td>WHITE HISPANIC</td>\n",
       "      <td>M</td>\n",
       "      <td>25-44</td>\n",
       "      <td>BLACK</td>\n",
       "      <td>F</td>\n",
       "    </tr>\n",
       "    <tr>\n",
       "      <th>17</th>\n",
       "      <td>UNKNOWN</td>\n",
       "      <td>WHITE HISPANIC</td>\n",
       "      <td>M</td>\n",
       "      <td>25-44</td>\n",
       "      <td>WHITE HISPANIC</td>\n",
       "      <td>F</td>\n",
       "    </tr>\n",
       "  </tbody>\n",
       "</table>\n",
       "</div>\n",
       "    <div class=\"colab-df-buttons\">\n",
       "\n",
       "  <div class=\"colab-df-container\">\n",
       "    <button class=\"colab-df-convert\" onclick=\"convertToInteractive('df-2b1d661a-d76d-4c61-8b7f-794e4c1917e7')\"\n",
       "            title=\"Convert this dataframe to an interactive table.\"\n",
       "            style=\"display:none;\">\n",
       "\n",
       "  <svg xmlns=\"http://www.w3.org/2000/svg\" height=\"24px\" viewBox=\"0 -960 960 960\">\n",
       "    <path d=\"M120-120v-720h720v720H120Zm60-500h600v-160H180v160Zm220 220h160v-160H400v160Zm0 220h160v-160H400v160ZM180-400h160v-160H180v160Zm440 0h160v-160H620v160ZM180-180h160v-160H180v160Zm440 0h160v-160H620v160Z\"/>\n",
       "  </svg>\n",
       "    </button>\n",
       "\n",
       "  <style>\n",
       "    .colab-df-container {\n",
       "      display:flex;\n",
       "      gap: 12px;\n",
       "    }\n",
       "\n",
       "    .colab-df-convert {\n",
       "      background-color: #E8F0FE;\n",
       "      border: none;\n",
       "      border-radius: 50%;\n",
       "      cursor: pointer;\n",
       "      display: none;\n",
       "      fill: #1967D2;\n",
       "      height: 32px;\n",
       "      padding: 0 0 0 0;\n",
       "      width: 32px;\n",
       "    }\n",
       "\n",
       "    .colab-df-convert:hover {\n",
       "      background-color: #E2EBFA;\n",
       "      box-shadow: 0px 1px 2px rgba(60, 64, 67, 0.3), 0px 1px 3px 1px rgba(60, 64, 67, 0.15);\n",
       "      fill: #174EA6;\n",
       "    }\n",
       "\n",
       "    .colab-df-buttons div {\n",
       "      margin-bottom: 4px;\n",
       "    }\n",
       "\n",
       "    [theme=dark] .colab-df-convert {\n",
       "      background-color: #3B4455;\n",
       "      fill: #D2E3FC;\n",
       "    }\n",
       "\n",
       "    [theme=dark] .colab-df-convert:hover {\n",
       "      background-color: #434B5C;\n",
       "      box-shadow: 0px 1px 3px 1px rgba(0, 0, 0, 0.15);\n",
       "      filter: drop-shadow(0px 1px 2px rgba(0, 0, 0, 0.3));\n",
       "      fill: #FFFFFF;\n",
       "    }\n",
       "  </style>\n",
       "\n",
       "    <script>\n",
       "      const buttonEl =\n",
       "        document.querySelector('#df-2b1d661a-d76d-4c61-8b7f-794e4c1917e7 button.colab-df-convert');\n",
       "      buttonEl.style.display =\n",
       "        google.colab.kernel.accessAllowed ? 'block' : 'none';\n",
       "\n",
       "      async function convertToInteractive(key) {\n",
       "        const element = document.querySelector('#df-2b1d661a-d76d-4c61-8b7f-794e4c1917e7');\n",
       "        const dataTable =\n",
       "          await google.colab.kernel.invokeFunction('convertToInteractive',\n",
       "                                                    [key], {});\n",
       "        if (!dataTable) return;\n",
       "\n",
       "        const docLinkHtml = 'Like what you see? Visit the ' +\n",
       "          '<a target=\"_blank\" href=https://colab.research.google.com/notebooks/data_table.ipynb>data table notebook</a>'\n",
       "          + ' to learn more about interactive tables.';\n",
       "        element.innerHTML = '';\n",
       "        dataTable['output_type'] = 'display_data';\n",
       "        await google.colab.output.renderOutput(dataTable, element);\n",
       "        const docLink = document.createElement('div');\n",
       "        docLink.innerHTML = docLinkHtml;\n",
       "        element.appendChild(docLink);\n",
       "      }\n",
       "    </script>\n",
       "  </div>\n",
       "\n",
       "\n",
       "<div id=\"df-d9703eca-da0e-43c2-9fb3-be09b4e88674\">\n",
       "  <button class=\"colab-df-quickchart\" onclick=\"quickchart('df-d9703eca-da0e-43c2-9fb3-be09b4e88674')\"\n",
       "            title=\"Suggest charts\"\n",
       "            style=\"display:none;\">\n",
       "\n",
       "<svg xmlns=\"http://www.w3.org/2000/svg\" height=\"24px\"viewBox=\"0 0 24 24\"\n",
       "     width=\"24px\">\n",
       "    <g>\n",
       "        <path d=\"M19 3H5c-1.1 0-2 .9-2 2v14c0 1.1.9 2 2 2h14c1.1 0 2-.9 2-2V5c0-1.1-.9-2-2-2zM9 17H7v-7h2v7zm4 0h-2V7h2v10zm4 0h-2v-4h2v4z\"/>\n",
       "    </g>\n",
       "</svg>\n",
       "  </button>\n",
       "\n",
       "<style>\n",
       "  .colab-df-quickchart {\n",
       "      --bg-color: #E8F0FE;\n",
       "      --fill-color: #1967D2;\n",
       "      --hover-bg-color: #E2EBFA;\n",
       "      --hover-fill-color: #174EA6;\n",
       "      --disabled-fill-color: #AAA;\n",
       "      --disabled-bg-color: #DDD;\n",
       "  }\n",
       "\n",
       "  [theme=dark] .colab-df-quickchart {\n",
       "      --bg-color: #3B4455;\n",
       "      --fill-color: #D2E3FC;\n",
       "      --hover-bg-color: #434B5C;\n",
       "      --hover-fill-color: #FFFFFF;\n",
       "      --disabled-bg-color: #3B4455;\n",
       "      --disabled-fill-color: #666;\n",
       "  }\n",
       "\n",
       "  .colab-df-quickchart {\n",
       "    background-color: var(--bg-color);\n",
       "    border: none;\n",
       "    border-radius: 50%;\n",
       "    cursor: pointer;\n",
       "    display: none;\n",
       "    fill: var(--fill-color);\n",
       "    height: 32px;\n",
       "    padding: 0;\n",
       "    width: 32px;\n",
       "  }\n",
       "\n",
       "  .colab-df-quickchart:hover {\n",
       "    background-color: var(--hover-bg-color);\n",
       "    box-shadow: 0 1px 2px rgba(60, 64, 67, 0.3), 0 1px 3px 1px rgba(60, 64, 67, 0.15);\n",
       "    fill: var(--button-hover-fill-color);\n",
       "  }\n",
       "\n",
       "  .colab-df-quickchart-complete:disabled,\n",
       "  .colab-df-quickchart-complete:disabled:hover {\n",
       "    background-color: var(--disabled-bg-color);\n",
       "    fill: var(--disabled-fill-color);\n",
       "    box-shadow: none;\n",
       "  }\n",
       "\n",
       "  .colab-df-spinner {\n",
       "    border: 2px solid var(--fill-color);\n",
       "    border-color: transparent;\n",
       "    border-bottom-color: var(--fill-color);\n",
       "    animation:\n",
       "      spin 1s steps(1) infinite;\n",
       "  }\n",
       "\n",
       "  @keyframes spin {\n",
       "    0% {\n",
       "      border-color: transparent;\n",
       "      border-bottom-color: var(--fill-color);\n",
       "      border-left-color: var(--fill-color);\n",
       "    }\n",
       "    20% {\n",
       "      border-color: transparent;\n",
       "      border-left-color: var(--fill-color);\n",
       "      border-top-color: var(--fill-color);\n",
       "    }\n",
       "    30% {\n",
       "      border-color: transparent;\n",
       "      border-left-color: var(--fill-color);\n",
       "      border-top-color: var(--fill-color);\n",
       "      border-right-color: var(--fill-color);\n",
       "    }\n",
       "    40% {\n",
       "      border-color: transparent;\n",
       "      border-right-color: var(--fill-color);\n",
       "      border-top-color: var(--fill-color);\n",
       "    }\n",
       "    60% {\n",
       "      border-color: transparent;\n",
       "      border-right-color: var(--fill-color);\n",
       "    }\n",
       "    80% {\n",
       "      border-color: transparent;\n",
       "      border-right-color: var(--fill-color);\n",
       "      border-bottom-color: var(--fill-color);\n",
       "    }\n",
       "    90% {\n",
       "      border-color: transparent;\n",
       "      border-bottom-color: var(--fill-color);\n",
       "    }\n",
       "  }\n",
       "</style>\n",
       "\n",
       "  <script>\n",
       "    async function quickchart(key) {\n",
       "      const quickchartButtonEl =\n",
       "        document.querySelector('#' + key + ' button');\n",
       "      quickchartButtonEl.disabled = true;  // To prevent multiple clicks.\n",
       "      quickchartButtonEl.classList.add('colab-df-spinner');\n",
       "      try {\n",
       "        const charts = await google.colab.kernel.invokeFunction(\n",
       "            'suggestCharts', [key], {});\n",
       "      } catch (error) {\n",
       "        console.error('Error during call to suggestCharts:', error);\n",
       "      }\n",
       "      quickchartButtonEl.classList.remove('colab-df-spinner');\n",
       "      quickchartButtonEl.classList.add('colab-df-quickchart-complete');\n",
       "    }\n",
       "    (() => {\n",
       "      let quickchartButtonEl =\n",
       "        document.querySelector('#df-d9703eca-da0e-43c2-9fb3-be09b4e88674 button');\n",
       "      quickchartButtonEl.style.display =\n",
       "        google.colab.kernel.accessAllowed ? 'block' : 'none';\n",
       "    })();\n",
       "  </script>\n",
       "</div>\n",
       "\n",
       "    </div>\n",
       "  </div>\n"
      ],
      "text/plain": [
       "   SUSP_AGE_GROUP       SUSP_RACE SUSP_SEX VIC_AGE_GROUP        VIC_RACE  \\\n",
       "11          25-44           BLACK        F         45-64         UNKNOWN   \n",
       "13        UNKNOWN           WHITE        U         45-64           WHITE   \n",
       "14          25-44           BLACK        M         45-64           WHITE   \n",
       "16          45-64  WHITE HISPANIC        M         25-44           BLACK   \n",
       "17        UNKNOWN  WHITE HISPANIC        M         25-44  WHITE HISPANIC   \n",
       "\n",
       "   VIC_SEX  \n",
       "11       M  \n",
       "13       M  \n",
       "14       M  \n",
       "16       F  \n",
       "17       F  "
      ]
     },
     "execution_count": 219,
     "metadata": {},
     "output_type": "execute_result"
    }
   ],
   "source": [
    "# Assign the new group\n",
    "df_pca = df1[['SUSP_AGE_GROUP','SUSP_RACE','SUSP_SEX', 'VIC_AGE_GROUP','VIC_RACE','VIC_SEX']]\n",
    "df_pca.head()"
   ]
  },
  {
   "cell_type": "code",
   "execution_count": 220,
   "metadata": {
    "colab": {
     "base_uri": "https://localhost:8080/"
    },
    "id": "gDvsFcKsNhQq",
    "outputId": "d5012a25-3125-41d0-c754-de9bc2ae210e"
   },
   "outputs": [
    {
     "name": "stdout",
     "output_type": "stream",
     "text": [
      "['F' 'U' 'M' 'UNKNOWN']\n",
      "['25-44' 'UNKNOWN' '45-64' '<18' '18-24' '65+']\n"
     ]
    },
    {
     "name": "stderr",
     "output_type": "stream",
     "text": [
      "<ipython-input-220-e9fc92c1aac8>:3: SettingWithCopyWarning: \n",
      "A value is trying to be set on a copy of a slice from a DataFrame\n",
      "\n",
      "See the caveats in the documentation: https://pandas.pydata.org/pandas-docs/stable/user_guide/indexing.html#returning-a-view-versus-a-copy\n",
      "  df_pca['SUSP_SEX'][df_pca['SUSP_SEX'] == 'U'] = np.nan\n",
      "<ipython-input-220-e9fc92c1aac8>:6: SettingWithCopyWarning: \n",
      "A value is trying to be set on a copy of a slice from a DataFrame\n",
      "\n",
      "See the caveats in the documentation: https://pandas.pydata.org/pandas-docs/stable/user_guide/indexing.html#returning-a-view-versus-a-copy\n",
      "  df_pca['SUSP_AGE_GROUP'][df_pca['SUSP_AGE_GROUP'] == 'UNKNOWN'] = np.nan\n"
     ]
    },
    {
     "name": "stdout",
     "output_type": "stream",
     "text": [
      "['BLACK' 'WHITE' 'WHITE HISPANIC' 'UNKNOWN' 'BLACK HISPANIC'\n",
      " 'ASIAN / PACIFIC ISLANDER' 'AMERICAN INDIAN/ALASKAN NATIVE']\n",
      "['45-64' '25-44' '65+' 'UNKNOWN' '<18' '18-24']\n"
     ]
    },
    {
     "name": "stderr",
     "output_type": "stream",
     "text": [
      "<ipython-input-220-e9fc92c1aac8>:9: SettingWithCopyWarning: \n",
      "A value is trying to be set on a copy of a slice from a DataFrame\n",
      "\n",
      "See the caveats in the documentation: https://pandas.pydata.org/pandas-docs/stable/user_guide/indexing.html#returning-a-view-versus-a-copy\n",
      "  df_pca['SUSP_RACE'][df_pca['SUSP_RACE'] == 'UNKNOWN'] = np.nan\n",
      "<ipython-input-220-e9fc92c1aac8>:12: SettingWithCopyWarning: \n",
      "A value is trying to be set on a copy of a slice from a DataFrame\n",
      "\n",
      "See the caveats in the documentation: https://pandas.pydata.org/pandas-docs/stable/user_guide/indexing.html#returning-a-view-versus-a-copy\n",
      "  df_pca['VIC_AGE_GROUP'][df_pca['VIC_AGE_GROUP'] == 'UNKNOWN'] = np.nan\n"
     ]
    },
    {
     "name": "stdout",
     "output_type": "stream",
     "text": [
      "['UNKNOWN' 'WHITE' 'BLACK' 'WHITE HISPANIC' 'ASIAN / PACIFIC ISLANDER'\n",
      " 'BLACK HISPANIC' 'AMERICAN INDIAN/ALASKAN NATIVE']\n",
      "['M' 'F' 'D' 'E' 'L']\n"
     ]
    },
    {
     "name": "stderr",
     "output_type": "stream",
     "text": [
      "<ipython-input-220-e9fc92c1aac8>:15: SettingWithCopyWarning: \n",
      "A value is trying to be set on a copy of a slice from a DataFrame\n",
      "\n",
      "See the caveats in the documentation: https://pandas.pydata.org/pandas-docs/stable/user_guide/indexing.html#returning-a-view-versus-a-copy\n",
      "  df_pca['VIC_RACE'][df_pca['VIC_RACE'] == 'UNKNOWN'] = np.nan\n",
      "<ipython-input-220-e9fc92c1aac8>:18: SettingWithCopyWarning: \n",
      "A value is trying to be set on a copy of a slice from a DataFrame\n",
      "\n",
      "See the caveats in the documentation: https://pandas.pydata.org/pandas-docs/stable/user_guide/indexing.html#returning-a-view-versus-a-copy\n",
      "  df_pca['VIC_SEX'][df_pca['VIC_SEX'] == 'E'] = np.nan\n",
      "<ipython-input-220-e9fc92c1aac8>:19: SettingWithCopyWarning: \n",
      "A value is trying to be set on a copy of a slice from a DataFrame\n",
      "\n",
      "See the caveats in the documentation: https://pandas.pydata.org/pandas-docs/stable/user_guide/indexing.html#returning-a-view-versus-a-copy\n",
      "  df_pca['VIC_SEX'][df_pca['VIC_SEX'] == 'D'] = np.nan\n"
     ]
    }
   ],
   "source": [
    "# Change UNKNOWN, E to np.Nan\n",
    "print(df_pca['SUSP_SEX'].unique())\n",
    "df_pca['SUSP_SEX'][df_pca['SUSP_SEX'] == 'U'] = np.nan\n",
    "\n",
    "print(df_pca['SUSP_AGE_GROUP'].unique())\n",
    "df_pca['SUSP_AGE_GROUP'][df_pca['SUSP_AGE_GROUP'] == 'UNKNOWN'] = np.nan\n",
    "\n",
    "print(df_pca['SUSP_RACE'].unique())\n",
    "df_pca['SUSP_RACE'][df_pca['SUSP_RACE'] == 'UNKNOWN'] = np.nan\n",
    "\n",
    "print(df_pca['VIC_AGE_GROUP'].unique())\n",
    "df_pca['VIC_AGE_GROUP'][df_pca['VIC_AGE_GROUP'] == 'UNKNOWN'] = np.nan\n",
    "\n",
    "print(df_pca['VIC_RACE'].unique())\n",
    "df_pca['VIC_RACE'][df_pca['VIC_RACE'] == 'UNKNOWN'] = np.nan\n",
    "\n",
    "print(df_pca['VIC_SEX'].unique())\n",
    "df_pca['VIC_SEX'][df_pca['VIC_SEX'] == 'E'] = np.nan\n",
    "df_pca['VIC_SEX'][df_pca['VIC_SEX'] == 'D'] = np.nan"
   ]
  },
  {
   "cell_type": "code",
   "execution_count": 221,
   "metadata": {
    "colab": {
     "base_uri": "https://localhost:8080/",
     "height": 424
    },
    "id": "oC-TOiyVNvsE",
    "outputId": "4e9b875b-f261-4d2d-ce21-0f24750af248"
   },
   "outputs": [
    {
     "data": {
      "application/vnd.google.colaboratory.intrinsic+json": {
       "type": "dataframe"
      },
      "text/html": [
       "\n",
       "  <div id=\"df-f6bcd674-f19f-4628-856b-f02da0711dba\" class=\"colab-df-container\">\n",
       "    <div>\n",
       "<style scoped>\n",
       "    .dataframe tbody tr th:only-of-type {\n",
       "        vertical-align: middle;\n",
       "    }\n",
       "\n",
       "    .dataframe tbody tr th {\n",
       "        vertical-align: top;\n",
       "    }\n",
       "\n",
       "    .dataframe thead th {\n",
       "        text-align: right;\n",
       "    }\n",
       "</style>\n",
       "<table border=\"1\" class=\"dataframe\">\n",
       "  <thead>\n",
       "    <tr style=\"text-align: right;\">\n",
       "      <th></th>\n",
       "      <th>SUSP_AGE_GROUP</th>\n",
       "      <th>SUSP_RACE</th>\n",
       "      <th>SUSP_SEX</th>\n",
       "      <th>VIC_AGE_GROUP</th>\n",
       "      <th>VIC_RACE</th>\n",
       "      <th>VIC_SEX</th>\n",
       "    </tr>\n",
       "  </thead>\n",
       "  <tbody>\n",
       "    <tr>\n",
       "      <th>11</th>\n",
       "      <td>1</td>\n",
       "      <td>2</td>\n",
       "      <td>0</td>\n",
       "      <td>2</td>\n",
       "      <td>NaN</td>\n",
       "      <td>2</td>\n",
       "    </tr>\n",
       "    <tr>\n",
       "      <th>13</th>\n",
       "      <td>NaN</td>\n",
       "      <td>4</td>\n",
       "      <td>NaN</td>\n",
       "      <td>2</td>\n",
       "      <td>4</td>\n",
       "      <td>2</td>\n",
       "    </tr>\n",
       "    <tr>\n",
       "      <th>14</th>\n",
       "      <td>1</td>\n",
       "      <td>2</td>\n",
       "      <td>1</td>\n",
       "      <td>2</td>\n",
       "      <td>4</td>\n",
       "      <td>2</td>\n",
       "    </tr>\n",
       "    <tr>\n",
       "      <th>16</th>\n",
       "      <td>2</td>\n",
       "      <td>5</td>\n",
       "      <td>1</td>\n",
       "      <td>1</td>\n",
       "      <td>2</td>\n",
       "      <td>0</td>\n",
       "    </tr>\n",
       "    <tr>\n",
       "      <th>17</th>\n",
       "      <td>NaN</td>\n",
       "      <td>5</td>\n",
       "      <td>1</td>\n",
       "      <td>1</td>\n",
       "      <td>5</td>\n",
       "      <td>0</td>\n",
       "    </tr>\n",
       "    <tr>\n",
       "      <th>...</th>\n",
       "      <td>...</td>\n",
       "      <td>...</td>\n",
       "      <td>...</td>\n",
       "      <td>...</td>\n",
       "      <td>...</td>\n",
       "      <td>...</td>\n",
       "    </tr>\n",
       "    <tr>\n",
       "      <th>555110</th>\n",
       "      <td>NaN</td>\n",
       "      <td>NaN</td>\n",
       "      <td>2</td>\n",
       "      <td>1</td>\n",
       "      <td>2</td>\n",
       "      <td>0</td>\n",
       "    </tr>\n",
       "    <tr>\n",
       "      <th>555111</th>\n",
       "      <td>0</td>\n",
       "      <td>2</td>\n",
       "      <td>1</td>\n",
       "      <td>1</td>\n",
       "      <td>2</td>\n",
       "      <td>0</td>\n",
       "    </tr>\n",
       "    <tr>\n",
       "      <th>555112</th>\n",
       "      <td>NaN</td>\n",
       "      <td>NaN</td>\n",
       "      <td>0</td>\n",
       "      <td>1</td>\n",
       "      <td>2</td>\n",
       "      <td>2</td>\n",
       "    </tr>\n",
       "    <tr>\n",
       "      <th>555113</th>\n",
       "      <td>1</td>\n",
       "      <td>1</td>\n",
       "      <td>1</td>\n",
       "      <td>2</td>\n",
       "      <td>1</td>\n",
       "      <td>2</td>\n",
       "    </tr>\n",
       "    <tr>\n",
       "      <th>555116</th>\n",
       "      <td>NaN</td>\n",
       "      <td>NaN</td>\n",
       "      <td>2</td>\n",
       "      <td>1</td>\n",
       "      <td>2</td>\n",
       "      <td>2</td>\n",
       "    </tr>\n",
       "  </tbody>\n",
       "</table>\n",
       "<p>395412 rows × 6 columns</p>\n",
       "</div>\n",
       "    <div class=\"colab-df-buttons\">\n",
       "\n",
       "  <div class=\"colab-df-container\">\n",
       "    <button class=\"colab-df-convert\" onclick=\"convertToInteractive('df-f6bcd674-f19f-4628-856b-f02da0711dba')\"\n",
       "            title=\"Convert this dataframe to an interactive table.\"\n",
       "            style=\"display:none;\">\n",
       "\n",
       "  <svg xmlns=\"http://www.w3.org/2000/svg\" height=\"24px\" viewBox=\"0 -960 960 960\">\n",
       "    <path d=\"M120-120v-720h720v720H120Zm60-500h600v-160H180v160Zm220 220h160v-160H400v160Zm0 220h160v-160H400v160ZM180-400h160v-160H180v160Zm440 0h160v-160H620v160ZM180-180h160v-160H180v160Zm440 0h160v-160H620v160Z\"/>\n",
       "  </svg>\n",
       "    </button>\n",
       "\n",
       "  <style>\n",
       "    .colab-df-container {\n",
       "      display:flex;\n",
       "      gap: 12px;\n",
       "    }\n",
       "\n",
       "    .colab-df-convert {\n",
       "      background-color: #E8F0FE;\n",
       "      border: none;\n",
       "      border-radius: 50%;\n",
       "      cursor: pointer;\n",
       "      display: none;\n",
       "      fill: #1967D2;\n",
       "      height: 32px;\n",
       "      padding: 0 0 0 0;\n",
       "      width: 32px;\n",
       "    }\n",
       "\n",
       "    .colab-df-convert:hover {\n",
       "      background-color: #E2EBFA;\n",
       "      box-shadow: 0px 1px 2px rgba(60, 64, 67, 0.3), 0px 1px 3px 1px rgba(60, 64, 67, 0.15);\n",
       "      fill: #174EA6;\n",
       "    }\n",
       "\n",
       "    .colab-df-buttons div {\n",
       "      margin-bottom: 4px;\n",
       "    }\n",
       "\n",
       "    [theme=dark] .colab-df-convert {\n",
       "      background-color: #3B4455;\n",
       "      fill: #D2E3FC;\n",
       "    }\n",
       "\n",
       "    [theme=dark] .colab-df-convert:hover {\n",
       "      background-color: #434B5C;\n",
       "      box-shadow: 0px 1px 3px 1px rgba(0, 0, 0, 0.15);\n",
       "      filter: drop-shadow(0px 1px 2px rgba(0, 0, 0, 0.3));\n",
       "      fill: #FFFFFF;\n",
       "    }\n",
       "  </style>\n",
       "\n",
       "    <script>\n",
       "      const buttonEl =\n",
       "        document.querySelector('#df-f6bcd674-f19f-4628-856b-f02da0711dba button.colab-df-convert');\n",
       "      buttonEl.style.display =\n",
       "        google.colab.kernel.accessAllowed ? 'block' : 'none';\n",
       "\n",
       "      async function convertToInteractive(key) {\n",
       "        const element = document.querySelector('#df-f6bcd674-f19f-4628-856b-f02da0711dba');\n",
       "        const dataTable =\n",
       "          await google.colab.kernel.invokeFunction('convertToInteractive',\n",
       "                                                    [key], {});\n",
       "        if (!dataTable) return;\n",
       "\n",
       "        const docLinkHtml = 'Like what you see? Visit the ' +\n",
       "          '<a target=\"_blank\" href=https://colab.research.google.com/notebooks/data_table.ipynb>data table notebook</a>'\n",
       "          + ' to learn more about interactive tables.';\n",
       "        element.innerHTML = '';\n",
       "        dataTable['output_type'] = 'display_data';\n",
       "        await google.colab.output.renderOutput(dataTable, element);\n",
       "        const docLink = document.createElement('div');\n",
       "        docLink.innerHTML = docLinkHtml;\n",
       "        element.appendChild(docLink);\n",
       "      }\n",
       "    </script>\n",
       "  </div>\n",
       "\n",
       "\n",
       "<div id=\"df-855d590a-1194-43d4-b4a2-a6dd2154fdd2\">\n",
       "  <button class=\"colab-df-quickchart\" onclick=\"quickchart('df-855d590a-1194-43d4-b4a2-a6dd2154fdd2')\"\n",
       "            title=\"Suggest charts\"\n",
       "            style=\"display:none;\">\n",
       "\n",
       "<svg xmlns=\"http://www.w3.org/2000/svg\" height=\"24px\"viewBox=\"0 0 24 24\"\n",
       "     width=\"24px\">\n",
       "    <g>\n",
       "        <path d=\"M19 3H5c-1.1 0-2 .9-2 2v14c0 1.1.9 2 2 2h14c1.1 0 2-.9 2-2V5c0-1.1-.9-2-2-2zM9 17H7v-7h2v7zm4 0h-2V7h2v10zm4 0h-2v-4h2v4z\"/>\n",
       "    </g>\n",
       "</svg>\n",
       "  </button>\n",
       "\n",
       "<style>\n",
       "  .colab-df-quickchart {\n",
       "      --bg-color: #E8F0FE;\n",
       "      --fill-color: #1967D2;\n",
       "      --hover-bg-color: #E2EBFA;\n",
       "      --hover-fill-color: #174EA6;\n",
       "      --disabled-fill-color: #AAA;\n",
       "      --disabled-bg-color: #DDD;\n",
       "  }\n",
       "\n",
       "  [theme=dark] .colab-df-quickchart {\n",
       "      --bg-color: #3B4455;\n",
       "      --fill-color: #D2E3FC;\n",
       "      --hover-bg-color: #434B5C;\n",
       "      --hover-fill-color: #FFFFFF;\n",
       "      --disabled-bg-color: #3B4455;\n",
       "      --disabled-fill-color: #666;\n",
       "  }\n",
       "\n",
       "  .colab-df-quickchart {\n",
       "    background-color: var(--bg-color);\n",
       "    border: none;\n",
       "    border-radius: 50%;\n",
       "    cursor: pointer;\n",
       "    display: none;\n",
       "    fill: var(--fill-color);\n",
       "    height: 32px;\n",
       "    padding: 0;\n",
       "    width: 32px;\n",
       "  }\n",
       "\n",
       "  .colab-df-quickchart:hover {\n",
       "    background-color: var(--hover-bg-color);\n",
       "    box-shadow: 0 1px 2px rgba(60, 64, 67, 0.3), 0 1px 3px 1px rgba(60, 64, 67, 0.15);\n",
       "    fill: var(--button-hover-fill-color);\n",
       "  }\n",
       "\n",
       "  .colab-df-quickchart-complete:disabled,\n",
       "  .colab-df-quickchart-complete:disabled:hover {\n",
       "    background-color: var(--disabled-bg-color);\n",
       "    fill: var(--disabled-fill-color);\n",
       "    box-shadow: none;\n",
       "  }\n",
       "\n",
       "  .colab-df-spinner {\n",
       "    border: 2px solid var(--fill-color);\n",
       "    border-color: transparent;\n",
       "    border-bottom-color: var(--fill-color);\n",
       "    animation:\n",
       "      spin 1s steps(1) infinite;\n",
       "  }\n",
       "\n",
       "  @keyframes spin {\n",
       "    0% {\n",
       "      border-color: transparent;\n",
       "      border-bottom-color: var(--fill-color);\n",
       "      border-left-color: var(--fill-color);\n",
       "    }\n",
       "    20% {\n",
       "      border-color: transparent;\n",
       "      border-left-color: var(--fill-color);\n",
       "      border-top-color: var(--fill-color);\n",
       "    }\n",
       "    30% {\n",
       "      border-color: transparent;\n",
       "      border-left-color: var(--fill-color);\n",
       "      border-top-color: var(--fill-color);\n",
       "      border-right-color: var(--fill-color);\n",
       "    }\n",
       "    40% {\n",
       "      border-color: transparent;\n",
       "      border-right-color: var(--fill-color);\n",
       "      border-top-color: var(--fill-color);\n",
       "    }\n",
       "    60% {\n",
       "      border-color: transparent;\n",
       "      border-right-color: var(--fill-color);\n",
       "    }\n",
       "    80% {\n",
       "      border-color: transparent;\n",
       "      border-right-color: var(--fill-color);\n",
       "      border-bottom-color: var(--fill-color);\n",
       "    }\n",
       "    90% {\n",
       "      border-color: transparent;\n",
       "      border-bottom-color: var(--fill-color);\n",
       "    }\n",
       "  }\n",
       "</style>\n",
       "\n",
       "  <script>\n",
       "    async function quickchart(key) {\n",
       "      const quickchartButtonEl =\n",
       "        document.querySelector('#' + key + ' button');\n",
       "      quickchartButtonEl.disabled = true;  // To prevent multiple clicks.\n",
       "      quickchartButtonEl.classList.add('colab-df-spinner');\n",
       "      try {\n",
       "        const charts = await google.colab.kernel.invokeFunction(\n",
       "            'suggestCharts', [key], {});\n",
       "      } catch (error) {\n",
       "        console.error('Error during call to suggestCharts:', error);\n",
       "      }\n",
       "      quickchartButtonEl.classList.remove('colab-df-spinner');\n",
       "      quickchartButtonEl.classList.add('colab-df-quickchart-complete');\n",
       "    }\n",
       "    (() => {\n",
       "      let quickchartButtonEl =\n",
       "        document.querySelector('#df-855d590a-1194-43d4-b4a2-a6dd2154fdd2 button');\n",
       "      quickchartButtonEl.style.display =\n",
       "        google.colab.kernel.accessAllowed ? 'block' : 'none';\n",
       "    })();\n",
       "  </script>\n",
       "</div>\n",
       "\n",
       "    </div>\n",
       "  </div>\n"
      ],
      "text/plain": [
       "       SUSP_AGE_GROUP SUSP_RACE SUSP_SEX VIC_AGE_GROUP VIC_RACE VIC_SEX\n",
       "11                  1         2        0             2      NaN       2\n",
       "13                NaN         4      NaN             2        4       2\n",
       "14                  1         2        1             2        4       2\n",
       "16                  2         5        1             1        2       0\n",
       "17                NaN         5        1             1        5       0\n",
       "...               ...       ...      ...           ...      ...     ...\n",
       "555110            NaN       NaN        2             1        2       0\n",
       "555111              0         2        1             1        2       0\n",
       "555112            NaN       NaN        0             1        2       2\n",
       "555113              1         1        1             2        1       2\n",
       "555116            NaN       NaN        2             1        2       2\n",
       "\n",
       "[395412 rows x 6 columns]"
      ]
     },
     "execution_count": 221,
     "metadata": {},
     "output_type": "execute_result"
    }
   ],
   "source": [
    "#converting labels to numbers\n",
    "df_pca_total = df_pca\n",
    "total_null_vals= df_pca.isnull()\n",
    "df_pca = df_pca.astype(str).apply(LabelEncoder().fit_transform)\n",
    "df_pca.where(~total_null_vals, df_pca_total)"
   ]
  },
  {
   "cell_type": "code",
   "execution_count": 222,
   "metadata": {
    "colab": {
     "base_uri": "https://localhost:8080/",
     "height": 206
    },
    "id": "x_p6XVmFON-Z",
    "outputId": "578a83d2-8ba5-4c75-82bf-7a419fd26c87"
   },
   "outputs": [
    {
     "data": {
      "application/vnd.google.colaboratory.intrinsic+json": {
       "type": "dataframe",
       "variable_name": "df_pca"
      },
      "text/html": [
       "\n",
       "  <div id=\"df-57ad33e2-be23-4dae-9df5-ca506a98217f\" class=\"colab-df-container\">\n",
       "    <div>\n",
       "<style scoped>\n",
       "    .dataframe tbody tr th:only-of-type {\n",
       "        vertical-align: middle;\n",
       "    }\n",
       "\n",
       "    .dataframe tbody tr th {\n",
       "        vertical-align: top;\n",
       "    }\n",
       "\n",
       "    .dataframe thead th {\n",
       "        text-align: right;\n",
       "    }\n",
       "</style>\n",
       "<table border=\"1\" class=\"dataframe\">\n",
       "  <thead>\n",
       "    <tr style=\"text-align: right;\">\n",
       "      <th></th>\n",
       "      <th>SUSP_AGE_GROUP</th>\n",
       "      <th>SUSP_RACE</th>\n",
       "      <th>SUSP_SEX</th>\n",
       "      <th>VIC_AGE_GROUP</th>\n",
       "      <th>VIC_RACE</th>\n",
       "      <th>VIC_SEX</th>\n",
       "    </tr>\n",
       "  </thead>\n",
       "  <tbody>\n",
       "    <tr>\n",
       "      <th>11</th>\n",
       "      <td>1</td>\n",
       "      <td>2</td>\n",
       "      <td>0</td>\n",
       "      <td>2</td>\n",
       "      <td>6</td>\n",
       "      <td>2</td>\n",
       "    </tr>\n",
       "    <tr>\n",
       "      <th>13</th>\n",
       "      <td>5</td>\n",
       "      <td>4</td>\n",
       "      <td>3</td>\n",
       "      <td>2</td>\n",
       "      <td>4</td>\n",
       "      <td>2</td>\n",
       "    </tr>\n",
       "    <tr>\n",
       "      <th>14</th>\n",
       "      <td>1</td>\n",
       "      <td>2</td>\n",
       "      <td>1</td>\n",
       "      <td>2</td>\n",
       "      <td>4</td>\n",
       "      <td>2</td>\n",
       "    </tr>\n",
       "    <tr>\n",
       "      <th>16</th>\n",
       "      <td>2</td>\n",
       "      <td>5</td>\n",
       "      <td>1</td>\n",
       "      <td>1</td>\n",
       "      <td>2</td>\n",
       "      <td>0</td>\n",
       "    </tr>\n",
       "    <tr>\n",
       "      <th>17</th>\n",
       "      <td>5</td>\n",
       "      <td>5</td>\n",
       "      <td>1</td>\n",
       "      <td>1</td>\n",
       "      <td>5</td>\n",
       "      <td>0</td>\n",
       "    </tr>\n",
       "  </tbody>\n",
       "</table>\n",
       "</div>\n",
       "    <div class=\"colab-df-buttons\">\n",
       "\n",
       "  <div class=\"colab-df-container\">\n",
       "    <button class=\"colab-df-convert\" onclick=\"convertToInteractive('df-57ad33e2-be23-4dae-9df5-ca506a98217f')\"\n",
       "            title=\"Convert this dataframe to an interactive table.\"\n",
       "            style=\"display:none;\">\n",
       "\n",
       "  <svg xmlns=\"http://www.w3.org/2000/svg\" height=\"24px\" viewBox=\"0 -960 960 960\">\n",
       "    <path d=\"M120-120v-720h720v720H120Zm60-500h600v-160H180v160Zm220 220h160v-160H400v160Zm0 220h160v-160H400v160ZM180-400h160v-160H180v160Zm440 0h160v-160H620v160ZM180-180h160v-160H180v160Zm440 0h160v-160H620v160Z\"/>\n",
       "  </svg>\n",
       "    </button>\n",
       "\n",
       "  <style>\n",
       "    .colab-df-container {\n",
       "      display:flex;\n",
       "      gap: 12px;\n",
       "    }\n",
       "\n",
       "    .colab-df-convert {\n",
       "      background-color: #E8F0FE;\n",
       "      border: none;\n",
       "      border-radius: 50%;\n",
       "      cursor: pointer;\n",
       "      display: none;\n",
       "      fill: #1967D2;\n",
       "      height: 32px;\n",
       "      padding: 0 0 0 0;\n",
       "      width: 32px;\n",
       "    }\n",
       "\n",
       "    .colab-df-convert:hover {\n",
       "      background-color: #E2EBFA;\n",
       "      box-shadow: 0px 1px 2px rgba(60, 64, 67, 0.3), 0px 1px 3px 1px rgba(60, 64, 67, 0.15);\n",
       "      fill: #174EA6;\n",
       "    }\n",
       "\n",
       "    .colab-df-buttons div {\n",
       "      margin-bottom: 4px;\n",
       "    }\n",
       "\n",
       "    [theme=dark] .colab-df-convert {\n",
       "      background-color: #3B4455;\n",
       "      fill: #D2E3FC;\n",
       "    }\n",
       "\n",
       "    [theme=dark] .colab-df-convert:hover {\n",
       "      background-color: #434B5C;\n",
       "      box-shadow: 0px 1px 3px 1px rgba(0, 0, 0, 0.15);\n",
       "      filter: drop-shadow(0px 1px 2px rgba(0, 0, 0, 0.3));\n",
       "      fill: #FFFFFF;\n",
       "    }\n",
       "  </style>\n",
       "\n",
       "    <script>\n",
       "      const buttonEl =\n",
       "        document.querySelector('#df-57ad33e2-be23-4dae-9df5-ca506a98217f button.colab-df-convert');\n",
       "      buttonEl.style.display =\n",
       "        google.colab.kernel.accessAllowed ? 'block' : 'none';\n",
       "\n",
       "      async function convertToInteractive(key) {\n",
       "        const element = document.querySelector('#df-57ad33e2-be23-4dae-9df5-ca506a98217f');\n",
       "        const dataTable =\n",
       "          await google.colab.kernel.invokeFunction('convertToInteractive',\n",
       "                                                    [key], {});\n",
       "        if (!dataTable) return;\n",
       "\n",
       "        const docLinkHtml = 'Like what you see? Visit the ' +\n",
       "          '<a target=\"_blank\" href=https://colab.research.google.com/notebooks/data_table.ipynb>data table notebook</a>'\n",
       "          + ' to learn more about interactive tables.';\n",
       "        element.innerHTML = '';\n",
       "        dataTable['output_type'] = 'display_data';\n",
       "        await google.colab.output.renderOutput(dataTable, element);\n",
       "        const docLink = document.createElement('div');\n",
       "        docLink.innerHTML = docLinkHtml;\n",
       "        element.appendChild(docLink);\n",
       "      }\n",
       "    </script>\n",
       "  </div>\n",
       "\n",
       "\n",
       "<div id=\"df-92a38306-1b70-4d0b-8d14-7fc8e393ad92\">\n",
       "  <button class=\"colab-df-quickchart\" onclick=\"quickchart('df-92a38306-1b70-4d0b-8d14-7fc8e393ad92')\"\n",
       "            title=\"Suggest charts\"\n",
       "            style=\"display:none;\">\n",
       "\n",
       "<svg xmlns=\"http://www.w3.org/2000/svg\" height=\"24px\"viewBox=\"0 0 24 24\"\n",
       "     width=\"24px\">\n",
       "    <g>\n",
       "        <path d=\"M19 3H5c-1.1 0-2 .9-2 2v14c0 1.1.9 2 2 2h14c1.1 0 2-.9 2-2V5c0-1.1-.9-2-2-2zM9 17H7v-7h2v7zm4 0h-2V7h2v10zm4 0h-2v-4h2v4z\"/>\n",
       "    </g>\n",
       "</svg>\n",
       "  </button>\n",
       "\n",
       "<style>\n",
       "  .colab-df-quickchart {\n",
       "      --bg-color: #E8F0FE;\n",
       "      --fill-color: #1967D2;\n",
       "      --hover-bg-color: #E2EBFA;\n",
       "      --hover-fill-color: #174EA6;\n",
       "      --disabled-fill-color: #AAA;\n",
       "      --disabled-bg-color: #DDD;\n",
       "  }\n",
       "\n",
       "  [theme=dark] .colab-df-quickchart {\n",
       "      --bg-color: #3B4455;\n",
       "      --fill-color: #D2E3FC;\n",
       "      --hover-bg-color: #434B5C;\n",
       "      --hover-fill-color: #FFFFFF;\n",
       "      --disabled-bg-color: #3B4455;\n",
       "      --disabled-fill-color: #666;\n",
       "  }\n",
       "\n",
       "  .colab-df-quickchart {\n",
       "    background-color: var(--bg-color);\n",
       "    border: none;\n",
       "    border-radius: 50%;\n",
       "    cursor: pointer;\n",
       "    display: none;\n",
       "    fill: var(--fill-color);\n",
       "    height: 32px;\n",
       "    padding: 0;\n",
       "    width: 32px;\n",
       "  }\n",
       "\n",
       "  .colab-df-quickchart:hover {\n",
       "    background-color: var(--hover-bg-color);\n",
       "    box-shadow: 0 1px 2px rgba(60, 64, 67, 0.3), 0 1px 3px 1px rgba(60, 64, 67, 0.15);\n",
       "    fill: var(--button-hover-fill-color);\n",
       "  }\n",
       "\n",
       "  .colab-df-quickchart-complete:disabled,\n",
       "  .colab-df-quickchart-complete:disabled:hover {\n",
       "    background-color: var(--disabled-bg-color);\n",
       "    fill: var(--disabled-fill-color);\n",
       "    box-shadow: none;\n",
       "  }\n",
       "\n",
       "  .colab-df-spinner {\n",
       "    border: 2px solid var(--fill-color);\n",
       "    border-color: transparent;\n",
       "    border-bottom-color: var(--fill-color);\n",
       "    animation:\n",
       "      spin 1s steps(1) infinite;\n",
       "  }\n",
       "\n",
       "  @keyframes spin {\n",
       "    0% {\n",
       "      border-color: transparent;\n",
       "      border-bottom-color: var(--fill-color);\n",
       "      border-left-color: var(--fill-color);\n",
       "    }\n",
       "    20% {\n",
       "      border-color: transparent;\n",
       "      border-left-color: var(--fill-color);\n",
       "      border-top-color: var(--fill-color);\n",
       "    }\n",
       "    30% {\n",
       "      border-color: transparent;\n",
       "      border-left-color: var(--fill-color);\n",
       "      border-top-color: var(--fill-color);\n",
       "      border-right-color: var(--fill-color);\n",
       "    }\n",
       "    40% {\n",
       "      border-color: transparent;\n",
       "      border-right-color: var(--fill-color);\n",
       "      border-top-color: var(--fill-color);\n",
       "    }\n",
       "    60% {\n",
       "      border-color: transparent;\n",
       "      border-right-color: var(--fill-color);\n",
       "    }\n",
       "    80% {\n",
       "      border-color: transparent;\n",
       "      border-right-color: var(--fill-color);\n",
       "      border-bottom-color: var(--fill-color);\n",
       "    }\n",
       "    90% {\n",
       "      border-color: transparent;\n",
       "      border-bottom-color: var(--fill-color);\n",
       "    }\n",
       "  }\n",
       "</style>\n",
       "\n",
       "  <script>\n",
       "    async function quickchart(key) {\n",
       "      const quickchartButtonEl =\n",
       "        document.querySelector('#' + key + ' button');\n",
       "      quickchartButtonEl.disabled = true;  // To prevent multiple clicks.\n",
       "      quickchartButtonEl.classList.add('colab-df-spinner');\n",
       "      try {\n",
       "        const charts = await google.colab.kernel.invokeFunction(\n",
       "            'suggestCharts', [key], {});\n",
       "      } catch (error) {\n",
       "        console.error('Error during call to suggestCharts:', error);\n",
       "      }\n",
       "      quickchartButtonEl.classList.remove('colab-df-spinner');\n",
       "      quickchartButtonEl.classList.add('colab-df-quickchart-complete');\n",
       "    }\n",
       "    (() => {\n",
       "      let quickchartButtonEl =\n",
       "        document.querySelector('#df-92a38306-1b70-4d0b-8d14-7fc8e393ad92 button');\n",
       "      quickchartButtonEl.style.display =\n",
       "        google.colab.kernel.accessAllowed ? 'block' : 'none';\n",
       "    })();\n",
       "  </script>\n",
       "</div>\n",
       "\n",
       "    </div>\n",
       "  </div>\n"
      ],
      "text/plain": [
       "    SUSP_AGE_GROUP  SUSP_RACE  SUSP_SEX  VIC_AGE_GROUP  VIC_RACE  VIC_SEX\n",
       "11               1          2         0              2         6        2\n",
       "13               5          4         3              2         4        2\n",
       "14               1          2         1              2         4        2\n",
       "16               2          5         1              1         2        0\n",
       "17               5          5         1              1         5        0"
      ]
     },
     "execution_count": 222,
     "metadata": {},
     "output_type": "execute_result"
    }
   ],
   "source": [
    "# Fill Nan with median\n",
    "df_pca = df_pca.fillna(df_pca.median())\n",
    "df_pca.head()"
   ]
  },
  {
   "cell_type": "code",
   "execution_count": 223,
   "metadata": {
    "colab": {
     "base_uri": "https://localhost:8080/",
     "height": 360
    },
    "id": "91Beza40OT1j",
    "outputId": "d10c9443-cde4-494c-bb5e-76a5db1219f6"
   },
   "outputs": [
    {
     "data": {
      "application/vnd.google.colaboratory.intrinsic+json": {
       "type": "dataframe",
       "variable_name": "df1"
      },
      "text/html": [
       "\n",
       "  <div id=\"df-d35df4dd-0e40-41b1-83a0-65fe8729ef02\" class=\"colab-df-container\">\n",
       "    <div>\n",
       "<style scoped>\n",
       "    .dataframe tbody tr th:only-of-type {\n",
       "        vertical-align: middle;\n",
       "    }\n",
       "\n",
       "    .dataframe tbody tr th {\n",
       "        vertical-align: top;\n",
       "    }\n",
       "\n",
       "    .dataframe thead th {\n",
       "        text-align: right;\n",
       "    }\n",
       "</style>\n",
       "<table border=\"1\" class=\"dataframe\">\n",
       "  <thead>\n",
       "    <tr style=\"text-align: right;\">\n",
       "      <th></th>\n",
       "      <th>CMPLNT_NUM</th>\n",
       "      <th>ADDR_PCT_CD</th>\n",
       "      <th>BORO_NM</th>\n",
       "      <th>CMPLNT_FR_DT</th>\n",
       "      <th>CMPLNT_FR_TM</th>\n",
       "      <th>CMPLNT_TO_DT</th>\n",
       "      <th>CMPLNT_TO_TM</th>\n",
       "      <th>CRM_ATPT_CPTD_CD</th>\n",
       "      <th>JURISDICTION_CODE</th>\n",
       "      <th>JURIS_DESC</th>\n",
       "      <th>...</th>\n",
       "      <th>FRONT OF</th>\n",
       "      <th>INSIDE</th>\n",
       "      <th>OPPOSITE OF</th>\n",
       "      <th>REAR OF</th>\n",
       "      <th>SUSP_AGE_GROUP</th>\n",
       "      <th>SUSP_RACE</th>\n",
       "      <th>SUSP_SEX</th>\n",
       "      <th>VIC_AGE_GROUP</th>\n",
       "      <th>VIC_RACE</th>\n",
       "      <th>VIC_SEX</th>\n",
       "    </tr>\n",
       "  </thead>\n",
       "  <tbody>\n",
       "    <tr>\n",
       "      <th>11</th>\n",
       "      <td>262794218</td>\n",
       "      <td>123.0</td>\n",
       "      <td>STATEN ISLAND</td>\n",
       "      <td>2023-02-01</td>\n",
       "      <td>2024-05-02 01:35:00</td>\n",
       "      <td>2023-02-01</td>\n",
       "      <td>2024-05-02 01:40:00</td>\n",
       "      <td>COMPLETED</td>\n",
       "      <td>0</td>\n",
       "      <td>8</td>\n",
       "      <td>...</td>\n",
       "      <td>0</td>\n",
       "      <td>1</td>\n",
       "      <td>0</td>\n",
       "      <td>0</td>\n",
       "      <td>1</td>\n",
       "      <td>2</td>\n",
       "      <td>0</td>\n",
       "      <td>2</td>\n",
       "      <td>6</td>\n",
       "      <td>2</td>\n",
       "    </tr>\n",
       "    <tr>\n",
       "      <th>13</th>\n",
       "      <td>266228476</td>\n",
       "      <td>123.0</td>\n",
       "      <td>STATEN ISLAND</td>\n",
       "      <td>2023-04-02</td>\n",
       "      <td>2024-05-02 00:20:00</td>\n",
       "      <td>2023-04-02</td>\n",
       "      <td>2024-05-02 00:25:00</td>\n",
       "      <td>COMPLETED</td>\n",
       "      <td>0</td>\n",
       "      <td>8</td>\n",
       "      <td>...</td>\n",
       "      <td>1</td>\n",
       "      <td>0</td>\n",
       "      <td>0</td>\n",
       "      <td>0</td>\n",
       "      <td>5</td>\n",
       "      <td>4</td>\n",
       "      <td>3</td>\n",
       "      <td>2</td>\n",
       "      <td>4</td>\n",
       "      <td>2</td>\n",
       "    </tr>\n",
       "    <tr>\n",
       "      <th>14</th>\n",
       "      <td>262909178</td>\n",
       "      <td>121.0</td>\n",
       "      <td>STATEN ISLAND</td>\n",
       "      <td>2023-02-02</td>\n",
       "      <td>2024-05-02 12:05:00</td>\n",
       "      <td>2023-02-02</td>\n",
       "      <td>2024-05-02 12:10:00</td>\n",
       "      <td>COMPLETED</td>\n",
       "      <td>0</td>\n",
       "      <td>8</td>\n",
       "      <td>...</td>\n",
       "      <td>0</td>\n",
       "      <td>1</td>\n",
       "      <td>0</td>\n",
       "      <td>0</td>\n",
       "      <td>1</td>\n",
       "      <td>2</td>\n",
       "      <td>1</td>\n",
       "      <td>2</td>\n",
       "      <td>4</td>\n",
       "      <td>2</td>\n",
       "    </tr>\n",
       "    <tr>\n",
       "      <th>16</th>\n",
       "      <td>270654701</td>\n",
       "      <td>121.0</td>\n",
       "      <td>STATEN ISLAND</td>\n",
       "      <td>2023-07-01</td>\n",
       "      <td>2024-05-02 05:25:00</td>\n",
       "      <td>2023-07-01</td>\n",
       "      <td>2024-05-02 05:32:00</td>\n",
       "      <td>ATTEMPTED</td>\n",
       "      <td>0</td>\n",
       "      <td>8</td>\n",
       "      <td>...</td>\n",
       "      <td>1</td>\n",
       "      <td>0</td>\n",
       "      <td>0</td>\n",
       "      <td>0</td>\n",
       "      <td>2</td>\n",
       "      <td>5</td>\n",
       "      <td>1</td>\n",
       "      <td>1</td>\n",
       "      <td>2</td>\n",
       "      <td>0</td>\n",
       "    </tr>\n",
       "    <tr>\n",
       "      <th>17</th>\n",
       "      <td>264963813</td>\n",
       "      <td>121.0</td>\n",
       "      <td>STATEN ISLAND</td>\n",
       "      <td>2023-03-10</td>\n",
       "      <td>2024-05-02 17:00:00</td>\n",
       "      <td>2023-03-11</td>\n",
       "      <td>2024-05-02 11:45:00</td>\n",
       "      <td>COMPLETED</td>\n",
       "      <td>0</td>\n",
       "      <td>8</td>\n",
       "      <td>...</td>\n",
       "      <td>0</td>\n",
       "      <td>1</td>\n",
       "      <td>0</td>\n",
       "      <td>0</td>\n",
       "      <td>5</td>\n",
       "      <td>5</td>\n",
       "      <td>1</td>\n",
       "      <td>1</td>\n",
       "      <td>5</td>\n",
       "      <td>0</td>\n",
       "    </tr>\n",
       "  </tbody>\n",
       "</table>\n",
       "<p>5 rows × 32 columns</p>\n",
       "</div>\n",
       "    <div class=\"colab-df-buttons\">\n",
       "\n",
       "  <div class=\"colab-df-container\">\n",
       "    <button class=\"colab-df-convert\" onclick=\"convertToInteractive('df-d35df4dd-0e40-41b1-83a0-65fe8729ef02')\"\n",
       "            title=\"Convert this dataframe to an interactive table.\"\n",
       "            style=\"display:none;\">\n",
       "\n",
       "  <svg xmlns=\"http://www.w3.org/2000/svg\" height=\"24px\" viewBox=\"0 -960 960 960\">\n",
       "    <path d=\"M120-120v-720h720v720H120Zm60-500h600v-160H180v160Zm220 220h160v-160H400v160Zm0 220h160v-160H400v160ZM180-400h160v-160H180v160Zm440 0h160v-160H620v160ZM180-180h160v-160H180v160Zm440 0h160v-160H620v160Z\"/>\n",
       "  </svg>\n",
       "    </button>\n",
       "\n",
       "  <style>\n",
       "    .colab-df-container {\n",
       "      display:flex;\n",
       "      gap: 12px;\n",
       "    }\n",
       "\n",
       "    .colab-df-convert {\n",
       "      background-color: #E8F0FE;\n",
       "      border: none;\n",
       "      border-radius: 50%;\n",
       "      cursor: pointer;\n",
       "      display: none;\n",
       "      fill: #1967D2;\n",
       "      height: 32px;\n",
       "      padding: 0 0 0 0;\n",
       "      width: 32px;\n",
       "    }\n",
       "\n",
       "    .colab-df-convert:hover {\n",
       "      background-color: #E2EBFA;\n",
       "      box-shadow: 0px 1px 2px rgba(60, 64, 67, 0.3), 0px 1px 3px 1px rgba(60, 64, 67, 0.15);\n",
       "      fill: #174EA6;\n",
       "    }\n",
       "\n",
       "    .colab-df-buttons div {\n",
       "      margin-bottom: 4px;\n",
       "    }\n",
       "\n",
       "    [theme=dark] .colab-df-convert {\n",
       "      background-color: #3B4455;\n",
       "      fill: #D2E3FC;\n",
       "    }\n",
       "\n",
       "    [theme=dark] .colab-df-convert:hover {\n",
       "      background-color: #434B5C;\n",
       "      box-shadow: 0px 1px 3px 1px rgba(0, 0, 0, 0.15);\n",
       "      filter: drop-shadow(0px 1px 2px rgba(0, 0, 0, 0.3));\n",
       "      fill: #FFFFFF;\n",
       "    }\n",
       "  </style>\n",
       "\n",
       "    <script>\n",
       "      const buttonEl =\n",
       "        document.querySelector('#df-d35df4dd-0e40-41b1-83a0-65fe8729ef02 button.colab-df-convert');\n",
       "      buttonEl.style.display =\n",
       "        google.colab.kernel.accessAllowed ? 'block' : 'none';\n",
       "\n",
       "      async function convertToInteractive(key) {\n",
       "        const element = document.querySelector('#df-d35df4dd-0e40-41b1-83a0-65fe8729ef02');\n",
       "        const dataTable =\n",
       "          await google.colab.kernel.invokeFunction('convertToInteractive',\n",
       "                                                    [key], {});\n",
       "        if (!dataTable) return;\n",
       "\n",
       "        const docLinkHtml = 'Like what you see? Visit the ' +\n",
       "          '<a target=\"_blank\" href=https://colab.research.google.com/notebooks/data_table.ipynb>data table notebook</a>'\n",
       "          + ' to learn more about interactive tables.';\n",
       "        element.innerHTML = '';\n",
       "        dataTable['output_type'] = 'display_data';\n",
       "        await google.colab.output.renderOutput(dataTable, element);\n",
       "        const docLink = document.createElement('div');\n",
       "        docLink.innerHTML = docLinkHtml;\n",
       "        element.appendChild(docLink);\n",
       "      }\n",
       "    </script>\n",
       "  </div>\n",
       "\n",
       "\n",
       "<div id=\"df-1e08a545-d319-4195-bf17-b4244ce6b954\">\n",
       "  <button class=\"colab-df-quickchart\" onclick=\"quickchart('df-1e08a545-d319-4195-bf17-b4244ce6b954')\"\n",
       "            title=\"Suggest charts\"\n",
       "            style=\"display:none;\">\n",
       "\n",
       "<svg xmlns=\"http://www.w3.org/2000/svg\" height=\"24px\"viewBox=\"0 0 24 24\"\n",
       "     width=\"24px\">\n",
       "    <g>\n",
       "        <path d=\"M19 3H5c-1.1 0-2 .9-2 2v14c0 1.1.9 2 2 2h14c1.1 0 2-.9 2-2V5c0-1.1-.9-2-2-2zM9 17H7v-7h2v7zm4 0h-2V7h2v10zm4 0h-2v-4h2v4z\"/>\n",
       "    </g>\n",
       "</svg>\n",
       "  </button>\n",
       "\n",
       "<style>\n",
       "  .colab-df-quickchart {\n",
       "      --bg-color: #E8F0FE;\n",
       "      --fill-color: #1967D2;\n",
       "      --hover-bg-color: #E2EBFA;\n",
       "      --hover-fill-color: #174EA6;\n",
       "      --disabled-fill-color: #AAA;\n",
       "      --disabled-bg-color: #DDD;\n",
       "  }\n",
       "\n",
       "  [theme=dark] .colab-df-quickchart {\n",
       "      --bg-color: #3B4455;\n",
       "      --fill-color: #D2E3FC;\n",
       "      --hover-bg-color: #434B5C;\n",
       "      --hover-fill-color: #FFFFFF;\n",
       "      --disabled-bg-color: #3B4455;\n",
       "      --disabled-fill-color: #666;\n",
       "  }\n",
       "\n",
       "  .colab-df-quickchart {\n",
       "    background-color: var(--bg-color);\n",
       "    border: none;\n",
       "    border-radius: 50%;\n",
       "    cursor: pointer;\n",
       "    display: none;\n",
       "    fill: var(--fill-color);\n",
       "    height: 32px;\n",
       "    padding: 0;\n",
       "    width: 32px;\n",
       "  }\n",
       "\n",
       "  .colab-df-quickchart:hover {\n",
       "    background-color: var(--hover-bg-color);\n",
       "    box-shadow: 0 1px 2px rgba(60, 64, 67, 0.3), 0 1px 3px 1px rgba(60, 64, 67, 0.15);\n",
       "    fill: var(--button-hover-fill-color);\n",
       "  }\n",
       "\n",
       "  .colab-df-quickchart-complete:disabled,\n",
       "  .colab-df-quickchart-complete:disabled:hover {\n",
       "    background-color: var(--disabled-bg-color);\n",
       "    fill: var(--disabled-fill-color);\n",
       "    box-shadow: none;\n",
       "  }\n",
       "\n",
       "  .colab-df-spinner {\n",
       "    border: 2px solid var(--fill-color);\n",
       "    border-color: transparent;\n",
       "    border-bottom-color: var(--fill-color);\n",
       "    animation:\n",
       "      spin 1s steps(1) infinite;\n",
       "  }\n",
       "\n",
       "  @keyframes spin {\n",
       "    0% {\n",
       "      border-color: transparent;\n",
       "      border-bottom-color: var(--fill-color);\n",
       "      border-left-color: var(--fill-color);\n",
       "    }\n",
       "    20% {\n",
       "      border-color: transparent;\n",
       "      border-left-color: var(--fill-color);\n",
       "      border-top-color: var(--fill-color);\n",
       "    }\n",
       "    30% {\n",
       "      border-color: transparent;\n",
       "      border-left-color: var(--fill-color);\n",
       "      border-top-color: var(--fill-color);\n",
       "      border-right-color: var(--fill-color);\n",
       "    }\n",
       "    40% {\n",
       "      border-color: transparent;\n",
       "      border-right-color: var(--fill-color);\n",
       "      border-top-color: var(--fill-color);\n",
       "    }\n",
       "    60% {\n",
       "      border-color: transparent;\n",
       "      border-right-color: var(--fill-color);\n",
       "    }\n",
       "    80% {\n",
       "      border-color: transparent;\n",
       "      border-right-color: var(--fill-color);\n",
       "      border-bottom-color: var(--fill-color);\n",
       "    }\n",
       "    90% {\n",
       "      border-color: transparent;\n",
       "      border-bottom-color: var(--fill-color);\n",
       "    }\n",
       "  }\n",
       "</style>\n",
       "\n",
       "  <script>\n",
       "    async function quickchart(key) {\n",
       "      const quickchartButtonEl =\n",
       "        document.querySelector('#' + key + ' button');\n",
       "      quickchartButtonEl.disabled = true;  // To prevent multiple clicks.\n",
       "      quickchartButtonEl.classList.add('colab-df-spinner');\n",
       "      try {\n",
       "        const charts = await google.colab.kernel.invokeFunction(\n",
       "            'suggestCharts', [key], {});\n",
       "      } catch (error) {\n",
       "        console.error('Error during call to suggestCharts:', error);\n",
       "      }\n",
       "      quickchartButtonEl.classList.remove('colab-df-spinner');\n",
       "      quickchartButtonEl.classList.add('colab-df-quickchart-complete');\n",
       "    }\n",
       "    (() => {\n",
       "      let quickchartButtonEl =\n",
       "        document.querySelector('#df-1e08a545-d319-4195-bf17-b4244ce6b954 button');\n",
       "      quickchartButtonEl.style.display =\n",
       "        google.colab.kernel.accessAllowed ? 'block' : 'none';\n",
       "    })();\n",
       "  </script>\n",
       "</div>\n",
       "\n",
       "    </div>\n",
       "  </div>\n"
      ],
      "text/plain": [
       "   CMPLNT_NUM  ADDR_PCT_CD        BORO_NM CMPLNT_FR_DT        CMPLNT_FR_TM  \\\n",
       "11  262794218        123.0  STATEN ISLAND   2023-02-01 2024-05-02 01:35:00   \n",
       "13  266228476        123.0  STATEN ISLAND   2023-04-02 2024-05-02 00:20:00   \n",
       "14  262909178        121.0  STATEN ISLAND   2023-02-02 2024-05-02 12:05:00   \n",
       "16  270654701        121.0  STATEN ISLAND   2023-07-01 2024-05-02 05:25:00   \n",
       "17  264963813        121.0  STATEN ISLAND   2023-03-10 2024-05-02 17:00:00   \n",
       "\n",
       "   CMPLNT_TO_DT        CMPLNT_TO_TM CRM_ATPT_CPTD_CD  JURISDICTION_CODE  \\\n",
       "11   2023-02-01 2024-05-02 01:40:00        COMPLETED                  0   \n",
       "13   2023-04-02 2024-05-02 00:25:00        COMPLETED                  0   \n",
       "14   2023-02-02 2024-05-02 12:10:00        COMPLETED                  0   \n",
       "16   2023-07-01 2024-05-02 05:32:00        ATTEMPTED                  0   \n",
       "17   2023-03-11 2024-05-02 11:45:00        COMPLETED                  0   \n",
       "\n",
       "    JURIS_DESC  ... FRONT OF  INSIDE OPPOSITE OF  REAR OF SUSP_AGE_GROUP  \\\n",
       "11           8  ...        0       1           0        0              1   \n",
       "13           8  ...        1       0           0        0              5   \n",
       "14           8  ...        0       1           0        0              1   \n",
       "16           8  ...        1       0           0        0              2   \n",
       "17           8  ...        0       1           0        0              5   \n",
       "\n",
       "    SUSP_RACE  SUSP_SEX VIC_AGE_GROUP  VIC_RACE  VIC_SEX  \n",
       "11          2         0             2         6        2  \n",
       "13          4         3             2         4        2  \n",
       "14          2         1             2         4        2  \n",
       "16          5         1             1         2        0  \n",
       "17          5         1             1         5        0  \n",
       "\n",
       "[5 rows x 32 columns]"
      ]
     },
     "execution_count": 223,
     "metadata": {},
     "output_type": "execute_result"
    }
   ],
   "source": [
    "df1 = df1.drop(columns = ['SUSP_AGE_GROUP','SUSP_RACE','SUSP_SEX', 'VIC_AGE_GROUP','VIC_RACE','VIC_SEX'])\n",
    "df1 = pd.concat([df1, df_pca], axis = 1)\n",
    "df1.head()"
   ]
  },
  {
   "cell_type": "code",
   "execution_count": 224,
   "metadata": {
    "colab": {
     "base_uri": "https://localhost:8080/"
    },
    "id": "ZvOn0phcO2lR",
    "outputId": "066b8f38-16c1-4089-b956-d36fdfd1a63e"
   },
   "outputs": [
    {
     "data": {
      "text/plain": [
       "Index(['CMPLNT_NUM', 'ADDR_PCT_CD', 'BORO_NM', 'CMPLNT_FR_DT', 'CMPLNT_FR_TM',\n",
       "       'CMPLNT_TO_DT', 'CMPLNT_TO_TM', 'CRM_ATPT_CPTD_CD', 'JURISDICTION_CODE',\n",
       "       'JURIS_DESC', 'LAW_CAT_CD', 'OFNS_DESC', 'PATROL_BORO', 'PREM_TYP_DESC',\n",
       "       'RPT_DT', 'Latitude', 'Longitude', 'days_duration', 'month', 'day',\n",
       "       'hour', 'weekday', 'FRONT OF', 'INSIDE', 'OPPOSITE OF', 'REAR OF',\n",
       "       'SUSP_AGE_GROUP', 'SUSP_RACE', 'SUSP_SEX', 'VIC_AGE_GROUP', 'VIC_RACE',\n",
       "       'VIC_SEX'],\n",
       "      dtype='object')"
      ]
     },
     "execution_count": 224,
     "metadata": {},
     "output_type": "execute_result"
    }
   ],
   "source": [
    "df1.columns"
   ]
  },
  {
   "cell_type": "code",
   "execution_count": 225,
   "metadata": {
    "colab": {
     "base_uri": "https://localhost:8080/"
    },
    "id": "yVN5f9GsPJUr",
    "outputId": "bd75a099-cc23-4da7-d472-cbec49e57e9a"
   },
   "outputs": [
    {
     "name": "stdout",
     "output_type": "stream",
     "text": [
      "<class 'pandas.core.frame.DataFrame'>\n",
      "Index: 395412 entries, 11 to 555116\n",
      "Data columns (total 32 columns):\n",
      " #   Column             Non-Null Count   Dtype          \n",
      "---  ------             --------------   -----          \n",
      " 0   CMPLNT_NUM         395412 non-null  object         \n",
      " 1   ADDR_PCT_CD        395412 non-null  float64        \n",
      " 2   BORO_NM            395412 non-null  object         \n",
      " 3   CMPLNT_FR_DT       395412 non-null  datetime64[ns] \n",
      " 4   CMPLNT_FR_TM       395412 non-null  datetime64[ns] \n",
      " 5   CMPLNT_TO_DT       395412 non-null  datetime64[ns] \n",
      " 6   CMPLNT_TO_TM       395412 non-null  datetime64[ns] \n",
      " 7   CRM_ATPT_CPTD_CD   395412 non-null  object         \n",
      " 8   JURISDICTION_CODE  395412 non-null  int64          \n",
      " 9   JURIS_DESC         395412 non-null  int64          \n",
      " 10  LAW_CAT_CD         395412 non-null  object         \n",
      " 11  OFNS_DESC          395412 non-null  int64          \n",
      " 12  PATROL_BORO        395412 non-null  object         \n",
      " 13  PREM_TYP_DESC      395412 non-null  int64          \n",
      " 14  RPT_DT             395412 non-null  object         \n",
      " 15  Latitude           395412 non-null  float64        \n",
      " 16  Longitude          395412 non-null  float64        \n",
      " 17  days_duration      395412 non-null  timedelta64[ns]\n",
      " 18  month              395412 non-null  float64        \n",
      " 19  day                395412 non-null  float64        \n",
      " 20  hour               395412 non-null  int32          \n",
      " 21  weekday            395412 non-null  object         \n",
      " 22  FRONT OF           395412 non-null  int64          \n",
      " 23  INSIDE             395412 non-null  int64          \n",
      " 24  OPPOSITE OF        395412 non-null  int64          \n",
      " 25  REAR OF            395412 non-null  int64          \n",
      " 26  SUSP_AGE_GROUP     395412 non-null  int64          \n",
      " 27  SUSP_RACE          395412 non-null  int64          \n",
      " 28  SUSP_SEX           395412 non-null  int64          \n",
      " 29  VIC_AGE_GROUP      395412 non-null  int64          \n",
      " 30  VIC_RACE           395412 non-null  int64          \n",
      " 31  VIC_SEX            395412 non-null  int64          \n",
      "dtypes: datetime64[ns](4), float64(5), int32(1), int64(14), object(7), timedelta64[ns](1)\n",
      "memory usage: 98.0+ MB\n"
     ]
    }
   ],
   "source": [
    "df1.info()"
   ]
  },
  {
   "cell_type": "code",
   "execution_count": 225,
   "metadata": {
    "id": "frapG5p_Pb_8"
   },
   "outputs": [],
   "source": []
  },
  {
   "cell_type": "markdown",
   "metadata": {
    "id": "KxXEVVUzY1pU"
   },
   "source": [
    "#Here we are converting the COMPLT FR TM to hour and we already had same column 'day' with hour so we are checking whether both have equal values"
   ]
  },
  {
   "cell_type": "code",
   "execution_count": 226,
   "metadata": {
    "id": "-U6oB-HrPRBY"
   },
   "outputs": [],
   "source": [
    "df1['CMPLNT_FR_TM'] = (pd.to_datetime(df1['CMPLNT_FR_TM']).dt.hour)"
   ]
  },
  {
   "cell_type": "code",
   "execution_count": 227,
   "metadata": {
    "colab": {
     "base_uri": "https://localhost:8080/"
    },
    "id": "XBnp59JoPdUT",
    "outputId": "8c415566-c04b-400d-a292-71bcf67c609e"
   },
   "outputs": [
    {
     "data": {
      "text/plain": [
       "array([ 1,  0, 12,  5, 17,  8, 20,  9, 19, 21, 18,  7, 16,  6, 13, 14, 15,\n",
       "       22, 10,  4,  3, 11, 23,  2], dtype=int32)"
      ]
     },
     "execution_count": 227,
     "metadata": {},
     "output_type": "execute_result"
    }
   ],
   "source": [
    "df1['CMPLNT_FR_TM'].unique()"
   ]
  },
  {
   "cell_type": "code",
   "execution_count": 228,
   "metadata": {
    "colab": {
     "base_uri": "https://localhost:8080/"
    },
    "id": "eK_LW3EiPh9m",
    "outputId": "f3a65781-da62-4dae-8a82-6b394fdc3a67"
   },
   "outputs": [
    {
     "data": {
      "text/plain": [
       "array([ 1,  0, 12,  5, 17,  8, 20,  9, 19, 21, 18,  7, 16,  6, 13, 14, 15,\n",
       "       22, 10,  4,  3, 11, 23,  2], dtype=int32)"
      ]
     },
     "execution_count": 228,
     "metadata": {},
     "output_type": "execute_result"
    }
   ],
   "source": [
    "df1.hour.unique()"
   ]
  },
  {
   "cell_type": "code",
   "execution_count": 229,
   "metadata": {
    "id": "JnPIaqyfPleH"
   },
   "outputs": [],
   "source": [
    "df1['CMPLNT_FR_TM'] = df1['CMPLNT_FR_TM'].fillna(df['CMPLNT_FR_TM'].median())"
   ]
  },
  {
   "cell_type": "markdown",
   "metadata": {
    "id": "pCBfGH1SZIXy"
   },
   "source": [
    "# Converting them into labels"
   ]
  },
  {
   "cell_type": "code",
   "execution_count": 230,
   "metadata": {
    "id": "fAFVVeIUQbg8"
   },
   "outputs": [],
   "source": [
    "#Target\n",
    "df1['CRM_ATPT_CPTD_CD'] = le.fit_transform(df1['CRM_ATPT_CPTD_CD'])"
   ]
  },
  {
   "cell_type": "code",
   "execution_count": 231,
   "metadata": {
    "id": "_MI2PkvfTdEO"
   },
   "outputs": [],
   "source": [
    "df1['LAW_CAT_CD'] = le.fit_transform(df1['LAW_CAT_CD'])"
   ]
  },
  {
   "cell_type": "markdown",
   "metadata": {
    "id": "JQ3YM_HLZOhB"
   },
   "source": [
    "# Here we standarization because the below columns has many numeric values so redefine the values around 0 and 1"
   ]
  },
  {
   "cell_type": "code",
   "execution_count": 232,
   "metadata": {
    "id": "loJHywOVRQS7"
   },
   "outputs": [],
   "source": [
    "# Here we standarization because the below columns has many numeric values so redefine the values around 0 and 1\n",
    "\n",
    "df1['ADDR_PCT_CD'] =( df1['ADDR_PCT_CD'] - df1['ADDR_PCT_CD'].mean() ) / df1['ADDR_PCT_CD'].std()\n",
    "df1['PREM_TYP_DESC'] =( df1['PREM_TYP_DESC'] - df1['PREM_TYP_DESC'].mean() ) / df1['PREM_TYP_DESC'].std()\n"
   ]
  },
  {
   "cell_type": "markdown",
   "metadata": {
    "id": "znQPtvkPTicL"
   },
   "source": [
    "#Dropping unrelated columns"
   ]
  },
  {
   "cell_type": "code",
   "execution_count": 232,
   "metadata": {
    "id": "6AKlBKHGTiBH"
   },
   "outputs": [],
   "source": []
  },
  {
   "cell_type": "code",
   "execution_count": 233,
   "metadata": {
    "id": "ktjA76Y1RP5s"
   },
   "outputs": [],
   "source": [
    "df_final = df1[['ADDR_PCT_CD', 'JURIS_DESC', 'OFNS_DESC', 'PREM_TYP_DESC', 'LAW_CAT_CD', 'CMPLNT_FR_TM', 'FRONT OF', 'INSIDE', 'OPPOSITE OF', 'REAR OF', 'SUSP_AGE_GROUP', 'SUSP_RACE', 'SUSP_SEX', 'VIC_AGE_GROUP', 'VIC_RACE', 'VIC_SEX']]"
   ]
  },
  {
   "cell_type": "code",
   "execution_count": 235,
   "metadata": {
    "colab": {
     "base_uri": "https://localhost:8080/"
    },
    "id": "S8ISoY7KUB-0",
    "outputId": "7be1ead5-6e47-44aa-e2ff-bd53cac4f0b2"
   },
   "outputs": [
    {
     "name": "stdout",
     "output_type": "stream",
     "text": [
      "ADDR_PCT_CD       0.030227\n",
      "JURIS_DESC       -0.030777\n",
      "OFNS_DESC         0.163899\n",
      "PREM_TYP_DESC    -0.021639\n",
      "LAW_CAT_CD        1.000000\n",
      "CMPLNT_FR_TM      0.037449\n",
      "FRONT OF         -0.072947\n",
      "INSIDE            0.101937\n",
      "OPPOSITE OF      -0.065560\n",
      "REAR OF          -0.036336\n",
      "SUSP_AGE_GROUP   -0.073485\n",
      "SUSP_RACE        -0.118805\n",
      "SUSP_SEX         -0.191954\n",
      "VIC_AGE_GROUP    -0.080366\n",
      "VIC_RACE         -0.080908\n",
      "VIC_SEX          -0.154363\n",
      "Name: LAW_CAT_CD, dtype: float64\n"
     ]
    }
   ],
   "source": [
    "print(df_final.corr()[\"LAW_CAT_CD\"][:])"
   ]
  },
  {
   "cell_type": "markdown",
   "metadata": {
    "id": "5Je4XqgWVBmB"
   },
   "source": [
    "# Modelling"
   ]
  },
  {
   "cell_type": "code",
   "execution_count": 236,
   "metadata": {
    "id": "OCGxzFOWVQdY"
   },
   "outputs": [],
   "source": [
    "od= pd.read_csv('NYPD.csv') # od = UNcleaned orginal data"
   ]
  },
  {
   "cell_type": "code",
   "execution_count": 237,
   "metadata": {
    "colab": {
     "base_uri": "https://localhost:8080/"
    },
    "id": "7vs8liPfUK2d",
    "outputId": "dcfb1f9b-b06a-42f3-9cce-f997817a7a12"
   },
   "outputs": [
    {
     "name": "stdout",
     "output_type": "stream",
     "text": [
      "['FELONY' 'MISDEMEANOR' 'VIOLATION']\n",
      "LAW_CAT_CD\n",
      "MISDEMEANOR    282419\n",
      "FELONY         186740\n",
      "VIOLATION       85958\n",
      "Name: count, dtype: int64\n"
     ]
    }
   ],
   "source": [
    "print(pd.unique(od['LAW_CAT_CD']))\n",
    "print (pd.value_counts(od['LAW_CAT_CD']))"
   ]
  },
  {
   "cell_type": "code",
   "execution_count": 238,
   "metadata": {
    "colab": {
     "base_uri": "https://localhost:8080/"
    },
    "id": "s3hy2M-7V283",
    "outputId": "e3a742de-4b50-4269-8f00-9c342bf84950"
   },
   "outputs": [
    {
     "data": {
      "text/plain": [
       "(395412, 16)"
      ]
     },
     "execution_count": 238,
     "metadata": {},
     "output_type": "execute_result"
    }
   ],
   "source": [
    "df_final.shape"
   ]
  },
  {
   "cell_type": "code",
   "execution_count": 239,
   "metadata": {
    "colab": {
     "base_uri": "https://localhost:8080/"
    },
    "id": "iWkyJ9ihVAyd",
    "outputId": "e7320ab6-671e-4cab-a5c2-9709ae6601de"
   },
   "outputs": [
    {
     "name": "stderr",
     "output_type": "stream",
     "text": [
      "<ipython-input-239-85d14dec8135>:1: SettingWithCopyWarning: \n",
      "A value is trying to be set on a copy of a slice from a DataFrame.\n",
      "Try using .loc[row_indexer,col_indexer] = value instead\n",
      "\n",
      "See the caveats in the documentation: https://pandas.pydata.org/pandas-docs/stable/user_guide/indexing.html#returning-a-view-versus-a-copy\n",
      "  df_final['serious_crime'] = od['LAW_CAT_CD']\n",
      "<ipython-input-239-85d14dec8135>:2: SettingWithCopyWarning: \n",
      "A value is trying to be set on a copy of a slice from a DataFrame.\n",
      "Try using .loc[row_indexer,col_indexer] = value instead\n",
      "\n",
      "See the caveats in the documentation: https://pandas.pydata.org/pandas-docs/stable/user_guide/indexing.html#returning-a-view-versus-a-copy\n",
      "  df_final['serious_crime'] = df_final['serious_crime'].map({'FELONY':'1',\n"
     ]
    }
   ],
   "source": [
    "df_final['serious_crime'] = od['LAW_CAT_CD']\n",
    "df_final['serious_crime'] = df_final['serious_crime'].map({'FELONY':'1',\n",
    "                             'MISDEMEANOR':'1',\n",
    "                             'VIOLATION':'0'},\n",
    "                             na_action=None)\n",
    "\n",
    "\n"
   ]
  },
  {
   "cell_type": "code",
   "execution_count": 245,
   "metadata": {
    "colab": {
     "base_uri": "https://localhost:8080/"
    },
    "id": "UmBeK50IVAuz",
    "outputId": "9ed75cd4-3cf9-4a9d-ce86-560f277a7331"
   },
   "outputs": [
    {
     "name": "stdout",
     "output_type": "stream",
     "text": [
      "['1' '0']\n",
      "serious_crime\n",
      "1    327660\n",
      "0     67752\n",
      "Name: count, dtype: int64\n",
      "int64\n",
      "[1 0]\n",
      "['ADDR_PCT_CD', 'JURIS_DESC', 'OFNS_DESC', 'PREM_TYP_DESC', 'CMPLNT_FR_TM', 'FRONT OF', 'INSIDE', 'OPPOSITE OF', 'REAR OF', 'SUSP_AGE_GROUP', 'SUSP_RACE', 'SUSP_SEX', 'VIC_AGE_GROUP', 'VIC_RACE', 'VIC_SEX']\n"
     ]
    }
   ],
   "source": [
    "df_serious_crime = df_final['serious_crime']\n",
    "print (pd.unique(df_serious_crime))\n",
    "print (pd.value_counts(df_serious_crime))\n",
    "\n",
    "df_serious_crime = pd.to_numeric(df_serious_crime)\n",
    "print(df_serious_crime.dtypes)\n",
    "print (pd.unique(df_serious_crime))\n",
    "\n",
    "# prepare features\n",
    "features = list(df_final)\n",
    "features.remove('serious_crime')\n",
    "features.remove('LAW_CAT_CD')\n",
    "print (features)"
   ]
  },
  {
   "cell_type": "code",
   "execution_count": 248,
   "metadata": {
    "colab": {
     "base_uri": "https://localhost:8080/"
    },
    "id": "LQhcZVYfVArs",
    "outputId": "adead7fc-4846-4a24-936f-a456c74bf0e5"
   },
   "outputs": [
    {
     "data": {
      "text/plain": [
       "(395412, 15)"
      ]
     },
     "execution_count": 248,
     "metadata": {},
     "output_type": "execute_result"
    }
   ],
   "source": [
    "df_final[features].shape"
   ]
  },
  {
   "cell_type": "markdown",
   "metadata": {
    "id": "vCuYrk5BZwQ3"
   },
   "source": [
    "# HERE WE ARE USING NAIVE BAYES BECASUE NAIVE PREDICTS ACCURATELY WHEN WE HAVE BOOLEAN PREDICTIONS LIKE YES OR NO, 1 OR 0. SO WE ARE USING NAIVE BAYES"
   ]
  },
  {
   "cell_type": "code",
   "execution_count": 249,
   "metadata": {
    "id": "v75Ju5lPVAmv"
   },
   "outputs": [],
   "source": [
    "\n",
    "from sklearn.model_selection import train_test_split\n",
    "y = df_serious_crime\n",
    "x = np.array(df_final[features])\n",
    "X_train, X_test, y_train, y_test = train_test_split(x , y, test_size=0.2)"
   ]
  },
  {
   "cell_type": "code",
   "execution_count": 250,
   "metadata": {
    "colab": {
     "base_uri": "https://localhost:8080/"
    },
    "id": "WMXu4eM7VAin",
    "outputId": "0646a799-2bbe-408d-e86a-4c6e581727eb"
   },
   "outputs": [
    {
     "name": "stdout",
     "output_type": "stream",
     "text": [
      "Accuracy =  0.9930452815396482\n",
      "Precision =  0.993103145470564\n",
      "Recall =  0.9930452815396482\n",
      "F1 Score =  0.9929876526833379\n"
     ]
    }
   ],
   "source": [
    "from sklearn.metrics import accuracy_score, precision_score, recall_score, f1_score\n",
    "from sklearn.naive_bayes import GaussianNB\n",
    "\n",
    "nb = GaussianNB()\n",
    "nb.fit(X_train,y_train)\n",
    "y_pred_nb = nb.predict(X_test)\n",
    "\n",
    "accuracy_nbc = accuracy_score(y_test, y_pred_nb)\n",
    "print('Accuracy = ', accuracy_nbc)\n",
    "precision_nbc = precision_score(y_test,y_pred_nb,average=\"weighted\")\n",
    "print ('Precision = ', precision_nbc)\n",
    "recall_nbc = recall_score(y_test,y_pred_nb,average=\"weighted\")\n",
    "print ('Recall = ', recall_nbc)\n",
    "f1_score_nbc = f1_score(y_test,y_pred_nb,average=\"weighted\")\n",
    "print ('F1 Score = ', f1_score_nbc)"
   ]
  },
  {
   "cell_type": "code",
   "execution_count": 251,
   "metadata": {
    "colab": {
     "base_uri": "https://localhost:8080/"
    },
    "id": "yvp9nt6uXyjb",
    "outputId": "8c969e13-8332-4ed0-b60e-d44f05190484"
   },
   "outputs": [
    {
     "name": "stdout",
     "output_type": "stream",
     "text": [
      "[1 1 1 ... 0 1 1]\n"
     ]
    }
   ],
   "source": []
  },
  {
   "cell_type": "code",
   "execution_count": null,
   "metadata": {
    "id": "KuQ1AQ4WX4F2"
   },
   "outputs": [],
   "source": []
  }
 ],
 "metadata": {
  "colab": {
   "provenance": []
  },
  "kernelspec": {
   "display_name": "Python 3 (ipykernel)",
   "language": "python",
   "name": "python3"
  },
  "language_info": {
   "codemirror_mode": {
    "name": "ipython",
    "version": 3
   },
   "file_extension": ".py",
   "mimetype": "text/x-python",
   "name": "python",
   "nbconvert_exporter": "python",
   "pygments_lexer": "ipython3",
   "version": "3.9.19"
  }
 },
 "nbformat": 4,
 "nbformat_minor": 4
}
